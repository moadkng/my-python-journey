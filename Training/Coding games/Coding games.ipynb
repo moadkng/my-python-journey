{
 "cells": [
  {
   "cell_type": "markdown",
   "metadata": {},
   "source": [
    "<font size=\"5\"><b> Print format: </b></font>"
   ]
  },
  {
   "cell_type": "code",
   "execution_count": null,
   "metadata": {},
   "outputs": [],
   "source": [
    "a = \"phrase 1\"\n",
    "b = \"phrase 2\"\n",
    "\n",
    "print(\"Hello my name is {} and '{}!'\".format(a,b))"
   ]
  },
  {
   "cell_type": "markdown",
   "metadata": {},
   "source": [
    "<font size=\"5\"><b> Handling inputs: </b></font>"
   ]
  },
  {
   "cell_type": "code",
   "execution_count": 47,
   "metadata": {
    "scrolled": true
   },
   "outputs": [
    {
     "name": "stdout",
     "output_type": "stream",
     "text": [
      "3\n",
      "3 4 5\n",
      "5\n"
     ]
    }
   ],
   "source": [
    "n = int(input())\n",
    "for i in input().split():\n",
    "    v = int(i)\n",
    "print(v)"
   ]
  },
  {
   "cell_type": "markdown",
   "metadata": {},
   "source": [
    "<font size=\"5\"><b> Multiples of 4: </b></font>"
   ]
  },
  {
   "cell_type": "code",
   "execution_count": 6,
   "metadata": {},
   "outputs": [
    {
     "name": "stdout",
     "output_type": "stream",
     "text": [
      "6\n"
     ]
    }
   ],
   "source": [
    "#Method 1\n",
    "\n",
    "a = 1800\n",
    "b = 2400\n",
    "\n",
    "counter = 0\n",
    "for i in range(a,b):\n",
    "    if i%4==0:\n",
    "        if i%100==0:\n",
    "            counter = counter + 1\n",
    "print(counter)"
   ]
  },
  {
   "cell_type": "code",
   "execution_count": null,
   "metadata": {},
   "outputs": [],
   "source": [
    "a = 1801"
   ]
  },
  {
   "cell_type": "code",
   "execution_count": 18,
   "metadata": {},
   "outputs": [
    {
     "name": "stdout",
     "output_type": "stream",
     "text": [
      "48\n"
     ]
    }
   ],
   "source": [
    "#Method 2\n",
    "\n",
    "a = sum([1 for i in range(1000,1200)if(i%4==0 and i%100)or i%400==0])\n",
    "print(a)"
   ]
  },
  {
   "cell_type": "markdown",
   "metadata": {},
   "source": [
    "<font size=\"5\"><b> BMC calculation: </b></font>"
   ]
  },
  {
   "cell_type": "code",
   "execution_count": 30,
   "metadata": {},
   "outputs": [
    {
     "name": "stdout",
     "output_type": "stream",
     "text": [
      "22.2 Normal\n"
     ]
    }
   ],
   "source": [
    "weight = 155\n",
    "feet = 5\n",
    "inches = 10\n",
    "\n",
    "height = feet * 12 + inches\n",
    "\n",
    "bmi = 703 * int(weight) / (int(height)*int(height))\n",
    "\n",
    "if bmi<18.5:\n",
    "    result = \"Underweight\"\n",
    "if 18.5<=bmi<=24.9:\n",
    "    result = \"Normal\"\n",
    "if 25.0<=bmi<=29.9:\n",
    "    result = \"Overweight\"\n",
    "if 30.0<=bmi:\n",
    "    result = \"Obese\"\n",
    "    \n",
    "bmi = round(bmi,1)\n",
    "\n",
    "print(bmi,result)"
   ]
  },
  {
   "cell_type": "markdown",
   "metadata": {},
   "source": [
    "<font size=\"5\"><b> Ball rebound: </b></font>"
   ]
  },
  {
   "cell_type": "code",
   "execution_count": 32,
   "metadata": {},
   "outputs": [
    {
     "name": "stdout",
     "output_type": "stream",
     "text": [
      "321\n"
     ]
    }
   ],
   "source": [
    "h = 5\n",
    "\n",
    "i = 1\n",
    "c = 1\n",
    "while c != h:\n",
    "    c = i/64\n",
    "    i = i + 1\n",
    "\n",
    "print(i-1)"
   ]
  },
  {
   "cell_type": "markdown",
   "metadata": {},
   "source": [
    "<font size=\"5\"><b> Snail wall: </b></font>"
   ]
  },
  {
   "cell_type": "code",
   "execution_count": 39,
   "metadata": {
    "scrolled": true
   },
   "outputs": [
    {
     "name": "stdout",
     "output_type": "stream",
     "text": [
      "8\n"
     ]
    }
   ],
   "source": [
    "d = 10\n",
    "x = 3\n",
    "y = 2\n",
    "\n",
    "dist = 0\n",
    "days = 1\n",
    "while dist<=d:\n",
    "    dist = dist + x\n",
    "    if dist>=d:\n",
    "        break\n",
    "    else:\n",
    "        dist = dist - y\n",
    "        days = days + 1\n",
    "print(days)"
   ]
  },
  {
   "cell_type": "markdown",
   "metadata": {},
   "source": [
    "<font size=\"5\"><b> Mountain destroyer: </b></font>"
   ]
  },
  {
   "cell_type": "code",
   "execution_count": 51,
   "metadata": {},
   "outputs": [
    {
     "name": "stdout",
     "output_type": "stream",
     "text": [
      "1\n",
      "2\n",
      "3\n",
      "4\n",
      "5\n",
      "6\n",
      "7\n",
      "8\n"
     ]
    },
    {
     "data": {
      "text/plain": [
       "[1, 2, 3, 4, 5, 6, 7, 8]"
      ]
     },
     "execution_count": 51,
     "metadata": {},
     "output_type": "execute_result"
    }
   ],
   "source": [
    "import pandas as pd\n",
    "\n",
    "heights = []\n",
    "\n",
    "for i in range(8):\n",
    "    mountain_h = int(input())\n",
    "    heights.append(mountain_h)\n",
    "    \n",
    "heights"
   ]
  },
  {
   "cell_type": "code",
   "execution_count": 56,
   "metadata": {
    "scrolled": true
   },
   "outputs": [
    {
     "data": {
      "text/plain": [
       "1"
      ]
     },
     "execution_count": 56,
     "metadata": {},
     "output_type": "execute_result"
    }
   ],
   "source": [
    "a = min(heights,key=abs)\n",
    "a"
   ]
  },
  {
   "cell_type": "code",
   "execution_count": 13,
   "metadata": {},
   "outputs": [
    {
     "name": "stdout",
     "output_type": "stream",
     "text": [
      "9\n"
     ]
    }
   ],
   "source": [
    "n = 6\n",
    "result = 0\n",
    "for i in range(1,n+1):\n",
    "    if i % 2 != 0:\n",
    "        result += i\n",
    "print(result)"
   ]
  },
  {
   "cell_type": "code",
   "execution_count": 32,
   "metadata": {},
   "outputs": [
    {
     "name": "stdout",
     "output_type": "stream",
     "text": [
      "9\n"
     ]
    }
   ],
   "source": [
    "\n",
    "def solve(n):\n",
    "    if n == 0:\n",
    "        return 0\n",
    "    sum = 1\n",
    "    count = 0\n",
    "    temp = 1\n",
    "    while(count<n-1):\n",
    "        temp += 2\n",
    "        sum += temp\n",
    "        count += 1\n",
    "    \n",
    "    return sum\n",
    "    \n",
    "print(solve(3))"
   ]
  },
  {
   "cell_type": "markdown",
   "metadata": {},
   "source": [
    "<font size=\"5\"><b> DNA chain: </b></font>"
   ]
  },
  {
   "cell_type": "code",
   "execution_count": 33,
   "metadata": {},
   "outputs": [
    {
     "name": "stdout",
     "output_type": "stream",
     "text": [
      "AGT\n",
      "TCA\n"
     ]
    }
   ],
   "source": [
    "#Method 1\n",
    "\n",
    "dna = input()\n",
    "\n",
    "result = \"\"\n",
    "for i in dna:\n",
    "    if i == \"A\":\n",
    "        i = \"T\"\n",
    "    elif i == \"C\":\n",
    "        i = \"G\"\n",
    "    elif i == \"T\":\n",
    "        i = \"A\"\n",
    "    else:\n",
    "        i = \"C\"\n",
    "    \n",
    "    result = result + i\n",
    "\n",
    "print(result)"
   ]
  },
  {
   "cell_type": "code",
   "execution_count": 34,
   "metadata": {
    "scrolled": true
   },
   "outputs": [
    {
     "name": "stdout",
     "output_type": "stream",
     "text": [
      "ACG\n",
      "TGC"
     ]
    }
   ],
   "source": [
    "#Method 2\n",
    "\n",
    "import sys\n",
    "import math\n",
    "\n",
    "d = {\"A\":\"T\",\"C\":\"G\",\"G\":\"C\",\"T\":\"A\"}\n",
    "dna = input()\n",
    "\n",
    "\n",
    "for i in dna:\n",
    "    print(end=d[i])"
   ]
  },
  {
   "cell_type": "code",
   "execution_count": 50,
   "metadata": {},
   "outputs": [
    {
     "data": {
      "text/plain": [
       "'T'"
      ]
     },
     "execution_count": 50,
     "metadata": {},
     "output_type": "execute_result"
    }
   ],
   "source": [
    "d[\"A\"]"
   ]
  },
  {
   "cell_type": "code",
   "execution_count": 42,
   "metadata": {
    "scrolled": true
   },
   "outputs": [
    {
     "name": "stdout",
     "output_type": "stream",
     "text": [
      "A\n",
      "C\n",
      "G\n",
      "T\n"
     ]
    }
   ],
   "source": [
    "d = {\"A\":\"T\",\"C\":\"G\",\"G\":\"C\",\"T\":\"A\"}\n",
    "for i in d:\n",
    "    print (i)"
   ]
  },
  {
   "cell_type": "code",
   "execution_count": null,
   "metadata": {},
   "outputs": [],
   "source": [
    "#Method 3\n",
    "\n",
    "dna = input()\n",
    "\n",
    "\n",
    "print(dna.translate({ord('A'):'T',ord('T'):'A',ord('C'):'G',ord('G'):'C',}))"
   ]
  },
  {
   "cell_type": "markdown",
   "metadata": {},
   "source": [
    "<font size=\"5\"><b> Sum of first N odd Numbers: </b></font>"
   ]
  },
  {
   "cell_type": "code",
   "execution_count": 73,
   "metadata": {},
   "outputs": [
    {
     "name": "stdout",
     "output_type": "stream",
     "text": [
      "5\n",
      "9\n"
     ]
    }
   ],
   "source": [
    "#Method 1\n",
    "\n",
    "n = int(input())\n",
    "sum = 0\n",
    "for i in range(1,n+1,2): #start, end and step\n",
    "    sum += i\n",
    "print(sum)"
   ]
  },
  {
   "cell_type": "code",
   "execution_count": 78,
   "metadata": {
    "scrolled": false
   },
   "outputs": [
    {
     "name": "stdout",
     "output_type": "stream",
     "text": [
      "5\n"
     ]
    },
    {
     "data": {
      "text/plain": [
       "9"
      ]
     },
     "execution_count": 78,
     "metadata": {},
     "output_type": "execute_result"
    }
   ],
   "source": [
    "n = int(input())\n",
    "sum = 0\n",
    "for i in range(1,n+1,2): #start, end and step\n",
    "    sum = sum + i\n",
    "sum"
   ]
  },
  {
   "cell_type": "code",
   "execution_count": 65,
   "metadata": {},
   "outputs": [
    {
     "name": "stdout",
     "output_type": "stream",
     "text": [
      "5\n",
      "25\n"
     ]
    }
   ],
   "source": [
    "#Method 2\n",
    "\n",
    "print(int(input())**2)"
   ]
  },
  {
   "cell_type": "markdown",
   "metadata": {},
   "source": [
    "<font size=\"5\"><b> Check if a word is a palendrome: </b></font>"
   ]
  },
  {
   "cell_type": "code",
   "execution_count": 153,
   "metadata": {},
   "outputs": [
    {
     "name": "stdout",
     "output_type": "stream",
     "text": [
      "radar is a palendrome. 1 palendromes have been found so far.\n",
      "civic is a palendrome. 2 palendromes have been found so far.\n",
      "taco cat is a palendrome. 3 palendromes have been found so far.\n",
      "hard work is not a palendrome. 3 palendromes have been found so far.\n",
      "test is not a palendrome. 3 palendromes have been found so far.\n",
      "noon is a palendrome. 4 palendromes have been found so far.\n",
      "give me water is not a palendrome. 4 palendromes have been found so far.\n",
      "was it a car or a cat i saw is a palendrome. 5 palendromes have been found so far.\n"
     ]
    }
   ],
   "source": [
    "lst = [\"radar\",\"civic\",\"taco cat\",\"hard work\",\"test\",\"noon\",\"give me water\",\"was it a car or a cat i saw\"]\n",
    "\n",
    "counter = 0\n",
    "for word in lst:\n",
    "    test=\"\"\n",
    "    for i in reversed(word):\n",
    "        if i !=\" \":\n",
    "            test +=i\n",
    "    if word.replace(\" \",\"\") == test:\n",
    "        counter += 1\n",
    "        print(\"{} is a palendrome. {} palendromes have been found so far.\".format(word,counter),end=\"\\n\")\n",
    "    else:\n",
    "        print(\"{} is not a palendrome. {} palendromes have been found so far.\".format(word,counter),end=\"\\n\")"
   ]
  },
  {
   "cell_type": "markdown",
   "metadata": {},
   "source": [
    "<font size=\"5\"><b> Last digit of a power raised integer: </b></font>"
   ]
  },
  {
   "cell_type": "code",
   "execution_count": 13,
   "metadata": {},
   "outputs": [
    {
     "name": "stdout",
     "output_type": "stream",
     "text": [
      "3\n",
      "5\n",
      "3\n"
     ]
    }
   ],
   "source": [
    "#Methode 1\n",
    "\n",
    "n = int(input())\n",
    "p = int(input())\n",
    "\n",
    "result = n ** p\n",
    "\n",
    "print(str(result)[len(str(result))-1])"
   ]
  },
  {
   "cell_type": "code",
   "execution_count": 16,
   "metadata": {},
   "outputs": [
    {
     "name": "stdout",
     "output_type": "stream",
     "text": [
      "3\n",
      "5\n",
      "3\n"
     ]
    }
   ],
   "source": [
    "#Methode 2\n",
    "\n",
    "n = int(input())\n",
    "p = int(input())\n",
    "\n",
    "result = n ** p\n",
    "result = str(result)\n",
    "\n",
    "print(result[-1])"
   ]
  },
  {
   "cell_type": "markdown",
   "metadata": {},
   "source": [
    "<font size=\"5\"><b> Chemistry acid oxides: </b></font>"
   ]
  },
  {
   "cell_type": "code",
   "execution_count": 30,
   "metadata": {
    "scrolled": true
   },
   "outputs": [
    {
     "name": "stdout",
     "output_type": "stream",
     "text": [
      "1 carbon\n",
      "2\n",
      "carbon dioxide\n"
     ]
    }
   ],
   "source": [
    "#Method 1\n",
    "\n",
    "inputs = input().split()\n",
    "nonmetal_num = int(inputs[0])\n",
    "nonmetal = inputs[1]\n",
    "oxide_num = int(input())\n",
    "\n",
    "a = \"\"\n",
    "if nonmetal_num == 1:\n",
    "    a = nonmetal\n",
    "elif nonmetal_num == 2:\n",
    "    a = \"di\" + nonmetal\n",
    "elif nonmetal_num == 3:\n",
    "    a = \"tri\" + nonmetal\n",
    "elif nonmetal_num == 4:\n",
    "    a = \"tetr\" + nonmetal\n",
    "elif nonmetal_num == 5:\n",
    "    a = \"pent\" + nonmetal\n",
    "\n",
    "b = \"\"\n",
    "if oxide_num == 1:\n",
    "    b = \"mon\" + \"oxide\"\n",
    "elif oxide_num == 2:\n",
    "    b = \"di\" + \"oxide\"\n",
    "elif oxide_num == 3:\n",
    "    b = \"tri\" + \"oxide\"\n",
    "elif oxide_num == 4:\n",
    "    b = \"tetr\" + \"oxide\"\n",
    "elif oxide_num == 5:\n",
    "    b = \"pent\" + \"oxide\"\n",
    "\n",
    "print(a,b)"
   ]
  },
  {
   "cell_type": "markdown",
   "metadata": {},
   "source": [
    "<font size=\"5\"><b> Tall numbers: </b></font>"
   ]
  },
  {
   "cell_type": "code",
   "execution_count": 48,
   "metadata": {
    "scrolled": true
   },
   "outputs": [
    {
     "name": "stdout",
     "output_type": "stream",
     "text": [
      "123456\n",
      "6   5\n",
      "5   4\n",
      "4   3\n",
      "3   2\n",
      "2   1\n",
      "true\n"
     ]
    }
   ],
   "source": [
    "n = int(input())\n",
    "w = str(n)\n",
    "\n",
    "answer = \"true\"\n",
    "for i in range(len(w)-1,0,-1):\n",
    "    print(int(w[i]),\" \",w[i - 1])\n",
    "    if int(w[i]) < int(w[i - 1]):\n",
    "        answer = \"false\"\n",
    "\n",
    "print(answer)"
   ]
  },
  {
   "cell_type": "markdown",
   "metadata": {},
   "source": [
    "<font size=\"5\"><b> Get the uppercase characters: </b></font>"
   ]
  },
  {
   "cell_type": "code",
   "execution_count": 64,
   "metadata": {},
   "outputs": [
    {
     "name": "stdout",
     "output_type": "stream",
     "text": [
      "ANYCHAR\n"
     ]
    }
   ],
   "source": [
    "#Method 1\n",
    "\n",
    "str = \".2A1N5Y64! §C*H*zAtrR\"\n",
    "\n",
    "result =\"\"\n",
    "for i in str:\n",
    "    if i.isupper() == True:\n",
    "        result += i\n",
    "\n",
    "print(result)"
   ]
  },
  {
   "cell_type": "code",
   "execution_count": 65,
   "metadata": {},
   "outputs": [
    {
     "name": "stdout",
     "output_type": "stream",
     "text": [
      ".2A1N5Y64! §C*H*zAtrR\n",
      "ANYCHAR"
     ]
    }
   ],
   "source": [
    "#Method 2\n",
    "\n",
    "s = input()\n",
    "for i in s:\n",
    "    if i.isupper():\n",
    "        print(i, end=(\"\"))"
   ]
  },
  {
   "cell_type": "markdown",
   "metadata": {},
   "source": [
    "<font size=\"5\"><b> Short code for integer is divisible by 4:</b></font>"
   ]
  },
  {
   "cell_type": "code",
   "execution_count": 71,
   "metadata": {},
   "outputs": [
    {
     "name": "stdout",
     "output_type": "stream",
     "text": [
      "40\n",
      "AAAAAAAAAA!!!\n"
     ]
    }
   ],
   "source": [
    "#Method 1\n",
    "\n",
    "print('Ok' if int(input()) % 4 != 0 else'AAAAAAAAAA!!!')"
   ]
  },
  {
   "cell_type": "code",
   "execution_count": 70,
   "metadata": {},
   "outputs": [
    {
     "name": "stdout",
     "output_type": "stream",
     "text": [
      "40\n",
      "AAAAAAAAAA!!!\n"
     ]
    }
   ],
   "source": [
    "#Method 2\n",
    "\n",
    "n = int(input())\n",
    "\n",
    "if n % 4 != 0:\n",
    "    print(\"Ok\")\n",
    "else:\n",
    "    print(\"AAAAAAAAAA!!!\")"
   ]
  },
  {
   "cell_type": "markdown",
   "metadata": {},
   "source": [
    "<font size=\"5\"><b> Convert hh:mm in minutes:</b></font>"
   ]
  },
  {
   "cell_type": "code",
   "execution_count": 85,
   "metadata": {},
   "outputs": [
    {
     "name": "stdout",
     "output_type": "stream",
     "text": [
      "13:32\n",
      "812\n"
     ]
    }
   ],
   "source": [
    "duration = input()\n",
    "\n",
    "result = int(duration[:2])*60 + int(duration[3:])*1\n",
    "\n",
    "print(result)"
   ]
  },
  {
   "cell_type": "markdown",
   "metadata": {},
   "source": [
    "<font size=\"5\"><b> Count the number of alphabetical characters:</b></font>"
   ]
  },
  {
   "cell_type": "code",
   "execution_count": 88,
   "metadata": {},
   "outputs": [
    {
     "name": "stdout",
     "output_type": "stream",
     "text": [
      "saka ù s$ zd\n",
      "8\n"
     ]
    }
   ],
   "source": [
    "message = input()\n",
    "\n",
    "result = 0\n",
    "for i in message:\n",
    "    if i.isalpha():\n",
    "        result += 1\n",
    "\n",
    "print(result)"
   ]
  },
  {
   "cell_type": "markdown",
   "metadata": {},
   "source": [
    "<font size=\"5\"><b> Minimize the absolute difference:</b></font>"
   ]
  },
  {
   "cell_type": "code",
   "execution_count": 38,
   "metadata": {},
   "outputs": [
    {
     "name": "stdout",
     "output_type": "stream",
     "text": [
      "156\n",
      "13 12 1\n"
     ]
    }
   ],
   "source": [
    "#Method 1\n",
    "\n",
    "import math\n",
    "\n",
    "n = int(input())\n",
    "factors = []\n",
    "result = []\n",
    "\n",
    "def is_square(i: int) -> bool:\n",
    "    return i == math.isqrt(i) ** 2\n",
    "\n",
    "if is_square(n):\n",
    "    print(0)\n",
    "else:\n",
    "    for i in range (1,n+1):\n",
    "        if n % i == 0:\n",
    "            factors.append(i)\n",
    "            result.append(int(n/i))\n",
    "\n",
    "answ = []\n",
    "small = abs(result[0] - factors[0])\n",
    "\n",
    "for i in range(0, len(factors)-1):\n",
    "    \n",
    "    if (abs(result[i] - factors[i])) < small:\n",
    "        small = abs((result[i] - factors[i]))\n",
    "        answ = [result[i], factors[i]]\n",
    "            \n",
    "\n",
    "print(answ[0],answ[1],abs(answ[1]-answ[0]))"
   ]
  },
  {
   "cell_type": "code",
   "execution_count": 36,
   "metadata": {},
   "outputs": [
    {
     "name": "stdout",
     "output_type": "stream",
     "text": [
      "156\n",
      "1\n"
     ]
    }
   ],
   "source": [
    "#Method 2\n",
    "\n",
    "n = int(input())\n",
    "\n",
    "def f(val):\n",
    "    return [(i, val / i) for i in range(1, int(val**0.5)+1) if val % i == 0]\n",
    "\n",
    "diff=[]\n",
    "for i in f(n):\n",
    "    diff.append(abs(i[0]-i[1]))\n",
    "print(int(min(diff)))"
   ]
  },
  {
   "cell_type": "markdown",
   "metadata": {},
   "source": [
    "<font size=\"5\"><b> Decode integers to alphabetical letters:</b></font>"
   ]
  },
  {
   "cell_type": "code",
   "execution_count": 42,
   "metadata": {},
   "outputs": [
    {
     "data": {
      "text/plain": [
       "'how are you'"
      ]
     },
     "execution_count": 42,
     "metadata": {},
     "output_type": "execute_result"
    }
   ],
   "source": [
    "ints = [18, 11, 3, -1, 25, 8, 21, -1, 1, 11, 5]\n",
    "\n",
    "#n = int(input())\n",
    "#ints = []\n",
    "#for i in range(n):\n",
    "    #e = int(input())\n",
    "    #ints.append(e)\n",
    "\n",
    "alphabet = [\"a\",\"b\",\"c\",\"d\",\"e\",\"f\",\"g\",\"h\",\"i\",\"j\",\"k\",\"l\",\"m\",\"n\",\"o\",\"p\",\"q\",\"r\",\"s\",\"t\",\"u\",\"v\",\"w\",\"x\",\"y\",\"z\"]\n",
    "\n",
    "message = \"\"\n",
    "for i in ints:\n",
    "    if i == -1:\n",
    "        message += \" \"\n",
    "    else:\n",
    "        pos = len(alphabet) - 1  - i\n",
    "        message += alphabet[pos]\n",
    "\n",
    "message"
   ]
  },
  {
   "cell_type": "markdown",
   "metadata": {},
   "source": [
    "<font size=\"5\"><b> Video game turn by turn:</b></font>"
   ]
  },
  {
   "cell_type": "code",
   "execution_count": 46,
   "metadata": {},
   "outputs": [
    {
     "name": "stdout",
     "output_type": "stream",
     "text": [
      "12 3\n",
      "23 2\n",
      "2 6\n"
     ]
    }
   ],
   "source": [
    "#Method 1\n",
    "\n",
    "hp1, d1 = [int(i) for i in input().split()]\n",
    "hp2, d2 = [int(i) for i in input().split()]\n",
    "\n",
    "tours = 0\n",
    "while hp1 > 0 and hp2 > 0:\n",
    "    hp1 = hp1 - d2\n",
    "    hp2 = hp2 - d1\n",
    "    tours += 1\n",
    "    \n",
    "if hp1 > hp2:\n",
    "    winner = 1\n",
    "else:\n",
    "    winner = 2\n",
    "\n",
    "print(winner,tours)"
   ]
  },
  {
   "cell_type": "code",
   "execution_count": 47,
   "metadata": {},
   "outputs": [
    {
     "name": "stdout",
     "output_type": "stream",
     "text": [
      "12 3\n",
      "23 2\n",
      "2 6\n"
     ]
    }
   ],
   "source": [
    "#Method 2\n",
    "\n",
    "hp1,d1=list(map(int,input().split()))\n",
    "hp2,d2=list(map(int,input().split()))\n",
    "\n",
    "w,c=0,0\n",
    "\n",
    "while hp1>0 and hp2>0:\n",
    "    hp1-=d2\n",
    "    hp2-=d1\n",
    "    w=2 if hp1<=0 else 1\n",
    "    c+=1\n",
    "    \n",
    "print(f\"{w} {c}\")"
   ]
  }
 ],
 "metadata": {
  "kernelspec": {
   "display_name": "Python 3",
   "language": "python",
   "name": "python3"
  },
  "language_info": {
   "codemirror_mode": {
    "name": "ipython",
    "version": 3
   },
   "file_extension": ".py",
   "mimetype": "text/x-python",
   "name": "python",
   "nbconvert_exporter": "python",
   "pygments_lexer": "ipython3",
   "version": "3.8.5"
  }
 },
 "nbformat": 4,
 "nbformat_minor": 4
}
