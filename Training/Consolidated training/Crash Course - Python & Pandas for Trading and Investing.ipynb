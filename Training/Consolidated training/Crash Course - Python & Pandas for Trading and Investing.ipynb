{
 "cells": [
  {
   "cell_type": "code",
   "execution_count": 1,
   "metadata": {},
   "outputs": [],
   "source": [
    "#https://mitchellrosenthalofficial.medium.com/crash-course-python-pandas-for-trading-and-investing-part-1-714b77dfdc21"
   ]
  },
  {
   "cell_type": "code",
   "execution_count": 2,
   "metadata": {},
   "outputs": [],
   "source": [
    "import pandas as pd\n",
    "import numpy as np\n",
    "import matplotlib.pyplot as plt\n",
    "import math\n",
    "import statistics\n",
    "import scipy.stats as stats\n",
    "import re\n",
    "from datetime import datetime\n",
    "from datetime import date\n",
    "import random\n",
    "import seaborn as sns\n",
    "sns.set()"
   ]
  },
  {
   "cell_type": "code",
   "execution_count": 3,
   "metadata": {},
   "outputs": [],
   "source": [
    "pd.set_option('display.max_rows', None)\n",
    "pd.set_option('display.max_columns', None)\n",
    "pd.set_option('display.width', None)\n",
    "pd.set_option('display.max_colwidth', None)"
   ]
  },
  {
   "cell_type": "code",
   "execution_count": 4,
   "metadata": {},
   "outputs": [],
   "source": [
    "our_index = pd.date_range(start='2019-12-31', end='2021-07-30', freq='D')"
   ]
  },
  {
   "cell_type": "code",
   "execution_count": 5,
   "metadata": {},
   "outputs": [],
   "source": [
    "df = pd.DataFrame(index = our_index)"
   ]
  },
  {
   "cell_type": "code",
   "execution_count": 6,
   "metadata": {},
   "outputs": [
    {
     "data": {
      "text/html": [
       "<div>\n",
       "<style scoped>\n",
       "    .dataframe tbody tr th:only-of-type {\n",
       "        vertical-align: middle;\n",
       "    }\n",
       "\n",
       "    .dataframe tbody tr th {\n",
       "        vertical-align: top;\n",
       "    }\n",
       "\n",
       "    .dataframe thead th {\n",
       "        text-align: right;\n",
       "    }\n",
       "</style>\n",
       "<table border=\"1\" class=\"dataframe\">\n",
       "  <thead>\n",
       "    <tr style=\"text-align: right;\">\n",
       "      <th></th>\n",
       "    </tr>\n",
       "  </thead>\n",
       "  <tbody>\n",
       "    <tr>\n",
       "      <th>2019-12-31</th>\n",
       "    </tr>\n",
       "    <tr>\n",
       "      <th>2020-01-01</th>\n",
       "    </tr>\n",
       "    <tr>\n",
       "      <th>2020-01-02</th>\n",
       "    </tr>\n",
       "    <tr>\n",
       "      <th>2020-01-03</th>\n",
       "    </tr>\n",
       "    <tr>\n",
       "      <th>2020-01-04</th>\n",
       "    </tr>\n",
       "  </tbody>\n",
       "</table>\n",
       "</div>"
      ],
      "text/plain": [
       "Empty DataFrame\n",
       "Columns: []\n",
       "Index: [2019-12-31 00:00:00, 2020-01-01 00:00:00, 2020-01-02 00:00:00, 2020-01-03 00:00:00, 2020-01-04 00:00:00]"
      ]
     },
     "execution_count": 6,
     "metadata": {},
     "output_type": "execute_result"
    }
   ],
   "source": [
    "df.head()"
   ]
  },
  {
   "cell_type": "code",
   "execution_count": 7,
   "metadata": {},
   "outputs": [
    {
     "data": {
      "text/html": [
       "<div>\n",
       "<style scoped>\n",
       "    .dataframe tbody tr th:only-of-type {\n",
       "        vertical-align: middle;\n",
       "    }\n",
       "\n",
       "    .dataframe tbody tr th {\n",
       "        vertical-align: top;\n",
       "    }\n",
       "\n",
       "    .dataframe thead th {\n",
       "        text-align: right;\n",
       "    }\n",
       "</style>\n",
       "<table border=\"1\" class=\"dataframe\">\n",
       "  <thead>\n",
       "    <tr style=\"text-align: right;\">\n",
       "      <th></th>\n",
       "    </tr>\n",
       "  </thead>\n",
       "  <tbody>\n",
       "    <tr>\n",
       "      <th>2021-07-26</th>\n",
       "    </tr>\n",
       "    <tr>\n",
       "      <th>2021-07-27</th>\n",
       "    </tr>\n",
       "    <tr>\n",
       "      <th>2021-07-28</th>\n",
       "    </tr>\n",
       "    <tr>\n",
       "      <th>2021-07-29</th>\n",
       "    </tr>\n",
       "    <tr>\n",
       "      <th>2021-07-30</th>\n",
       "    </tr>\n",
       "  </tbody>\n",
       "</table>\n",
       "</div>"
      ],
      "text/plain": [
       "Empty DataFrame\n",
       "Columns: []\n",
       "Index: [2021-07-26 00:00:00, 2021-07-27 00:00:00, 2021-07-28 00:00:00, 2021-07-29 00:00:00, 2021-07-30 00:00:00]"
      ]
     },
     "execution_count": 7,
     "metadata": {},
     "output_type": "execute_result"
    }
   ],
   "source": [
    "df.tail()"
   ]
  },
  {
   "cell_type": "code",
   "execution_count": 8,
   "metadata": {},
   "outputs": [],
   "source": [
    "mu = 0.0005\n",
    "vol = 0.015"
   ]
  },
  {
   "cell_type": "code",
   "execution_count": 9,
   "metadata": {},
   "outputs": [],
   "source": [
    "df['Daily return'] = np.random.normal(loc=mu, scale=vol, size=578)"
   ]
  },
  {
   "cell_type": "code",
   "execution_count": 10,
   "metadata": {},
   "outputs": [
    {
     "data": {
      "text/html": [
       "<div>\n",
       "<style scoped>\n",
       "    .dataframe tbody tr th:only-of-type {\n",
       "        vertical-align: middle;\n",
       "    }\n",
       "\n",
       "    .dataframe tbody tr th {\n",
       "        vertical-align: top;\n",
       "    }\n",
       "\n",
       "    .dataframe thead th {\n",
       "        text-align: right;\n",
       "    }\n",
       "</style>\n",
       "<table border=\"1\" class=\"dataframe\">\n",
       "  <thead>\n",
       "    <tr style=\"text-align: right;\">\n",
       "      <th></th>\n",
       "      <th>Daily return</th>\n",
       "    </tr>\n",
       "  </thead>\n",
       "  <tbody>\n",
       "    <tr>\n",
       "      <th>2019-12-31</th>\n",
       "      <td>0.019793</td>\n",
       "    </tr>\n",
       "    <tr>\n",
       "      <th>2020-01-01</th>\n",
       "      <td>-0.005627</td>\n",
       "    </tr>\n",
       "    <tr>\n",
       "      <th>2020-01-02</th>\n",
       "      <td>0.039761</td>\n",
       "    </tr>\n",
       "    <tr>\n",
       "      <th>2020-01-03</th>\n",
       "      <td>0.004394</td>\n",
       "    </tr>\n",
       "    <tr>\n",
       "      <th>2020-01-04</th>\n",
       "      <td>0.002601</td>\n",
       "    </tr>\n",
       "  </tbody>\n",
       "</table>\n",
       "</div>"
      ],
      "text/plain": [
       "            Daily return\n",
       "2019-12-31      0.019793\n",
       "2020-01-01     -0.005627\n",
       "2020-01-02      0.039761\n",
       "2020-01-03      0.004394\n",
       "2020-01-04      0.002601"
      ]
     },
     "execution_count": 10,
     "metadata": {},
     "output_type": "execute_result"
    }
   ],
   "source": [
    "df.head()"
   ]
  },
  {
   "cell_type": "code",
   "execution_count": 11,
   "metadata": {},
   "outputs": [
    {
     "data": {
      "text/html": [
       "<div>\n",
       "<style scoped>\n",
       "    .dataframe tbody tr th:only-of-type {\n",
       "        vertical-align: middle;\n",
       "    }\n",
       "\n",
       "    .dataframe tbody tr th {\n",
       "        vertical-align: top;\n",
       "    }\n",
       "\n",
       "    .dataframe thead th {\n",
       "        text-align: right;\n",
       "    }\n",
       "</style>\n",
       "<table border=\"1\" class=\"dataframe\">\n",
       "  <thead>\n",
       "    <tr style=\"text-align: right;\">\n",
       "      <th></th>\n",
       "      <th>Daily return</th>\n",
       "    </tr>\n",
       "  </thead>\n",
       "  <tbody>\n",
       "    <tr>\n",
       "      <th>2021-07-26</th>\n",
       "      <td>-0.005228</td>\n",
       "    </tr>\n",
       "    <tr>\n",
       "      <th>2021-07-27</th>\n",
       "      <td>0.005128</td>\n",
       "    </tr>\n",
       "    <tr>\n",
       "      <th>2021-07-28</th>\n",
       "      <td>0.007159</td>\n",
       "    </tr>\n",
       "    <tr>\n",
       "      <th>2021-07-29</th>\n",
       "      <td>0.003025</td>\n",
       "    </tr>\n",
       "    <tr>\n",
       "      <th>2021-07-30</th>\n",
       "      <td>-0.004873</td>\n",
       "    </tr>\n",
       "  </tbody>\n",
       "</table>\n",
       "</div>"
      ],
      "text/plain": [
       "            Daily return\n",
       "2021-07-26     -0.005228\n",
       "2021-07-27      0.005128\n",
       "2021-07-28      0.007159\n",
       "2021-07-29      0.003025\n",
       "2021-07-30     -0.004873"
      ]
     },
     "execution_count": 11,
     "metadata": {},
     "output_type": "execute_result"
    }
   ],
   "source": [
    "df.tail()"
   ]
  },
  {
   "cell_type": "code",
   "execution_count": 12,
   "metadata": {},
   "outputs": [],
   "source": [
    "mu = float(df.mean())\n",
    "sigma = float(df.std())\n",
    "minimum = float(df.min())\n",
    "maximum = float(df.max())\n",
    "step = (maximum - minimum) / 20"
   ]
  },
  {
   "cell_type": "code",
   "execution_count": 13,
   "metadata": {},
   "outputs": [
    {
     "data": {
      "text/plain": [
       "(0.0012226475863674952,\n",
       " 0.014744268347802143,\n",
       " -0.04179694343451171,\n",
       " 0.04277243988786754,\n",
       " 0.004228469166118963)"
      ]
     },
     "execution_count": 13,
     "metadata": {},
     "output_type": "execute_result"
    }
   ],
   "source": [
    "mu, sigma, minimum, maximum, step"
   ]
  },
  {
   "cell_type": "code",
   "execution_count": 14,
   "metadata": {},
   "outputs": [],
   "source": [
    "distribution = df[\"Daily return\"].groupby(pd.cut(df[\"Daily return\"], np.arange(minimum, maximum + step, step))).count()"
   ]
  },
  {
   "cell_type": "code",
   "execution_count": 15,
   "metadata": {},
   "outputs": [],
   "source": [
    "distribution = pd.DataFrame(distribution)"
   ]
  },
  {
   "cell_type": "code",
   "execution_count": 16,
   "metadata": {
    "scrolled": true
   },
   "outputs": [
    {
     "data": {
      "text/html": [
       "<div>\n",
       "<style scoped>\n",
       "    .dataframe tbody tr th:only-of-type {\n",
       "        vertical-align: middle;\n",
       "    }\n",
       "\n",
       "    .dataframe tbody tr th {\n",
       "        vertical-align: top;\n",
       "    }\n",
       "\n",
       "    .dataframe thead th {\n",
       "        text-align: right;\n",
       "    }\n",
       "</style>\n",
       "<table border=\"1\" class=\"dataframe\">\n",
       "  <thead>\n",
       "    <tr style=\"text-align: right;\">\n",
       "      <th></th>\n",
       "      <th>Daily return</th>\n",
       "    </tr>\n",
       "    <tr>\n",
       "      <th>Daily return</th>\n",
       "      <th></th>\n",
       "    </tr>\n",
       "  </thead>\n",
       "  <tbody>\n",
       "    <tr>\n",
       "      <th>(-0.0418, -0.0376]</th>\n",
       "      <td>0</td>\n",
       "    </tr>\n",
       "    <tr>\n",
       "      <th>(-0.0376, -0.0333]</th>\n",
       "      <td>3</td>\n",
       "    </tr>\n",
       "    <tr>\n",
       "      <th>(-0.0333, -0.0291]</th>\n",
       "      <td>8</td>\n",
       "    </tr>\n",
       "    <tr>\n",
       "      <th>(-0.0291, -0.0249]</th>\n",
       "      <td>9</td>\n",
       "    </tr>\n",
       "    <tr>\n",
       "      <th>(-0.0249, -0.0207]</th>\n",
       "      <td>17</td>\n",
       "    </tr>\n",
       "  </tbody>\n",
       "</table>\n",
       "</div>"
      ],
      "text/plain": [
       "                    Daily return\n",
       "Daily return                    \n",
       "(-0.0418, -0.0376]             0\n",
       "(-0.0376, -0.0333]             3\n",
       "(-0.0333, -0.0291]             8\n",
       "(-0.0291, -0.0249]             9\n",
       "(-0.0249, -0.0207]            17"
      ]
     },
     "execution_count": 16,
     "metadata": {},
     "output_type": "execute_result"
    }
   ],
   "source": [
    "distribution.head()"
   ]
  },
  {
   "cell_type": "code",
   "execution_count": 17,
   "metadata": {},
   "outputs": [
    {
     "data": {
      "text/html": [
       "<div>\n",
       "<style scoped>\n",
       "    .dataframe tbody tr th:only-of-type {\n",
       "        vertical-align: middle;\n",
       "    }\n",
       "\n",
       "    .dataframe tbody tr th {\n",
       "        vertical-align: top;\n",
       "    }\n",
       "\n",
       "    .dataframe thead th {\n",
       "        text-align: right;\n",
       "    }\n",
       "</style>\n",
       "<table border=\"1\" class=\"dataframe\">\n",
       "  <thead>\n",
       "    <tr style=\"text-align: right;\">\n",
       "      <th></th>\n",
       "      <th>Daily return</th>\n",
       "    </tr>\n",
       "    <tr>\n",
       "      <th>Daily return</th>\n",
       "      <th></th>\n",
       "    </tr>\n",
       "  </thead>\n",
       "  <tbody>\n",
       "    <tr>\n",
       "      <th>(0.0216, 0.0259]</th>\n",
       "      <td>20</td>\n",
       "    </tr>\n",
       "    <tr>\n",
       "      <th>(0.0259, 0.0301]</th>\n",
       "      <td>8</td>\n",
       "    </tr>\n",
       "    <tr>\n",
       "      <th>(0.0301, 0.0343]</th>\n",
       "      <td>8</td>\n",
       "    </tr>\n",
       "    <tr>\n",
       "      <th>(0.0343, 0.0385]</th>\n",
       "      <td>6</td>\n",
       "    </tr>\n",
       "    <tr>\n",
       "      <th>(0.0385, 0.0428]</th>\n",
       "      <td>4</td>\n",
       "    </tr>\n",
       "  </tbody>\n",
       "</table>\n",
       "</div>"
      ],
      "text/plain": [
       "                  Daily return\n",
       "Daily return                  \n",
       "(0.0216, 0.0259]            20\n",
       "(0.0259, 0.0301]             8\n",
       "(0.0301, 0.0343]             8\n",
       "(0.0343, 0.0385]             6\n",
       "(0.0385, 0.0428]             4"
      ]
     },
     "execution_count": 17,
     "metadata": {},
     "output_type": "execute_result"
    }
   ],
   "source": [
    "distribution.tail()"
   ]
  },
  {
   "cell_type": "code",
   "execution_count": 18,
   "metadata": {},
   "outputs": [
    {
     "data": {
      "text/html": [
       "<div>\n",
       "<style scoped>\n",
       "    .dataframe tbody tr th:only-of-type {\n",
       "        vertical-align: middle;\n",
       "    }\n",
       "\n",
       "    .dataframe tbody tr th {\n",
       "        vertical-align: top;\n",
       "    }\n",
       "\n",
       "    .dataframe thead th {\n",
       "        text-align: right;\n",
       "    }\n",
       "</style>\n",
       "<table border=\"1\" class=\"dataframe\">\n",
       "  <thead>\n",
       "    <tr style=\"text-align: right;\">\n",
       "      <th></th>\n",
       "      <th>Daily return</th>\n",
       "      <th>Frequency</th>\n",
       "    </tr>\n",
       "  </thead>\n",
       "  <tbody>\n",
       "    <tr>\n",
       "      <th>0</th>\n",
       "      <td>(-0.0418, -0.0376]</td>\n",
       "      <td>0</td>\n",
       "    </tr>\n",
       "    <tr>\n",
       "      <th>1</th>\n",
       "      <td>(-0.0376, -0.0333]</td>\n",
       "      <td>3</td>\n",
       "    </tr>\n",
       "    <tr>\n",
       "      <th>2</th>\n",
       "      <td>(-0.0333, -0.0291]</td>\n",
       "      <td>8</td>\n",
       "    </tr>\n",
       "    <tr>\n",
       "      <th>3</th>\n",
       "      <td>(-0.0291, -0.0249]</td>\n",
       "      <td>9</td>\n",
       "    </tr>\n",
       "    <tr>\n",
       "      <th>4</th>\n",
       "      <td>(-0.0249, -0.0207]</td>\n",
       "      <td>17</td>\n",
       "    </tr>\n",
       "    <tr>\n",
       "      <th>5</th>\n",
       "      <td>(-0.0207, -0.0164]</td>\n",
       "      <td>37</td>\n",
       "    </tr>\n",
       "    <tr>\n",
       "      <th>6</th>\n",
       "      <td>(-0.0164, -0.0122]</td>\n",
       "      <td>35</td>\n",
       "    </tr>\n",
       "    <tr>\n",
       "      <th>7</th>\n",
       "      <td>(-0.0122, -0.00797]</td>\n",
       "      <td>42</td>\n",
       "    </tr>\n",
       "    <tr>\n",
       "      <th>8</th>\n",
       "      <td>(-0.00797, -0.00374]</td>\n",
       "      <td>56</td>\n",
       "    </tr>\n",
       "    <tr>\n",
       "      <th>9</th>\n",
       "      <td>(-0.00374, 0.000488]</td>\n",
       "      <td>58</td>\n",
       "    </tr>\n",
       "    <tr>\n",
       "      <th>10</th>\n",
       "      <td>(0.000488, 0.00472]</td>\n",
       "      <td>73</td>\n",
       "    </tr>\n",
       "    <tr>\n",
       "      <th>11</th>\n",
       "      <td>(0.00472, 0.00894]</td>\n",
       "      <td>69</td>\n",
       "    </tr>\n",
       "    <tr>\n",
       "      <th>12</th>\n",
       "      <td>(0.00894, 0.0132]</td>\n",
       "      <td>58</td>\n",
       "    </tr>\n",
       "    <tr>\n",
       "      <th>13</th>\n",
       "      <td>(0.0132, 0.0174]</td>\n",
       "      <td>34</td>\n",
       "    </tr>\n",
       "    <tr>\n",
       "      <th>14</th>\n",
       "      <td>(0.0174, 0.0216]</td>\n",
       "      <td>32</td>\n",
       "    </tr>\n",
       "    <tr>\n",
       "      <th>15</th>\n",
       "      <td>(0.0216, 0.0259]</td>\n",
       "      <td>20</td>\n",
       "    </tr>\n",
       "    <tr>\n",
       "      <th>16</th>\n",
       "      <td>(0.0259, 0.0301]</td>\n",
       "      <td>8</td>\n",
       "    </tr>\n",
       "    <tr>\n",
       "      <th>17</th>\n",
       "      <td>(0.0301, 0.0343]</td>\n",
       "      <td>8</td>\n",
       "    </tr>\n",
       "    <tr>\n",
       "      <th>18</th>\n",
       "      <td>(0.0343, 0.0385]</td>\n",
       "      <td>6</td>\n",
       "    </tr>\n",
       "    <tr>\n",
       "      <th>19</th>\n",
       "      <td>(0.0385, 0.0428]</td>\n",
       "      <td>4</td>\n",
       "    </tr>\n",
       "  </tbody>\n",
       "</table>\n",
       "</div>"
      ],
      "text/plain": [
       "            Daily return  Frequency\n",
       "0     (-0.0418, -0.0376]          0\n",
       "1     (-0.0376, -0.0333]          3\n",
       "2     (-0.0333, -0.0291]          8\n",
       "3     (-0.0291, -0.0249]          9\n",
       "4     (-0.0249, -0.0207]         17\n",
       "5     (-0.0207, -0.0164]         37\n",
       "6     (-0.0164, -0.0122]         35\n",
       "7    (-0.0122, -0.00797]         42\n",
       "8   (-0.00797, -0.00374]         56\n",
       "9   (-0.00374, 0.000488]         58\n",
       "10   (0.000488, 0.00472]         73\n",
       "11    (0.00472, 0.00894]         69\n",
       "12     (0.00894, 0.0132]         58\n",
       "13      (0.0132, 0.0174]         34\n",
       "14      (0.0174, 0.0216]         32\n",
       "15      (0.0216, 0.0259]         20\n",
       "16      (0.0259, 0.0301]          8\n",
       "17      (0.0301, 0.0343]          8\n",
       "18      (0.0343, 0.0385]          6\n",
       "19      (0.0385, 0.0428]          4"
      ]
     },
     "execution_count": 18,
     "metadata": {},
     "output_type": "execute_result"
    }
   ],
   "source": [
    "distribution.columns = [\"Frequency\"]\n",
    "distribution.reset_index()"
   ]
  },
  {
   "cell_type": "code",
   "execution_count": 19,
   "metadata": {},
   "outputs": [
    {
     "data": {
      "image/png": "[encoded data removed]",
      "text/plain": [
       "<Figure size 432x288 with 1 Axes>"
      ]
     },
     "metadata": {},
     "output_type": "display_data"
    }
   ],
   "source": [
    "my_plot = distribution.plot.bar()"
   ]
  },
  {
   "cell_type": "code",
   "execution_count": 20,
   "metadata": {},
   "outputs": [],
   "source": [
    "df = df.rename(columns={'Daily return': 'Close'})"
   ]
  },
  {
   "cell_type": "code",
   "execution_count": 21,
   "metadata": {},
   "outputs": [],
   "source": [
    "df['Close'] = np.exp(df['Close'])\n",
    "df['Close'].iloc[0] = 50\n",
    "df['Close'] = df['Close'].cumprod()"
   ]
  },
  {
   "cell_type": "code",
   "execution_count": 22,
   "metadata": {
    "scrolled": true
   },
   "outputs": [
    {
     "data": {
      "text/plain": [
       "<matplotlib.axes._subplots.AxesSubplot at 0x21869cf2be0>"
      ]
     },
     "execution_count": 22,
     "metadata": {},
     "output_type": "execute_result"
    },
    {
     "data": {
      "image/png": "[encoded data removed]",
      "text/plain": [
       "<Figure size 504x360 with 1 Axes>"
      ]
     },
     "metadata": {},
     "output_type": "display_data"
    }
   ],
   "source": [
    "df['Close'].plot(figsize=(7,5), title='Our Fake Stock Price')"
   ]
  },
  {
   "cell_type": "code",
   "execution_count": 23,
   "metadata": {},
   "outputs": [
    {
     "data": {
      "text/plain": [
       "<matplotlib.axes._subplots.AxesSubplot at 0x21869d5aa20>"
      ]
     },
     "execution_count": 23,
     "metadata": {},
     "output_type": "execute_result"
    },
    {
     "data": {
      "image/png": "[encoded data removed]",
      "text/plain": [
       "<Figure size 504x360 with 1 Axes>"
      ]
     },
     "metadata": {},
     "output_type": "display_data"
    }
   ],
   "source": [
    "df[['Close']].plot(figsize=(7,5), title='Our Fake Stock Price')"
   ]
  },
  {
   "cell_type": "code",
   "execution_count": 24,
   "metadata": {},
   "outputs": [
    {
     "data": {
      "text/plain": [
       "<matplotlib.axes._subplots.AxesSubplot at 0x21869e56198>"
      ]
     },
     "execution_count": 24,
     "metadata": {},
     "output_type": "execute_result"
    },
    {
     "data": {
      "image/png": "[encoded data removed]",
      "text/plain": [
       "<Figure size 504x360 with 1 Axes>"
      ]
     },
     "metadata": {},
     "output_type": "display_data"
    }
   ],
   "source": [
    "df['20MA'] = df['Close'].rolling(20).mean()\n",
    "df[['Close','20MA']].plot(figsize=(7,5), title='Our Fake Stock Price')"
   ]
  },
  {
   "cell_type": "code",
   "execution_count": 25,
   "metadata": {},
   "outputs": [],
   "source": [
    "df['20MAdist'] = -1 + (df['Close'] / df['20MA'])"
   ]
  },
  {
   "cell_type": "code",
   "execution_count": 26,
   "metadata": {},
   "outputs": [
    {
     "data": {
      "image/png": "[encoded data removed]",
      "text/plain": [
       "<Figure size 504x360 with 2 Axes>"
      ]
     },
     "metadata": {},
     "output_type": "display_data"
    }
   ],
   "source": [
    "f1 = plt.figure(figsize=(7,5))\n",
    "ax1 = f1.add_subplot(2, 1, 1)\n",
    "ax2 = f1.add_subplot(2, 1, 2)\n",
    "\n",
    "df[['Close','20MA']].plot(title='Our Fake Stock Price', ax=ax1, logy=True)\n",
    "df['20MAdist'].plot(title='Distance from MA', ax=ax2)\n",
    "plt.tight_layout()"
   ]
  },
  {
   "cell_type": "code",
   "execution_count": 27,
   "metadata": {},
   "outputs": [],
   "source": [
    "df['MAsignal'] = np.where(df['Close']>df['20MA'], 1, 0)"
   ]
  },
  {
   "cell_type": "code",
   "execution_count": 28,
   "metadata": {
    "scrolled": true
   },
   "outputs": [
    {
     "data": {
      "text/html": [
       "<div>\n",
       "<style scoped>\n",
       "    .dataframe tbody tr th:only-of-type {\n",
       "        vertical-align: middle;\n",
       "    }\n",
       "\n",
       "    .dataframe tbody tr th {\n",
       "        vertical-align: top;\n",
       "    }\n",
       "\n",
       "    .dataframe thead th {\n",
       "        text-align: right;\n",
       "    }\n",
       "</style>\n",
       "<table border=\"1\" class=\"dataframe\">\n",
       "  <thead>\n",
       "    <tr style=\"text-align: right;\">\n",
       "      <th></th>\n",
       "      <th>Close</th>\n",
       "      <th>20MA</th>\n",
       "      <th>20MAdist</th>\n",
       "      <th>MAsignal</th>\n",
       "    </tr>\n",
       "  </thead>\n",
       "  <tbody>\n",
       "    <tr>\n",
       "      <th>2019-12-31</th>\n",
       "      <td>50.000000</td>\n",
       "      <td>NaN</td>\n",
       "      <td>NaN</td>\n",
       "      <td>0</td>\n",
       "    </tr>\n",
       "    <tr>\n",
       "      <th>2020-01-01</th>\n",
       "      <td>49.719434</td>\n",
       "      <td>NaN</td>\n",
       "      <td>NaN</td>\n",
       "      <td>0</td>\n",
       "    </tr>\n",
       "    <tr>\n",
       "      <th>2020-01-02</th>\n",
       "      <td>51.736150</td>\n",
       "      <td>NaN</td>\n",
       "      <td>NaN</td>\n",
       "      <td>0</td>\n",
       "    </tr>\n",
       "    <tr>\n",
       "      <th>2020-01-03</th>\n",
       "      <td>51.963987</td>\n",
       "      <td>NaN</td>\n",
       "      <td>NaN</td>\n",
       "      <td>0</td>\n",
       "    </tr>\n",
       "    <tr>\n",
       "      <th>2020-01-04</th>\n",
       "      <td>52.099319</td>\n",
       "      <td>NaN</td>\n",
       "      <td>NaN</td>\n",
       "      <td>0</td>\n",
       "    </tr>\n",
       "  </tbody>\n",
       "</table>\n",
       "</div>"
      ],
      "text/plain": [
       "                Close  20MA  20MAdist  MAsignal\n",
       "2019-12-31  50.000000   NaN       NaN         0\n",
       "2020-01-01  49.719434   NaN       NaN         0\n",
       "2020-01-02  51.736150   NaN       NaN         0\n",
       "2020-01-03  51.963987   NaN       NaN         0\n",
       "2020-01-04  52.099319   NaN       NaN         0"
      ]
     },
     "execution_count": 28,
     "metadata": {},
     "output_type": "execute_result"
    }
   ],
   "source": [
    "df.head()"
   ]
  },
  {
   "cell_type": "code",
   "execution_count": 29,
   "metadata": {},
   "outputs": [
    {
     "data": {
      "text/html": [
       "<div>\n",
       "<style scoped>\n",
       "    .dataframe tbody tr th:only-of-type {\n",
       "        vertical-align: middle;\n",
       "    }\n",
       "\n",
       "    .dataframe tbody tr th {\n",
       "        vertical-align: top;\n",
       "    }\n",
       "\n",
       "    .dataframe thead th {\n",
       "        text-align: right;\n",
       "    }\n",
       "</style>\n",
       "<table border=\"1\" class=\"dataframe\">\n",
       "  <thead>\n",
       "    <tr style=\"text-align: right;\">\n",
       "      <th></th>\n",
       "      <th>Close</th>\n",
       "      <th>20MA</th>\n",
       "      <th>20MAdist</th>\n",
       "      <th>MAsignal</th>\n",
       "    </tr>\n",
       "  </thead>\n",
       "  <tbody>\n",
       "    <tr>\n",
       "      <th>2021-07-26</th>\n",
       "      <td>98.344989</td>\n",
       "      <td>94.227939</td>\n",
       "      <td>0.043692</td>\n",
       "      <td>1</td>\n",
       "    </tr>\n",
       "    <tr>\n",
       "      <th>2021-07-27</th>\n",
       "      <td>98.850565</td>\n",
       "      <td>94.785472</td>\n",
       "      <td>0.042887</td>\n",
       "      <td>1</td>\n",
       "    </tr>\n",
       "    <tr>\n",
       "      <th>2021-07-28</th>\n",
       "      <td>99.560778</td>\n",
       "      <td>95.385717</td>\n",
       "      <td>0.043770</td>\n",
       "      <td>1</td>\n",
       "    </tr>\n",
       "    <tr>\n",
       "      <th>2021-07-29</th>\n",
       "      <td>99.862390</td>\n",
       "      <td>95.954562</td>\n",
       "      <td>0.040726</td>\n",
       "      <td>1</td>\n",
       "    </tr>\n",
       "    <tr>\n",
       "      <th>2021-07-30</th>\n",
       "      <td>99.376913</td>\n",
       "      <td>96.404835</td>\n",
       "      <td>0.030829</td>\n",
       "      <td>1</td>\n",
       "    </tr>\n",
       "  </tbody>\n",
       "</table>\n",
       "</div>"
      ],
      "text/plain": [
       "                Close       20MA  20MAdist  MAsignal\n",
       "2021-07-26  98.344989  94.227939  0.043692         1\n",
       "2021-07-27  98.850565  94.785472  0.042887         1\n",
       "2021-07-28  99.560778  95.385717  0.043770         1\n",
       "2021-07-29  99.862390  95.954562  0.040726         1\n",
       "2021-07-30  99.376913  96.404835  0.030829         1"
      ]
     },
     "execution_count": 29,
     "metadata": {},
     "output_type": "execute_result"
    }
   ],
   "source": [
    "df.tail()"
   ]
  },
  {
   "cell_type": "code",
   "execution_count": 30,
   "metadata": {},
   "outputs": [],
   "source": [
    "dfFiltered = df[df['MAsignal']==1]"
   ]
  },
  {
   "cell_type": "code",
   "execution_count": 31,
   "metadata": {
    "scrolled": true
   },
   "outputs": [
    {
     "data": {
      "text/html": [
       "<div>\n",
       "<style scoped>\n",
       "    .dataframe tbody tr th:only-of-type {\n",
       "        vertical-align: middle;\n",
       "    }\n",
       "\n",
       "    .dataframe tbody tr th {\n",
       "        vertical-align: top;\n",
       "    }\n",
       "\n",
       "    .dataframe thead th {\n",
       "        text-align: right;\n",
       "    }\n",
       "</style>\n",
       "<table border=\"1\" class=\"dataframe\">\n",
       "  <thead>\n",
       "    <tr style=\"text-align: right;\">\n",
       "      <th></th>\n",
       "      <th>Close</th>\n",
       "      <th>20MA</th>\n",
       "      <th>20MAdist</th>\n",
       "      <th>MAsignal</th>\n",
       "    </tr>\n",
       "  </thead>\n",
       "  <tbody>\n",
       "    <tr>\n",
       "      <th>2020-01-19</th>\n",
       "      <td>59.024519</td>\n",
       "      <td>53.722568</td>\n",
       "      <td>0.098691</td>\n",
       "      <td>1</td>\n",
       "    </tr>\n",
       "    <tr>\n",
       "      <th>2020-01-20</th>\n",
       "      <td>57.139453</td>\n",
       "      <td>54.079541</td>\n",
       "      <td>0.056582</td>\n",
       "      <td>1</td>\n",
       "    </tr>\n",
       "    <tr>\n",
       "      <th>2020-01-21</th>\n",
       "      <td>56.299729</td>\n",
       "      <td>54.408555</td>\n",
       "      <td>0.034759</td>\n",
       "      <td>1</td>\n",
       "    </tr>\n",
       "    <tr>\n",
       "      <th>2020-01-22</th>\n",
       "      <td>55.269462</td>\n",
       "      <td>54.585221</td>\n",
       "      <td>0.012535</td>\n",
       "      <td>1</td>\n",
       "    </tr>\n",
       "    <tr>\n",
       "      <th>2020-01-23</th>\n",
       "      <td>55.605603</td>\n",
       "      <td>54.767302</td>\n",
       "      <td>0.015307</td>\n",
       "      <td>1</td>\n",
       "    </tr>\n",
       "  </tbody>\n",
       "</table>\n",
       "</div>"
      ],
      "text/plain": [
       "                Close       20MA  20MAdist  MAsignal\n",
       "2020-01-19  59.024519  53.722568  0.098691         1\n",
       "2020-01-20  57.139453  54.079541  0.056582         1\n",
       "2020-01-21  56.299729  54.408555  0.034759         1\n",
       "2020-01-22  55.269462  54.585221  0.012535         1\n",
       "2020-01-23  55.605603  54.767302  0.015307         1"
      ]
     },
     "execution_count": 31,
     "metadata": {},
     "output_type": "execute_result"
    }
   ],
   "source": [
    "dfFiltered.head()"
   ]
  },
  {
   "cell_type": "code",
   "execution_count": 32,
   "metadata": {},
   "outputs": [
    {
     "data": {
      "text/html": [
       "<div>\n",
       "<style scoped>\n",
       "    .dataframe tbody tr th:only-of-type {\n",
       "        vertical-align: middle;\n",
       "    }\n",
       "\n",
       "    .dataframe tbody tr th {\n",
       "        vertical-align: top;\n",
       "    }\n",
       "\n",
       "    .dataframe thead th {\n",
       "        text-align: right;\n",
       "    }\n",
       "</style>\n",
       "<table border=\"1\" class=\"dataframe\">\n",
       "  <thead>\n",
       "    <tr style=\"text-align: right;\">\n",
       "      <th></th>\n",
       "      <th>Close</th>\n",
       "      <th>20MA</th>\n",
       "      <th>20MAdist</th>\n",
       "      <th>MAsignal</th>\n",
       "    </tr>\n",
       "  </thead>\n",
       "  <tbody>\n",
       "    <tr>\n",
       "      <th>2021-07-26</th>\n",
       "      <td>98.344989</td>\n",
       "      <td>94.227939</td>\n",
       "      <td>0.043692</td>\n",
       "      <td>1</td>\n",
       "    </tr>\n",
       "    <tr>\n",
       "      <th>2021-07-27</th>\n",
       "      <td>98.850565</td>\n",
       "      <td>94.785472</td>\n",
       "      <td>0.042887</td>\n",
       "      <td>1</td>\n",
       "    </tr>\n",
       "    <tr>\n",
       "      <th>2021-07-28</th>\n",
       "      <td>99.560778</td>\n",
       "      <td>95.385717</td>\n",
       "      <td>0.043770</td>\n",
       "      <td>1</td>\n",
       "    </tr>\n",
       "    <tr>\n",
       "      <th>2021-07-29</th>\n",
       "      <td>99.862390</td>\n",
       "      <td>95.954562</td>\n",
       "      <td>0.040726</td>\n",
       "      <td>1</td>\n",
       "    </tr>\n",
       "    <tr>\n",
       "      <th>2021-07-30</th>\n",
       "      <td>99.376913</td>\n",
       "      <td>96.404835</td>\n",
       "      <td>0.030829</td>\n",
       "      <td>1</td>\n",
       "    </tr>\n",
       "  </tbody>\n",
       "</table>\n",
       "</div>"
      ],
      "text/plain": [
       "                Close       20MA  20MAdist  MAsignal\n",
       "2021-07-26  98.344989  94.227939  0.043692         1\n",
       "2021-07-27  98.850565  94.785472  0.042887         1\n",
       "2021-07-28  99.560778  95.385717  0.043770         1\n",
       "2021-07-29  99.862390  95.954562  0.040726         1\n",
       "2021-07-30  99.376913  96.404835  0.030829         1"
      ]
     },
     "execution_count": 32,
     "metadata": {},
     "output_type": "execute_result"
    }
   ],
   "source": [
    "dfFiltered.tail()"
   ]
  },
  {
   "cell_type": "code",
   "execution_count": 33,
   "metadata": {},
   "outputs": [],
   "source": [
    "truedates = dfFiltered.index.tolist()"
   ]
  },
  {
   "cell_type": "code",
   "execution_count": 34,
   "metadata": {},
   "outputs": [
    {
     "data": {
      "image/png": "[encoded data removed]",
      "text/plain": [
       "<Figure size 1440x1080 with 1 Axes>"
      ]
     },
     "metadata": {},
     "output_type": "display_data"
    }
   ],
   "source": [
    "f1 = plt.figure(figsize=(20,15))\n",
    "ax1 = f1.add_subplot(1, 1, 1)\n",
    "df[['Close','20MA']].plot(title='Our Fake Stock Price', ax=ax1, logy=True)\n",
    "for x in truedates:\n",
    "    ax1.axvline(x, color='tab:green', alpha = 5, linewidth = .25,   linestyle='-')"
   ]
  },
  {
   "cell_type": "code",
   "execution_count": 35,
   "metadata": {},
   "outputs": [],
   "source": [
    "df['SignalTrue'] = np.where(df['Close']>df['20MA'], df['Close'], np.NaN)\n",
    "df['SignalFalse'] = np.where(df['Close']>df['20MA'], np.NaN, df['Close'])"
   ]
  },
  {
   "cell_type": "code",
   "execution_count": 36,
   "metadata": {},
   "outputs": [
    {
     "data": {
      "text/html": [
       "<div>\n",
       "<style scoped>\n",
       "    .dataframe tbody tr th:only-of-type {\n",
       "        vertical-align: middle;\n",
       "    }\n",
       "\n",
       "    .dataframe tbody tr th {\n",
       "        vertical-align: top;\n",
       "    }\n",
       "\n",
       "    .dataframe thead th {\n",
       "        text-align: right;\n",
       "    }\n",
       "</style>\n",
       "<table border=\"1\" class=\"dataframe\">\n",
       "  <thead>\n",
       "    <tr style=\"text-align: right;\">\n",
       "      <th></th>\n",
       "      <th>Close</th>\n",
       "      <th>20MA</th>\n",
       "      <th>20MAdist</th>\n",
       "      <th>MAsignal</th>\n",
       "      <th>SignalTrue</th>\n",
       "      <th>SignalFalse</th>\n",
       "    </tr>\n",
       "  </thead>\n",
       "  <tbody>\n",
       "    <tr>\n",
       "      <th>2019-12-31</th>\n",
       "      <td>50.000000</td>\n",
       "      <td>NaN</td>\n",
       "      <td>NaN</td>\n",
       "      <td>0</td>\n",
       "      <td>NaN</td>\n",
       "      <td>50.000000</td>\n",
       "    </tr>\n",
       "    <tr>\n",
       "      <th>2020-01-01</th>\n",
       "      <td>49.719434</td>\n",
       "      <td>NaN</td>\n",
       "      <td>NaN</td>\n",
       "      <td>0</td>\n",
       "      <td>NaN</td>\n",
       "      <td>49.719434</td>\n",
       "    </tr>\n",
       "    <tr>\n",
       "      <th>2020-01-02</th>\n",
       "      <td>51.736150</td>\n",
       "      <td>NaN</td>\n",
       "      <td>NaN</td>\n",
       "      <td>0</td>\n",
       "      <td>NaN</td>\n",
       "      <td>51.736150</td>\n",
       "    </tr>\n",
       "    <tr>\n",
       "      <th>2020-01-03</th>\n",
       "      <td>51.963987</td>\n",
       "      <td>NaN</td>\n",
       "      <td>NaN</td>\n",
       "      <td>0</td>\n",
       "      <td>NaN</td>\n",
       "      <td>51.963987</td>\n",
       "    </tr>\n",
       "    <tr>\n",
       "      <th>2020-01-04</th>\n",
       "      <td>52.099319</td>\n",
       "      <td>NaN</td>\n",
       "      <td>NaN</td>\n",
       "      <td>0</td>\n",
       "      <td>NaN</td>\n",
       "      <td>52.099319</td>\n",
       "    </tr>\n",
       "  </tbody>\n",
       "</table>\n",
       "</div>"
      ],
      "text/plain": [
       "                Close  20MA  20MAdist  MAsignal  SignalTrue  SignalFalse\n",
       "2019-12-31  50.000000   NaN       NaN         0         NaN    50.000000\n",
       "2020-01-01  49.719434   NaN       NaN         0         NaN    49.719434\n",
       "2020-01-02  51.736150   NaN       NaN         0         NaN    51.736150\n",
       "2020-01-03  51.963987   NaN       NaN         0         NaN    51.963987\n",
       "2020-01-04  52.099319   NaN       NaN         0         NaN    52.099319"
      ]
     },
     "execution_count": 36,
     "metadata": {},
     "output_type": "execute_result"
    }
   ],
   "source": [
    "df.head()"
   ]
  },
  {
   "cell_type": "code",
   "execution_count": 37,
   "metadata": {},
   "outputs": [
    {
     "data": {
      "text/html": [
       "<div>\n",
       "<style scoped>\n",
       "    .dataframe tbody tr th:only-of-type {\n",
       "        vertical-align: middle;\n",
       "    }\n",
       "\n",
       "    .dataframe tbody tr th {\n",
       "        vertical-align: top;\n",
       "    }\n",
       "\n",
       "    .dataframe thead th {\n",
       "        text-align: right;\n",
       "    }\n",
       "</style>\n",
       "<table border=\"1\" class=\"dataframe\">\n",
       "  <thead>\n",
       "    <tr style=\"text-align: right;\">\n",
       "      <th></th>\n",
       "      <th>Close</th>\n",
       "      <th>20MA</th>\n",
       "      <th>20MAdist</th>\n",
       "      <th>MAsignal</th>\n",
       "      <th>SignalTrue</th>\n",
       "      <th>SignalFalse</th>\n",
       "    </tr>\n",
       "  </thead>\n",
       "  <tbody>\n",
       "    <tr>\n",
       "      <th>2021-07-26</th>\n",
       "      <td>98.344989</td>\n",
       "      <td>94.227939</td>\n",
       "      <td>0.043692</td>\n",
       "      <td>1</td>\n",
       "      <td>98.344989</td>\n",
       "      <td>NaN</td>\n",
       "    </tr>\n",
       "    <tr>\n",
       "      <th>2021-07-27</th>\n",
       "      <td>98.850565</td>\n",
       "      <td>94.785472</td>\n",
       "      <td>0.042887</td>\n",
       "      <td>1</td>\n",
       "      <td>98.850565</td>\n",
       "      <td>NaN</td>\n",
       "    </tr>\n",
       "    <tr>\n",
       "      <th>2021-07-28</th>\n",
       "      <td>99.560778</td>\n",
       "      <td>95.385717</td>\n",
       "      <td>0.043770</td>\n",
       "      <td>1</td>\n",
       "      <td>99.560778</td>\n",
       "      <td>NaN</td>\n",
       "    </tr>\n",
       "    <tr>\n",
       "      <th>2021-07-29</th>\n",
       "      <td>99.862390</td>\n",
       "      <td>95.954562</td>\n",
       "      <td>0.040726</td>\n",
       "      <td>1</td>\n",
       "      <td>99.862390</td>\n",
       "      <td>NaN</td>\n",
       "    </tr>\n",
       "    <tr>\n",
       "      <th>2021-07-30</th>\n",
       "      <td>99.376913</td>\n",
       "      <td>96.404835</td>\n",
       "      <td>0.030829</td>\n",
       "      <td>1</td>\n",
       "      <td>99.376913</td>\n",
       "      <td>NaN</td>\n",
       "    </tr>\n",
       "  </tbody>\n",
       "</table>\n",
       "</div>"
      ],
      "text/plain": [
       "                Close       20MA  20MAdist  MAsignal  SignalTrue  SignalFalse\n",
       "2021-07-26  98.344989  94.227939  0.043692         1   98.344989          NaN\n",
       "2021-07-27  98.850565  94.785472  0.042887         1   98.850565          NaN\n",
       "2021-07-28  99.560778  95.385717  0.043770         1   99.560778          NaN\n",
       "2021-07-29  99.862390  95.954562  0.040726         1   99.862390          NaN\n",
       "2021-07-30  99.376913  96.404835  0.030829         1   99.376913          NaN"
      ]
     },
     "execution_count": 37,
     "metadata": {},
     "output_type": "execute_result"
    }
   ],
   "source": [
    "df.tail()"
   ]
  },
  {
   "cell_type": "code",
   "execution_count": 38,
   "metadata": {},
   "outputs": [
    {
     "data": {
      "text/plain": [
       "<matplotlib.axes._subplots.AxesSubplot at 0x2186ac96160>"
      ]
     },
     "execution_count": 38,
     "metadata": {},
     "output_type": "execute_result"
    },
    {
     "data": {
      "image/png": "[encoded data removed]",
      "text/plain": [
       "<Figure size 648x432 with 1 Axes>"
      ]
     },
     "metadata": {},
     "output_type": "display_data"
    }
   ],
   "source": [
    "f1 = plt.figure(figsize=(9,6))\n",
    "ax1 = f1.add_subplot(1, 1, 1)\n",
    "df[['SignalTrue','SignalFalse']].plot(title='Our Fake Stock Price', ax=ax1, logy=True)"
   ]
  },
  {
   "cell_type": "code",
   "execution_count": 39,
   "metadata": {},
   "outputs": [
    {
     "data": {
      "text/plain": [
       "<matplotlib.axes._subplots.AxesSubplot at 0x2186a31ada0>"
      ]
     },
     "execution_count": 39,
     "metadata": {},
     "output_type": "execute_result"
    },
    {
     "data": {
      "image/png": "[encoded data removed]",
      "text/plain": [
       "<Figure size 648x432 with 1 Axes>"
      ]
     },
     "metadata": {},
     "output_type": "display_data"
    }
   ],
   "source": [
    "f1 = plt.figure(figsize=(9,6))\n",
    "ax1 = f1.add_subplot(1, 1, 1)\n",
    "df[['SignalTrue']].plot(title='Our Fake Stock Price', ax=ax1, logy=True)\n",
    "df[['SignalFalse']].plot(ax=ax1, alpha=0.50, logy=True)"
   ]
  },
  {
   "cell_type": "code",
   "execution_count": 40,
   "metadata": {},
   "outputs": [],
   "source": [
    "nb = len(df.index)"
   ]
  },
  {
   "cell_type": "code",
   "execution_count": 41,
   "metadata": {},
   "outputs": [
    {
     "data": {
      "text/plain": [
       "578"
      ]
     },
     "execution_count": 41,
     "metadata": {},
     "output_type": "execute_result"
    }
   ],
   "source": [
    "nb"
   ]
  },
  {
   "cell_type": "code",
   "execution_count": 42,
   "metadata": {},
   "outputs": [],
   "source": [
    "our_index = pd.date_range(start='2019-12-31', periods=nb*24*2, freq='30T')\n",
    "df = pd.DataFrame(index = our_index)"
   ]
  },
  {
   "cell_type": "code",
   "execution_count": 43,
   "metadata": {},
   "outputs": [
    {
     "data": {
      "text/html": [
       "<div>\n",
       "<style scoped>\n",
       "    .dataframe tbody tr th:only-of-type {\n",
       "        vertical-align: middle;\n",
       "    }\n",
       "\n",
       "    .dataframe tbody tr th {\n",
       "        vertical-align: top;\n",
       "    }\n",
       "\n",
       "    .dataframe thead th {\n",
       "        text-align: right;\n",
       "    }\n",
       "</style>\n",
       "<table border=\"1\" class=\"dataframe\">\n",
       "  <thead>\n",
       "    <tr style=\"text-align: right;\">\n",
       "      <th></th>\n",
       "    </tr>\n",
       "  </thead>\n",
       "  <tbody>\n",
       "    <tr>\n",
       "      <th>2019-12-31 00:00:00</th>\n",
       "    </tr>\n",
       "    <tr>\n",
       "      <th>2019-12-31 00:30:00</th>\n",
       "    </tr>\n",
       "    <tr>\n",
       "      <th>2019-12-31 01:00:00</th>\n",
       "    </tr>\n",
       "    <tr>\n",
       "      <th>2019-12-31 01:30:00</th>\n",
       "    </tr>\n",
       "    <tr>\n",
       "      <th>2019-12-31 02:00:00</th>\n",
       "    </tr>\n",
       "  </tbody>\n",
       "</table>\n",
       "</div>"
      ],
      "text/plain": [
       "Empty DataFrame\n",
       "Columns: []\n",
       "Index: [2019-12-31 00:00:00, 2019-12-31 00:30:00, 2019-12-31 01:00:00, 2019-12-31 01:30:00, 2019-12-31 02:00:00]"
      ]
     },
     "execution_count": 43,
     "metadata": {},
     "output_type": "execute_result"
    }
   ],
   "source": [
    "df.head()"
   ]
  },
  {
   "cell_type": "code",
   "execution_count": 44,
   "metadata": {
    "scrolled": false
   },
   "outputs": [
    {
     "data": {
      "text/html": [
       "<div>\n",
       "<style scoped>\n",
       "    .dataframe tbody tr th:only-of-type {\n",
       "        vertical-align: middle;\n",
       "    }\n",
       "\n",
       "    .dataframe tbody tr th {\n",
       "        vertical-align: top;\n",
       "    }\n",
       "\n",
       "    .dataframe thead th {\n",
       "        text-align: right;\n",
       "    }\n",
       "</style>\n",
       "<table border=\"1\" class=\"dataframe\">\n",
       "  <thead>\n",
       "    <tr style=\"text-align: right;\">\n",
       "      <th></th>\n",
       "    </tr>\n",
       "  </thead>\n",
       "  <tbody>\n",
       "    <tr>\n",
       "      <th>2021-07-30 21:30:00</th>\n",
       "    </tr>\n",
       "    <tr>\n",
       "      <th>2021-07-30 22:00:00</th>\n",
       "    </tr>\n",
       "    <tr>\n",
       "      <th>2021-07-30 22:30:00</th>\n",
       "    </tr>\n",
       "    <tr>\n",
       "      <th>2021-07-30 23:00:00</th>\n",
       "    </tr>\n",
       "    <tr>\n",
       "      <th>2021-07-30 23:30:00</th>\n",
       "    </tr>\n",
       "  </tbody>\n",
       "</table>\n",
       "</div>"
      ],
      "text/plain": [
       "Empty DataFrame\n",
       "Columns: []\n",
       "Index: [2021-07-30 21:30:00, 2021-07-30 22:00:00, 2021-07-30 22:30:00, 2021-07-30 23:00:00, 2021-07-30 23:30:00]"
      ]
     },
     "execution_count": 44,
     "metadata": {},
     "output_type": "execute_result"
    }
   ],
   "source": [
    "df.tail()"
   ]
  },
  {
   "cell_type": "code",
   "execution_count": 45,
   "metadata": {},
   "outputs": [],
   "source": [
    "df = df.between_time('09:30', '16:00')"
   ]
  },
  {
   "cell_type": "code",
   "execution_count": 46,
   "metadata": {
    "scrolled": true
   },
   "outputs": [
    {
     "data": {
      "text/html": [
       "<div>\n",
       "<style scoped>\n",
       "    .dataframe tbody tr th:only-of-type {\n",
       "        vertical-align: middle;\n",
       "    }\n",
       "\n",
       "    .dataframe tbody tr th {\n",
       "        vertical-align: top;\n",
       "    }\n",
       "\n",
       "    .dataframe thead th {\n",
       "        text-align: right;\n",
       "    }\n",
       "</style>\n",
       "<table border=\"1\" class=\"dataframe\">\n",
       "  <thead>\n",
       "    <tr style=\"text-align: right;\">\n",
       "      <th></th>\n",
       "    </tr>\n",
       "  </thead>\n",
       "  <tbody>\n",
       "    <tr>\n",
       "      <th>2019-12-31 09:30:00</th>\n",
       "    </tr>\n",
       "    <tr>\n",
       "      <th>2019-12-31 10:00:00</th>\n",
       "    </tr>\n",
       "    <tr>\n",
       "      <th>2019-12-31 10:30:00</th>\n",
       "    </tr>\n",
       "    <tr>\n",
       "      <th>2019-12-31 11:00:00</th>\n",
       "    </tr>\n",
       "    <tr>\n",
       "      <th>2019-12-31 11:30:00</th>\n",
       "    </tr>\n",
       "  </tbody>\n",
       "</table>\n",
       "</div>"
      ],
      "text/plain": [
       "Empty DataFrame\n",
       "Columns: []\n",
       "Index: [2019-12-31 09:30:00, 2019-12-31 10:00:00, 2019-12-31 10:30:00, 2019-12-31 11:00:00, 2019-12-31 11:30:00]"
      ]
     },
     "execution_count": 46,
     "metadata": {},
     "output_type": "execute_result"
    }
   ],
   "source": [
    "df.head()"
   ]
  },
  {
   "cell_type": "code",
   "execution_count": 47,
   "metadata": {
    "scrolled": false
   },
   "outputs": [
    {
     "data": {
      "text/html": [
       "<div>\n",
       "<style scoped>\n",
       "    .dataframe tbody tr th:only-of-type {\n",
       "        vertical-align: middle;\n",
       "    }\n",
       "\n",
       "    .dataframe tbody tr th {\n",
       "        vertical-align: top;\n",
       "    }\n",
       "\n",
       "    .dataframe thead th {\n",
       "        text-align: right;\n",
       "    }\n",
       "</style>\n",
       "<table border=\"1\" class=\"dataframe\">\n",
       "  <thead>\n",
       "    <tr style=\"text-align: right;\">\n",
       "      <th></th>\n",
       "    </tr>\n",
       "  </thead>\n",
       "  <tbody>\n",
       "    <tr>\n",
       "      <th>2021-07-30 14:00:00</th>\n",
       "    </tr>\n",
       "    <tr>\n",
       "      <th>2021-07-30 14:30:00</th>\n",
       "    </tr>\n",
       "    <tr>\n",
       "      <th>2021-07-30 15:00:00</th>\n",
       "    </tr>\n",
       "    <tr>\n",
       "      <th>2021-07-30 15:30:00</th>\n",
       "    </tr>\n",
       "    <tr>\n",
       "      <th>2021-07-30 16:00:00</th>\n",
       "    </tr>\n",
       "  </tbody>\n",
       "</table>\n",
       "</div>"
      ],
      "text/plain": [
       "Empty DataFrame\n",
       "Columns: []\n",
       "Index: [2021-07-30 14:00:00, 2021-07-30 14:30:00, 2021-07-30 15:00:00, 2021-07-30 15:30:00, 2021-07-30 16:00:00]"
      ]
     },
     "execution_count": 47,
     "metadata": {},
     "output_type": "execute_result"
    }
   ],
   "source": [
    "df.tail()"
   ]
  },
  {
   "cell_type": "code",
   "execution_count": 48,
   "metadata": {},
   "outputs": [],
   "source": [
    "nb = len(df.index)"
   ]
  },
  {
   "cell_type": "code",
   "execution_count": 49,
   "metadata": {},
   "outputs": [
    {
     "data": {
      "text/plain": [
       "8092"
      ]
     },
     "execution_count": 49,
     "metadata": {},
     "output_type": "execute_result"
    }
   ],
   "source": [
    "nb"
   ]
  },
  {
   "cell_type": "code",
   "execution_count": 50,
   "metadata": {},
   "outputs": [
    {
     "data": {
      "text/plain": [
       "<matplotlib.axes._subplots.AxesSubplot at 0x2186a12b390>"
      ]
     },
     "execution_count": 50,
     "metadata": {},
     "output_type": "execute_result"
    },
    {
     "data": {
      "image/png": "[encoded data removed]",
      "text/plain": [
       "<Figure size 1440x1080 with 1 Axes>"
      ]
     },
     "metadata": {},
     "output_type": "display_data"
    }
   ],
   "source": [
    "R_old = 0.0005\n",
    "Stdev_old = 0.015\n",
    "\n",
    "R_new = (1+R_old)**(1/13)-1\n",
    "Stdev_new = (Stdev_old)*(1**0.5)*((1/13)**0.5)\n",
    "\n",
    "df['Close'] = np.random.normal(loc=R_new, scale=Stdev_new, size=nb)\n",
    "df['Close'] = np.exp(df['Close'])\n",
    "df['Close'].iloc[0] = 50\n",
    "df['Close'] = df['Close'].cumprod()\n",
    "df[['Close']].plot(figsize=(20,15), logy=True)"
   ]
  },
  {
   "cell_type": "code",
   "execution_count": 51,
   "metadata": {},
   "outputs": [
    {
     "data": {
      "text/html": [
       "<div>\n",
       "<style scoped>\n",
       "    .dataframe tbody tr th:only-of-type {\n",
       "        vertical-align: middle;\n",
       "    }\n",
       "\n",
       "    .dataframe tbody tr th {\n",
       "        vertical-align: top;\n",
       "    }\n",
       "\n",
       "    .dataframe thead th {\n",
       "        text-align: right;\n",
       "    }\n",
       "</style>\n",
       "<table border=\"1\" class=\"dataframe\">\n",
       "  <thead>\n",
       "    <tr style=\"text-align: right;\">\n",
       "      <th></th>\n",
       "      <th>Close</th>\n",
       "    </tr>\n",
       "  </thead>\n",
       "  <tbody>\n",
       "    <tr>\n",
       "      <th>2019-12-31 09:30:00</th>\n",
       "      <td>50.000000</td>\n",
       "    </tr>\n",
       "    <tr>\n",
       "      <th>2019-12-31 10:00:00</th>\n",
       "      <td>49.970437</td>\n",
       "    </tr>\n",
       "    <tr>\n",
       "      <th>2019-12-31 10:30:00</th>\n",
       "      <td>49.651888</td>\n",
       "    </tr>\n",
       "    <tr>\n",
       "      <th>2019-12-31 11:00:00</th>\n",
       "      <td>49.856653</td>\n",
       "    </tr>\n",
       "    <tr>\n",
       "      <th>2019-12-31 11:30:00</th>\n",
       "      <td>49.738540</td>\n",
       "    </tr>\n",
       "  </tbody>\n",
       "</table>\n",
       "</div>"
      ],
      "text/plain": [
       "                         Close\n",
       "2019-12-31 09:30:00  50.000000\n",
       "2019-12-31 10:00:00  49.970437\n",
       "2019-12-31 10:30:00  49.651888\n",
       "2019-12-31 11:00:00  49.856653\n",
       "2019-12-31 11:30:00  49.738540"
      ]
     },
     "execution_count": 51,
     "metadata": {},
     "output_type": "execute_result"
    }
   ],
   "source": [
    "df.head()"
   ]
  },
  {
   "cell_type": "code",
   "execution_count": 52,
   "metadata": {
    "scrolled": false
   },
   "outputs": [
    {
     "data": {
      "text/html": [
       "<div>\n",
       "<style scoped>\n",
       "    .dataframe tbody tr th:only-of-type {\n",
       "        vertical-align: middle;\n",
       "    }\n",
       "\n",
       "    .dataframe tbody tr th {\n",
       "        vertical-align: top;\n",
       "    }\n",
       "\n",
       "    .dataframe thead th {\n",
       "        text-align: right;\n",
       "    }\n",
       "</style>\n",
       "<table border=\"1\" class=\"dataframe\">\n",
       "  <thead>\n",
       "    <tr style=\"text-align: right;\">\n",
       "      <th></th>\n",
       "      <th>Close</th>\n",
       "    </tr>\n",
       "  </thead>\n",
       "  <tbody>\n",
       "    <tr>\n",
       "      <th>2021-07-30 14:00:00</th>\n",
       "      <td>53.021824</td>\n",
       "    </tr>\n",
       "    <tr>\n",
       "      <th>2021-07-30 14:30:00</th>\n",
       "      <td>53.302714</td>\n",
       "    </tr>\n",
       "    <tr>\n",
       "      <th>2021-07-30 15:00:00</th>\n",
       "      <td>53.540056</td>\n",
       "    </tr>\n",
       "    <tr>\n",
       "      <th>2021-07-30 15:30:00</th>\n",
       "      <td>53.442329</td>\n",
       "    </tr>\n",
       "    <tr>\n",
       "      <th>2021-07-30 16:00:00</th>\n",
       "      <td>53.877648</td>\n",
       "    </tr>\n",
       "  </tbody>\n",
       "</table>\n",
       "</div>"
      ],
      "text/plain": [
       "                         Close\n",
       "2021-07-30 14:00:00  53.021824\n",
       "2021-07-30 14:30:00  53.302714\n",
       "2021-07-30 15:00:00  53.540056\n",
       "2021-07-30 15:30:00  53.442329\n",
       "2021-07-30 16:00:00  53.877648"
      ]
     },
     "execution_count": 52,
     "metadata": {},
     "output_type": "execute_result"
    }
   ],
   "source": [
    "df.tail()"
   ]
  },
  {
   "cell_type": "code",
   "execution_count": 53,
   "metadata": {},
   "outputs": [],
   "source": [
    "df = df.between_time('09:30', '16:00')\n",
    "df = df['Close'].resample('1D').ohlc()\n",
    "df.rename(columns={'open':'Open','high':'High','low':'Low','close':'Close'}, inplace=True)"
   ]
  },
  {
   "cell_type": "code",
   "execution_count": 54,
   "metadata": {},
   "outputs": [
    {
     "data": {
      "text/html": [
       "<div>\n",
       "<style scoped>\n",
       "    .dataframe tbody tr th:only-of-type {\n",
       "        vertical-align: middle;\n",
       "    }\n",
       "\n",
       "    .dataframe tbody tr th {\n",
       "        vertical-align: top;\n",
       "    }\n",
       "\n",
       "    .dataframe thead th {\n",
       "        text-align: right;\n",
       "    }\n",
       "</style>\n",
       "<table border=\"1\" class=\"dataframe\">\n",
       "  <thead>\n",
       "    <tr style=\"text-align: right;\">\n",
       "      <th></th>\n",
       "      <th>Open</th>\n",
       "      <th>High</th>\n",
       "      <th>Low</th>\n",
       "      <th>Close</th>\n",
       "    </tr>\n",
       "  </thead>\n",
       "  <tbody>\n",
       "    <tr>\n",
       "      <th>2019-12-31</th>\n",
       "      <td>50.000000</td>\n",
       "      <td>50.259354</td>\n",
       "      <td>49.651888</td>\n",
       "      <td>50.259354</td>\n",
       "    </tr>\n",
       "    <tr>\n",
       "      <th>2020-01-01</th>\n",
       "      <td>50.021084</td>\n",
       "      <td>50.270647</td>\n",
       "      <td>49.622387</td>\n",
       "      <td>49.983850</td>\n",
       "    </tr>\n",
       "    <tr>\n",
       "      <th>2020-01-02</th>\n",
       "      <td>50.359485</td>\n",
       "      <td>50.875799</td>\n",
       "      <td>49.579421</td>\n",
       "      <td>50.875799</td>\n",
       "    </tr>\n",
       "    <tr>\n",
       "      <th>2020-01-03</th>\n",
       "      <td>50.694675</td>\n",
       "      <td>50.694675</td>\n",
       "      <td>49.074347</td>\n",
       "      <td>49.074347</td>\n",
       "    </tr>\n",
       "    <tr>\n",
       "      <th>2020-01-04</th>\n",
       "      <td>49.407651</td>\n",
       "      <td>50.340194</td>\n",
       "      <td>49.407651</td>\n",
       "      <td>49.846578</td>\n",
       "    </tr>\n",
       "  </tbody>\n",
       "</table>\n",
       "</div>"
      ],
      "text/plain": [
       "                 Open       High        Low      Close\n",
       "2019-12-31  50.000000  50.259354  49.651888  50.259354\n",
       "2020-01-01  50.021084  50.270647  49.622387  49.983850\n",
       "2020-01-02  50.359485  50.875799  49.579421  50.875799\n",
       "2020-01-03  50.694675  50.694675  49.074347  49.074347\n",
       "2020-01-04  49.407651  50.340194  49.407651  49.846578"
      ]
     },
     "execution_count": 54,
     "metadata": {},
     "output_type": "execute_result"
    }
   ],
   "source": [
    "df.head()"
   ]
  },
  {
   "cell_type": "code",
   "execution_count": 55,
   "metadata": {
    "scrolled": false
   },
   "outputs": [
    {
     "data": {
      "text/html": [
       "<div>\n",
       "<style scoped>\n",
       "    .dataframe tbody tr th:only-of-type {\n",
       "        vertical-align: middle;\n",
       "    }\n",
       "\n",
       "    .dataframe tbody tr th {\n",
       "        vertical-align: top;\n",
       "    }\n",
       "\n",
       "    .dataframe thead th {\n",
       "        text-align: right;\n",
       "    }\n",
       "</style>\n",
       "<table border=\"1\" class=\"dataframe\">\n",
       "  <thead>\n",
       "    <tr style=\"text-align: right;\">\n",
       "      <th></th>\n",
       "      <th>Open</th>\n",
       "      <th>High</th>\n",
       "      <th>Low</th>\n",
       "      <th>Close</th>\n",
       "    </tr>\n",
       "  </thead>\n",
       "  <tbody>\n",
       "    <tr>\n",
       "      <th>2021-07-26</th>\n",
       "      <td>52.889576</td>\n",
       "      <td>53.801799</td>\n",
       "      <td>52.889576</td>\n",
       "      <td>52.952578</td>\n",
       "    </tr>\n",
       "    <tr>\n",
       "      <th>2021-07-27</th>\n",
       "      <td>53.055913</td>\n",
       "      <td>54.109959</td>\n",
       "      <td>52.773819</td>\n",
       "      <td>53.256292</td>\n",
       "    </tr>\n",
       "    <tr>\n",
       "      <th>2021-07-28</th>\n",
       "      <td>53.343874</td>\n",
       "      <td>54.031451</td>\n",
       "      <td>52.725030</td>\n",
       "      <td>54.031451</td>\n",
       "    </tr>\n",
       "    <tr>\n",
       "      <th>2021-07-29</th>\n",
       "      <td>54.126783</td>\n",
       "      <td>54.700508</td>\n",
       "      <td>54.042942</td>\n",
       "      <td>54.170665</td>\n",
       "    </tr>\n",
       "    <tr>\n",
       "      <th>2021-07-30</th>\n",
       "      <td>53.925367</td>\n",
       "      <td>54.050423</td>\n",
       "      <td>53.021824</td>\n",
       "      <td>53.877648</td>\n",
       "    </tr>\n",
       "  </tbody>\n",
       "</table>\n",
       "</div>"
      ],
      "text/plain": [
       "                 Open       High        Low      Close\n",
       "2021-07-26  52.889576  53.801799  52.889576  52.952578\n",
       "2021-07-27  53.055913  54.109959  52.773819  53.256292\n",
       "2021-07-28  53.343874  54.031451  52.725030  54.031451\n",
       "2021-07-29  54.126783  54.700508  54.042942  54.170665\n",
       "2021-07-30  53.925367  54.050423  53.021824  53.877648"
      ]
     },
     "execution_count": 55,
     "metadata": {},
     "output_type": "execute_result"
    }
   ],
   "source": [
    "df.tail()"
   ]
  },
  {
   "cell_type": "code",
   "execution_count": 56,
   "metadata": {},
   "outputs": [],
   "source": [
    "df['20MA'] = df['Close'].rolling(100).mean()\n",
    "df['MAsignal'] = np.where(df['Close']>df['20MA'], 1, 0)\n",
    "\n",
    "condition1 = (df['MAsignal'].shift(1)==1) & (df['MAsignal'].shift(2)==0)\n",
    "condition2 = (df['MAsignal'].shift(1)==1) & (df['MAsignal'].shift(2)==1)\n",
    "condition3 = (df['MAsignal'].shift(1)==0) & (df['MAsignal'].shift(2)==1)"
   ]
  },
  {
   "cell_type": "code",
   "execution_count": 57,
   "metadata": {},
   "outputs": [],
   "source": [
    "df['PortChng'] = 0\n",
    "\n",
    "df['PortChng'] = np.where(condition1, -1 + df['Close']/df['Open'], df['PortChng'])\n",
    "df['PortChng'] = np.where(condition2, -1 + df['Close']/df['Close'].shift(1), df['PortChng'])\n",
    "df['PortChng'] = np.where(condition3, -1 + df['Open']/df['Close'].shift(1), df['PortChng'])"
   ]
  },
  {
   "cell_type": "code",
   "execution_count": 58,
   "metadata": {},
   "outputs": [
    {
     "data": {
      "text/html": [
       "<div>\n",
       "<style scoped>\n",
       "    .dataframe tbody tr th:only-of-type {\n",
       "        vertical-align: middle;\n",
       "    }\n",
       "\n",
       "    .dataframe tbody tr th {\n",
       "        vertical-align: top;\n",
       "    }\n",
       "\n",
       "    .dataframe thead th {\n",
       "        text-align: right;\n",
       "    }\n",
       "</style>\n",
       "<table border=\"1\" class=\"dataframe\">\n",
       "  <thead>\n",
       "    <tr style=\"text-align: right;\">\n",
       "      <th></th>\n",
       "      <th>Open</th>\n",
       "      <th>High</th>\n",
       "      <th>Low</th>\n",
       "      <th>Close</th>\n",
       "      <th>20MA</th>\n",
       "      <th>MAsignal</th>\n",
       "      <th>PortChng</th>\n",
       "    </tr>\n",
       "  </thead>\n",
       "  <tbody>\n",
       "    <tr>\n",
       "      <th>2019-12-31</th>\n",
       "      <td>50.000000</td>\n",
       "      <td>50.259354</td>\n",
       "      <td>49.651888</td>\n",
       "      <td>50.259354</td>\n",
       "      <td>NaN</td>\n",
       "      <td>0</td>\n",
       "      <td>0.0</td>\n",
       "    </tr>\n",
       "    <tr>\n",
       "      <th>2020-01-01</th>\n",
       "      <td>50.021084</td>\n",
       "      <td>50.270647</td>\n",
       "      <td>49.622387</td>\n",
       "      <td>49.983850</td>\n",
       "      <td>NaN</td>\n",
       "      <td>0</td>\n",
       "      <td>0.0</td>\n",
       "    </tr>\n",
       "    <tr>\n",
       "      <th>2020-01-02</th>\n",
       "      <td>50.359485</td>\n",
       "      <td>50.875799</td>\n",
       "      <td>49.579421</td>\n",
       "      <td>50.875799</td>\n",
       "      <td>NaN</td>\n",
       "      <td>0</td>\n",
       "      <td>0.0</td>\n",
       "    </tr>\n",
       "    <tr>\n",
       "      <th>2020-01-03</th>\n",
       "      <td>50.694675</td>\n",
       "      <td>50.694675</td>\n",
       "      <td>49.074347</td>\n",
       "      <td>49.074347</td>\n",
       "      <td>NaN</td>\n",
       "      <td>0</td>\n",
       "      <td>0.0</td>\n",
       "    </tr>\n",
       "    <tr>\n",
       "      <th>2020-01-04</th>\n",
       "      <td>49.407651</td>\n",
       "      <td>50.340194</td>\n",
       "      <td>49.407651</td>\n",
       "      <td>49.846578</td>\n",
       "      <td>NaN</td>\n",
       "      <td>0</td>\n",
       "      <td>0.0</td>\n",
       "    </tr>\n",
       "  </tbody>\n",
       "</table>\n",
       "</div>"
      ],
      "text/plain": [
       "                 Open       High        Low      Close  20MA  MAsignal  \\\n",
       "2019-12-31  50.000000  50.259354  49.651888  50.259354   NaN         0   \n",
       "2020-01-01  50.021084  50.270647  49.622387  49.983850   NaN         0   \n",
       "2020-01-02  50.359485  50.875799  49.579421  50.875799   NaN         0   \n",
       "2020-01-03  50.694675  50.694675  49.074347  49.074347   NaN         0   \n",
       "2020-01-04  49.407651  50.340194  49.407651  49.846578   NaN         0   \n",
       "\n",
       "            PortChng  \n",
       "2019-12-31       0.0  \n",
       "2020-01-01       0.0  \n",
       "2020-01-02       0.0  \n",
       "2020-01-03       0.0  \n",
       "2020-01-04       0.0  "
      ]
     },
     "execution_count": 58,
     "metadata": {},
     "output_type": "execute_result"
    }
   ],
   "source": [
    "df.head()"
   ]
  },
  {
   "cell_type": "code",
   "execution_count": 59,
   "metadata": {},
   "outputs": [
    {
     "data": {
      "text/html": [
       "<div>\n",
       "<style scoped>\n",
       "    .dataframe tbody tr th:only-of-type {\n",
       "        vertical-align: middle;\n",
       "    }\n",
       "\n",
       "    .dataframe tbody tr th {\n",
       "        vertical-align: top;\n",
       "    }\n",
       "\n",
       "    .dataframe thead th {\n",
       "        text-align: right;\n",
       "    }\n",
       "</style>\n",
       "<table border=\"1\" class=\"dataframe\">\n",
       "  <thead>\n",
       "    <tr style=\"text-align: right;\">\n",
       "      <th></th>\n",
       "      <th>Open</th>\n",
       "      <th>High</th>\n",
       "      <th>Low</th>\n",
       "      <th>Close</th>\n",
       "      <th>20MA</th>\n",
       "      <th>MAsignal</th>\n",
       "      <th>PortChng</th>\n",
       "    </tr>\n",
       "  </thead>\n",
       "  <tbody>\n",
       "    <tr>\n",
       "      <th>2021-07-26</th>\n",
       "      <td>52.889576</td>\n",
       "      <td>53.801799</td>\n",
       "      <td>52.889576</td>\n",
       "      <td>52.952578</td>\n",
       "      <td>52.804024</td>\n",
       "      <td>1</td>\n",
       "      <td>0.004478</td>\n",
       "    </tr>\n",
       "    <tr>\n",
       "      <th>2021-07-27</th>\n",
       "      <td>53.055913</td>\n",
       "      <td>54.109959</td>\n",
       "      <td>52.773819</td>\n",
       "      <td>53.256292</td>\n",
       "      <td>52.831924</td>\n",
       "      <td>1</td>\n",
       "      <td>0.003777</td>\n",
       "    </tr>\n",
       "    <tr>\n",
       "      <th>2021-07-28</th>\n",
       "      <td>53.343874</td>\n",
       "      <td>54.031451</td>\n",
       "      <td>52.725030</td>\n",
       "      <td>54.031451</td>\n",
       "      <td>52.860193</td>\n",
       "      <td>1</td>\n",
       "      <td>0.014555</td>\n",
       "    </tr>\n",
       "    <tr>\n",
       "      <th>2021-07-29</th>\n",
       "      <td>54.126783</td>\n",
       "      <td>54.700508</td>\n",
       "      <td>54.042942</td>\n",
       "      <td>54.170665</td>\n",
       "      <td>52.891086</td>\n",
       "      <td>1</td>\n",
       "      <td>0.002577</td>\n",
       "    </tr>\n",
       "    <tr>\n",
       "      <th>2021-07-30</th>\n",
       "      <td>53.925367</td>\n",
       "      <td>54.050423</td>\n",
       "      <td>53.021824</td>\n",
       "      <td>53.877648</td>\n",
       "      <td>52.930567</td>\n",
       "      <td>1</td>\n",
       "      <td>-0.005409</td>\n",
       "    </tr>\n",
       "  </tbody>\n",
       "</table>\n",
       "</div>"
      ],
      "text/plain": [
       "                 Open       High        Low      Close       20MA  MAsignal  \\\n",
       "2021-07-26  52.889576  53.801799  52.889576  52.952578  52.804024         1   \n",
       "2021-07-27  53.055913  54.109959  52.773819  53.256292  52.831924         1   \n",
       "2021-07-28  53.343874  54.031451  52.725030  54.031451  52.860193         1   \n",
       "2021-07-29  54.126783  54.700508  54.042942  54.170665  52.891086         1   \n",
       "2021-07-30  53.925367  54.050423  53.021824  53.877648  52.930567         1   \n",
       "\n",
       "            PortChng  \n",
       "2021-07-26  0.004478  \n",
       "2021-07-27  0.003777  \n",
       "2021-07-28  0.014555  \n",
       "2021-07-29  0.002577  \n",
       "2021-07-30 -0.005409  "
      ]
     },
     "execution_count": 59,
     "metadata": {},
     "output_type": "execute_result"
    }
   ],
   "source": [
    "df.tail()"
   ]
  },
  {
   "cell_type": "code",
   "execution_count": 60,
   "metadata": {},
   "outputs": [],
   "source": [
    "df['Port'] = df['PortChng'] + 1\n",
    "df['Port'] = (df['Port'].cumprod()) * 50"
   ]
  },
  {
   "cell_type": "code",
   "execution_count": 61,
   "metadata": {},
   "outputs": [
    {
     "data": {
      "text/html": [
       "<div>\n",
       "<style scoped>\n",
       "    .dataframe tbody tr th:only-of-type {\n",
       "        vertical-align: middle;\n",
       "    }\n",
       "\n",
       "    .dataframe tbody tr th {\n",
       "        vertical-align: top;\n",
       "    }\n",
       "\n",
       "    .dataframe thead th {\n",
       "        text-align: right;\n",
       "    }\n",
       "</style>\n",
       "<table border=\"1\" class=\"dataframe\">\n",
       "  <thead>\n",
       "    <tr style=\"text-align: right;\">\n",
       "      <th></th>\n",
       "      <th>Open</th>\n",
       "      <th>High</th>\n",
       "      <th>Low</th>\n",
       "      <th>Close</th>\n",
       "      <th>20MA</th>\n",
       "      <th>MAsignal</th>\n",
       "      <th>PortChng</th>\n",
       "      <th>Port</th>\n",
       "    </tr>\n",
       "  </thead>\n",
       "  <tbody>\n",
       "    <tr>\n",
       "      <th>2019-12-31</th>\n",
       "      <td>50.000000</td>\n",
       "      <td>50.259354</td>\n",
       "      <td>49.651888</td>\n",
       "      <td>50.259354</td>\n",
       "      <td>NaN</td>\n",
       "      <td>0</td>\n",
       "      <td>0.0</td>\n",
       "      <td>50.0</td>\n",
       "    </tr>\n",
       "    <tr>\n",
       "      <th>2020-01-01</th>\n",
       "      <td>50.021084</td>\n",
       "      <td>50.270647</td>\n",
       "      <td>49.622387</td>\n",
       "      <td>49.983850</td>\n",
       "      <td>NaN</td>\n",
       "      <td>0</td>\n",
       "      <td>0.0</td>\n",
       "      <td>50.0</td>\n",
       "    </tr>\n",
       "    <tr>\n",
       "      <th>2020-01-02</th>\n",
       "      <td>50.359485</td>\n",
       "      <td>50.875799</td>\n",
       "      <td>49.579421</td>\n",
       "      <td>50.875799</td>\n",
       "      <td>NaN</td>\n",
       "      <td>0</td>\n",
       "      <td>0.0</td>\n",
       "      <td>50.0</td>\n",
       "    </tr>\n",
       "    <tr>\n",
       "      <th>2020-01-03</th>\n",
       "      <td>50.694675</td>\n",
       "      <td>50.694675</td>\n",
       "      <td>49.074347</td>\n",
       "      <td>49.074347</td>\n",
       "      <td>NaN</td>\n",
       "      <td>0</td>\n",
       "      <td>0.0</td>\n",
       "      <td>50.0</td>\n",
       "    </tr>\n",
       "    <tr>\n",
       "      <th>2020-01-04</th>\n",
       "      <td>49.407651</td>\n",
       "      <td>50.340194</td>\n",
       "      <td>49.407651</td>\n",
       "      <td>49.846578</td>\n",
       "      <td>NaN</td>\n",
       "      <td>0</td>\n",
       "      <td>0.0</td>\n",
       "      <td>50.0</td>\n",
       "    </tr>\n",
       "  </tbody>\n",
       "</table>\n",
       "</div>"
      ],
      "text/plain": [
       "                 Open       High        Low      Close  20MA  MAsignal  \\\n",
       "2019-12-31  50.000000  50.259354  49.651888  50.259354   NaN         0   \n",
       "2020-01-01  50.021084  50.270647  49.622387  49.983850   NaN         0   \n",
       "2020-01-02  50.359485  50.875799  49.579421  50.875799   NaN         0   \n",
       "2020-01-03  50.694675  50.694675  49.074347  49.074347   NaN         0   \n",
       "2020-01-04  49.407651  50.340194  49.407651  49.846578   NaN         0   \n",
       "\n",
       "            PortChng  Port  \n",
       "2019-12-31       0.0  50.0  \n",
       "2020-01-01       0.0  50.0  \n",
       "2020-01-02       0.0  50.0  \n",
       "2020-01-03       0.0  50.0  \n",
       "2020-01-04       0.0  50.0  "
      ]
     },
     "execution_count": 61,
     "metadata": {},
     "output_type": "execute_result"
    }
   ],
   "source": [
    "df.head()"
   ]
  },
  {
   "cell_type": "code",
   "execution_count": 62,
   "metadata": {},
   "outputs": [
    {
     "data": {
      "text/html": [
       "<div>\n",
       "<style scoped>\n",
       "    .dataframe tbody tr th:only-of-type {\n",
       "        vertical-align: middle;\n",
       "    }\n",
       "\n",
       "    .dataframe tbody tr th {\n",
       "        vertical-align: top;\n",
       "    }\n",
       "\n",
       "    .dataframe thead th {\n",
       "        text-align: right;\n",
       "    }\n",
       "</style>\n",
       "<table border=\"1\" class=\"dataframe\">\n",
       "  <thead>\n",
       "    <tr style=\"text-align: right;\">\n",
       "      <th></th>\n",
       "      <th>Open</th>\n",
       "      <th>High</th>\n",
       "      <th>Low</th>\n",
       "      <th>Close</th>\n",
       "      <th>20MA</th>\n",
       "      <th>MAsignal</th>\n",
       "      <th>PortChng</th>\n",
       "      <th>Port</th>\n",
       "    </tr>\n",
       "  </thead>\n",
       "  <tbody>\n",
       "    <tr>\n",
       "      <th>2021-07-26</th>\n",
       "      <td>52.889576</td>\n",
       "      <td>53.801799</td>\n",
       "      <td>52.889576</td>\n",
       "      <td>52.952578</td>\n",
       "      <td>52.804024</td>\n",
       "      <td>1</td>\n",
       "      <td>0.004478</td>\n",
       "      <td>49.961359</td>\n",
       "    </tr>\n",
       "    <tr>\n",
       "      <th>2021-07-27</th>\n",
       "      <td>53.055913</td>\n",
       "      <td>54.109959</td>\n",
       "      <td>52.773819</td>\n",
       "      <td>53.256292</td>\n",
       "      <td>52.831924</td>\n",
       "      <td>1</td>\n",
       "      <td>0.003777</td>\n",
       "      <td>50.150050</td>\n",
       "    </tr>\n",
       "    <tr>\n",
       "      <th>2021-07-28</th>\n",
       "      <td>53.343874</td>\n",
       "      <td>54.031451</td>\n",
       "      <td>52.725030</td>\n",
       "      <td>54.031451</td>\n",
       "      <td>52.860193</td>\n",
       "      <td>1</td>\n",
       "      <td>0.014555</td>\n",
       "      <td>50.879997</td>\n",
       "    </tr>\n",
       "    <tr>\n",
       "      <th>2021-07-29</th>\n",
       "      <td>54.126783</td>\n",
       "      <td>54.700508</td>\n",
       "      <td>54.042942</td>\n",
       "      <td>54.170665</td>\n",
       "      <td>52.891086</td>\n",
       "      <td>1</td>\n",
       "      <td>0.002577</td>\n",
       "      <td>51.011091</td>\n",
       "    </tr>\n",
       "    <tr>\n",
       "      <th>2021-07-30</th>\n",
       "      <td>53.925367</td>\n",
       "      <td>54.050423</td>\n",
       "      <td>53.021824</td>\n",
       "      <td>53.877648</td>\n",
       "      <td>52.930567</td>\n",
       "      <td>1</td>\n",
       "      <td>-0.005409</td>\n",
       "      <td>50.735164</td>\n",
       "    </tr>\n",
       "  </tbody>\n",
       "</table>\n",
       "</div>"
      ],
      "text/plain": [
       "                 Open       High        Low      Close       20MA  MAsignal  \\\n",
       "2021-07-26  52.889576  53.801799  52.889576  52.952578  52.804024         1   \n",
       "2021-07-27  53.055913  54.109959  52.773819  53.256292  52.831924         1   \n",
       "2021-07-28  53.343874  54.031451  52.725030  54.031451  52.860193         1   \n",
       "2021-07-29  54.126783  54.700508  54.042942  54.170665  52.891086         1   \n",
       "2021-07-30  53.925367  54.050423  53.021824  53.877648  52.930567         1   \n",
       "\n",
       "            PortChng       Port  \n",
       "2021-07-26  0.004478  49.961359  \n",
       "2021-07-27  0.003777  50.150050  \n",
       "2021-07-28  0.014555  50.879997  \n",
       "2021-07-29  0.002577  51.011091  \n",
       "2021-07-30 -0.005409  50.735164  "
      ]
     },
     "execution_count": 62,
     "metadata": {},
     "output_type": "execute_result"
    }
   ],
   "source": [
    "df.tail()"
   ]
  },
  {
   "cell_type": "code",
   "execution_count": 63,
   "metadata": {},
   "outputs": [
    {
     "data": {
      "text/plain": [
       "<matplotlib.legend.Legend at 0x2186a22dbe0>"
      ]
     },
     "execution_count": 63,
     "metadata": {},
     "output_type": "execute_result"
    },
    {
     "data": {
      "image/png": "[encoded data removed]",
      "text/plain": [
       "<Figure size 648x432 with 1 Axes>"
      ]
     },
     "metadata": {},
     "output_type": "display_data"
    }
   ],
   "source": [
    "f1 = plt.figure(figsize=(9,6))\n",
    "ax1 = f1.add_subplot(1, 1, 1)\n",
    "\n",
    "true_indexvals = df[condition1|condition2|condition3].index.tolist()\n",
    "df[['Close','Port']].plot(title='Testing the 20MA Strategy', ax=ax1, logy=True)\n",
    "\n",
    "for x in true_indexvals:\n",
    "  ax1.axvline(x, color='tab:green', alpha = 0.22, linewidth = .25, linestyle='-')\n",
    "\n",
    "ax1.legend(loc='upper left')"
   ]
  },
  {
   "cell_type": "code",
   "execution_count": 64,
   "metadata": {},
   "outputs": [],
   "source": [
    "BidAskPct = 4/(100*100)\n",
    "list_cols = ['Open','Close']\n",
    "\n",
    "for i in list_cols:\n",
    "  df[i+'Ask'] = (2*df[i])/(2-BidAskPct)\n",
    "  df[i+'Bid'] = (2*df[i]) - (2*df[i])/(2-BidAskPct)"
   ]
  },
  {
   "cell_type": "code",
   "execution_count": 65,
   "metadata": {},
   "outputs": [
    {
     "data": {
      "text/html": [
       "<div>\n",
       "<style scoped>\n",
       "    .dataframe tbody tr th:only-of-type {\n",
       "        vertical-align: middle;\n",
       "    }\n",
       "\n",
       "    .dataframe tbody tr th {\n",
       "        vertical-align: top;\n",
       "    }\n",
       "\n",
       "    .dataframe thead th {\n",
       "        text-align: right;\n",
       "    }\n",
       "</style>\n",
       "<table border=\"1\" class=\"dataframe\">\n",
       "  <thead>\n",
       "    <tr style=\"text-align: right;\">\n",
       "      <th></th>\n",
       "      <th>Open</th>\n",
       "      <th>High</th>\n",
       "      <th>Low</th>\n",
       "      <th>Close</th>\n",
       "      <th>20MA</th>\n",
       "      <th>MAsignal</th>\n",
       "      <th>PortChng</th>\n",
       "      <th>Port</th>\n",
       "      <th>OpenAsk</th>\n",
       "      <th>OpenBid</th>\n",
       "      <th>CloseAsk</th>\n",
       "      <th>CloseBid</th>\n",
       "    </tr>\n",
       "  </thead>\n",
       "  <tbody>\n",
       "    <tr>\n",
       "      <th>2019-12-31</th>\n",
       "      <td>50.000000</td>\n",
       "      <td>50.259354</td>\n",
       "      <td>49.651888</td>\n",
       "      <td>50.259354</td>\n",
       "      <td>NaN</td>\n",
       "      <td>0</td>\n",
       "      <td>0.0</td>\n",
       "      <td>50.0</td>\n",
       "      <td>50.010002</td>\n",
       "      <td>49.989998</td>\n",
       "      <td>50.269408</td>\n",
       "      <td>50.249301</td>\n",
       "    </tr>\n",
       "    <tr>\n",
       "      <th>2020-01-01</th>\n",
       "      <td>50.021084</td>\n",
       "      <td>50.270647</td>\n",
       "      <td>49.622387</td>\n",
       "      <td>49.983850</td>\n",
       "      <td>NaN</td>\n",
       "      <td>0</td>\n",
       "      <td>0.0</td>\n",
       "      <td>50.0</td>\n",
       "      <td>50.031090</td>\n",
       "      <td>50.011077</td>\n",
       "      <td>49.993848</td>\n",
       "      <td>49.973851</td>\n",
       "    </tr>\n",
       "    <tr>\n",
       "      <th>2020-01-02</th>\n",
       "      <td>50.359485</td>\n",
       "      <td>50.875799</td>\n",
       "      <td>49.579421</td>\n",
       "      <td>50.875799</td>\n",
       "      <td>NaN</td>\n",
       "      <td>0</td>\n",
       "      <td>0.0</td>\n",
       "      <td>50.0</td>\n",
       "      <td>50.369559</td>\n",
       "      <td>50.349411</td>\n",
       "      <td>50.885976</td>\n",
       "      <td>50.865622</td>\n",
       "    </tr>\n",
       "    <tr>\n",
       "      <th>2020-01-03</th>\n",
       "      <td>50.694675</td>\n",
       "      <td>50.694675</td>\n",
       "      <td>49.074347</td>\n",
       "      <td>49.074347</td>\n",
       "      <td>NaN</td>\n",
       "      <td>0</td>\n",
       "      <td>0.0</td>\n",
       "      <td>50.0</td>\n",
       "      <td>50.704816</td>\n",
       "      <td>50.684534</td>\n",
       "      <td>49.084164</td>\n",
       "      <td>49.064530</td>\n",
       "    </tr>\n",
       "    <tr>\n",
       "      <th>2020-01-04</th>\n",
       "      <td>49.407651</td>\n",
       "      <td>50.340194</td>\n",
       "      <td>49.407651</td>\n",
       "      <td>49.846578</td>\n",
       "      <td>NaN</td>\n",
       "      <td>0</td>\n",
       "      <td>0.0</td>\n",
       "      <td>50.0</td>\n",
       "      <td>49.417535</td>\n",
       "      <td>49.397768</td>\n",
       "      <td>49.856549</td>\n",
       "      <td>49.836607</td>\n",
       "    </tr>\n",
       "  </tbody>\n",
       "</table>\n",
       "</div>"
      ],
      "text/plain": [
       "                 Open       High        Low      Close  20MA  MAsignal  \\\n",
       "2019-12-31  50.000000  50.259354  49.651888  50.259354   NaN         0   \n",
       "2020-01-01  50.021084  50.270647  49.622387  49.983850   NaN         0   \n",
       "2020-01-02  50.359485  50.875799  49.579421  50.875799   NaN         0   \n",
       "2020-01-03  50.694675  50.694675  49.074347  49.074347   NaN         0   \n",
       "2020-01-04  49.407651  50.340194  49.407651  49.846578   NaN         0   \n",
       "\n",
       "            PortChng  Port    OpenAsk    OpenBid   CloseAsk   CloseBid  \n",
       "2019-12-31       0.0  50.0  50.010002  49.989998  50.269408  50.249301  \n",
       "2020-01-01       0.0  50.0  50.031090  50.011077  49.993848  49.973851  \n",
       "2020-01-02       0.0  50.0  50.369559  50.349411  50.885976  50.865622  \n",
       "2020-01-03       0.0  50.0  50.704816  50.684534  49.084164  49.064530  \n",
       "2020-01-04       0.0  50.0  49.417535  49.397768  49.856549  49.836607  "
      ]
     },
     "execution_count": 65,
     "metadata": {},
     "output_type": "execute_result"
    }
   ],
   "source": [
    "df.head()"
   ]
  },
  {
   "cell_type": "code",
   "execution_count": 66,
   "metadata": {},
   "outputs": [
    {
     "data": {
      "text/html": [
       "<div>\n",
       "<style scoped>\n",
       "    .dataframe tbody tr th:only-of-type {\n",
       "        vertical-align: middle;\n",
       "    }\n",
       "\n",
       "    .dataframe tbody tr th {\n",
       "        vertical-align: top;\n",
       "    }\n",
       "\n",
       "    .dataframe thead th {\n",
       "        text-align: right;\n",
       "    }\n",
       "</style>\n",
       "<table border=\"1\" class=\"dataframe\">\n",
       "  <thead>\n",
       "    <tr style=\"text-align: right;\">\n",
       "      <th></th>\n",
       "      <th>Open</th>\n",
       "      <th>High</th>\n",
       "      <th>Low</th>\n",
       "      <th>Close</th>\n",
       "      <th>20MA</th>\n",
       "      <th>MAsignal</th>\n",
       "      <th>PortChng</th>\n",
       "      <th>Port</th>\n",
       "      <th>OpenAsk</th>\n",
       "      <th>OpenBid</th>\n",
       "      <th>CloseAsk</th>\n",
       "      <th>CloseBid</th>\n",
       "    </tr>\n",
       "  </thead>\n",
       "  <tbody>\n",
       "    <tr>\n",
       "      <th>2021-07-26</th>\n",
       "      <td>52.889576</td>\n",
       "      <td>53.801799</td>\n",
       "      <td>52.889576</td>\n",
       "      <td>52.952578</td>\n",
       "      <td>52.804024</td>\n",
       "      <td>1</td>\n",
       "      <td>0.004478</td>\n",
       "      <td>49.961359</td>\n",
       "      <td>52.900156</td>\n",
       "      <td>52.878995</td>\n",
       "      <td>52.963171</td>\n",
       "      <td>52.941986</td>\n",
       "    </tr>\n",
       "    <tr>\n",
       "      <th>2021-07-27</th>\n",
       "      <td>53.055913</td>\n",
       "      <td>54.109959</td>\n",
       "      <td>52.773819</td>\n",
       "      <td>53.256292</td>\n",
       "      <td>52.831924</td>\n",
       "      <td>1</td>\n",
       "      <td>0.003777</td>\n",
       "      <td>50.150050</td>\n",
       "      <td>53.066527</td>\n",
       "      <td>53.045300</td>\n",
       "      <td>53.266945</td>\n",
       "      <td>53.245638</td>\n",
       "    </tr>\n",
       "    <tr>\n",
       "      <th>2021-07-28</th>\n",
       "      <td>53.343874</td>\n",
       "      <td>54.031451</td>\n",
       "      <td>52.725030</td>\n",
       "      <td>54.031451</td>\n",
       "      <td>52.860193</td>\n",
       "      <td>1</td>\n",
       "      <td>0.014555</td>\n",
       "      <td>50.879997</td>\n",
       "      <td>53.354545</td>\n",
       "      <td>53.333203</td>\n",
       "      <td>54.042260</td>\n",
       "      <td>54.020643</td>\n",
       "    </tr>\n",
       "    <tr>\n",
       "      <th>2021-07-29</th>\n",
       "      <td>54.126783</td>\n",
       "      <td>54.700508</td>\n",
       "      <td>54.042942</td>\n",
       "      <td>54.170665</td>\n",
       "      <td>52.891086</td>\n",
       "      <td>1</td>\n",
       "      <td>0.002577</td>\n",
       "      <td>51.011091</td>\n",
       "      <td>54.137610</td>\n",
       "      <td>54.115955</td>\n",
       "      <td>54.181501</td>\n",
       "      <td>54.159828</td>\n",
       "    </tr>\n",
       "    <tr>\n",
       "      <th>2021-07-30</th>\n",
       "      <td>53.925367</td>\n",
       "      <td>54.050423</td>\n",
       "      <td>53.021824</td>\n",
       "      <td>53.877648</td>\n",
       "      <td>52.930567</td>\n",
       "      <td>1</td>\n",
       "      <td>-0.005409</td>\n",
       "      <td>50.735164</td>\n",
       "      <td>53.936155</td>\n",
       "      <td>53.914580</td>\n",
       "      <td>53.888425</td>\n",
       "      <td>53.866870</td>\n",
       "    </tr>\n",
       "  </tbody>\n",
       "</table>\n",
       "</div>"
      ],
      "text/plain": [
       "                 Open       High        Low      Close       20MA  MAsignal  \\\n",
       "2021-07-26  52.889576  53.801799  52.889576  52.952578  52.804024         1   \n",
       "2021-07-27  53.055913  54.109959  52.773819  53.256292  52.831924         1   \n",
       "2021-07-28  53.343874  54.031451  52.725030  54.031451  52.860193         1   \n",
       "2021-07-29  54.126783  54.700508  54.042942  54.170665  52.891086         1   \n",
       "2021-07-30  53.925367  54.050423  53.021824  53.877648  52.930567         1   \n",
       "\n",
       "            PortChng       Port    OpenAsk    OpenBid   CloseAsk   CloseBid  \n",
       "2021-07-26  0.004478  49.961359  52.900156  52.878995  52.963171  52.941986  \n",
       "2021-07-27  0.003777  50.150050  53.066527  53.045300  53.266945  53.245638  \n",
       "2021-07-28  0.014555  50.879997  53.354545  53.333203  54.042260  54.020643  \n",
       "2021-07-29  0.002577  51.011091  54.137610  54.115955  54.181501  54.159828  \n",
       "2021-07-30 -0.005409  50.735164  53.936155  53.914580  53.888425  53.866870  "
      ]
     },
     "execution_count": 66,
     "metadata": {},
     "output_type": "execute_result"
    }
   ],
   "source": [
    "df.tail()"
   ]
  },
  {
   "cell_type": "code",
   "execution_count": 67,
   "metadata": {},
   "outputs": [
    {
     "data": {
      "text/html": [
       "<div>\n",
       "<style scoped>\n",
       "    .dataframe tbody tr th:only-of-type {\n",
       "        vertical-align: middle;\n",
       "    }\n",
       "\n",
       "    .dataframe tbody tr th {\n",
       "        vertical-align: top;\n",
       "    }\n",
       "\n",
       "    .dataframe thead th {\n",
       "        text-align: right;\n",
       "    }\n",
       "</style>\n",
       "<table border=\"1\" class=\"dataframe\">\n",
       "  <thead>\n",
       "    <tr style=\"text-align: right;\">\n",
       "      <th></th>\n",
       "      <th>Open</th>\n",
       "      <th>Close</th>\n",
       "      <th>OpenAsk</th>\n",
       "      <th>OpenBid</th>\n",
       "      <th>CloseAsk</th>\n",
       "      <th>CloseBid</th>\n",
       "    </tr>\n",
       "  </thead>\n",
       "  <tbody>\n",
       "    <tr>\n",
       "      <th>2019-12-31</th>\n",
       "      <td>50.000000</td>\n",
       "      <td>50.259354</td>\n",
       "      <td>50.010002</td>\n",
       "      <td>49.989998</td>\n",
       "      <td>50.269408</td>\n",
       "      <td>50.249301</td>\n",
       "    </tr>\n",
       "    <tr>\n",
       "      <th>2020-01-01</th>\n",
       "      <td>50.021084</td>\n",
       "      <td>49.983850</td>\n",
       "      <td>50.031090</td>\n",
       "      <td>50.011077</td>\n",
       "      <td>49.993848</td>\n",
       "      <td>49.973851</td>\n",
       "    </tr>\n",
       "    <tr>\n",
       "      <th>2020-01-02</th>\n",
       "      <td>50.359485</td>\n",
       "      <td>50.875799</td>\n",
       "      <td>50.369559</td>\n",
       "      <td>50.349411</td>\n",
       "      <td>50.885976</td>\n",
       "      <td>50.865622</td>\n",
       "    </tr>\n",
       "    <tr>\n",
       "      <th>2020-01-03</th>\n",
       "      <td>50.694675</td>\n",
       "      <td>49.074347</td>\n",
       "      <td>50.704816</td>\n",
       "      <td>50.684534</td>\n",
       "      <td>49.084164</td>\n",
       "      <td>49.064530</td>\n",
       "    </tr>\n",
       "    <tr>\n",
       "      <th>2020-01-04</th>\n",
       "      <td>49.407651</td>\n",
       "      <td>49.846578</td>\n",
       "      <td>49.417535</td>\n",
       "      <td>49.397768</td>\n",
       "      <td>49.856549</td>\n",
       "      <td>49.836607</td>\n",
       "    </tr>\n",
       "  </tbody>\n",
       "</table>\n",
       "</div>"
      ],
      "text/plain": [
       "                 Open      Close    OpenAsk    OpenBid   CloseAsk   CloseBid\n",
       "2019-12-31  50.000000  50.259354  50.010002  49.989998  50.269408  50.249301\n",
       "2020-01-01  50.021084  49.983850  50.031090  50.011077  49.993848  49.973851\n",
       "2020-01-02  50.359485  50.875799  50.369559  50.349411  50.885976  50.865622\n",
       "2020-01-03  50.694675  49.074347  50.704816  50.684534  49.084164  49.064530\n",
       "2020-01-04  49.407651  49.846578  49.417535  49.397768  49.856549  49.836607"
      ]
     },
     "execution_count": 67,
     "metadata": {},
     "output_type": "execute_result"
    }
   ],
   "source": [
    "df.filter(regex='Open|Close').head()"
   ]
  },
  {
   "cell_type": "code",
   "execution_count": 68,
   "metadata": {},
   "outputs": [
    {
     "data": {
      "text/html": [
       "<div>\n",
       "<style scoped>\n",
       "    .dataframe tbody tr th:only-of-type {\n",
       "        vertical-align: middle;\n",
       "    }\n",
       "\n",
       "    .dataframe tbody tr th {\n",
       "        vertical-align: top;\n",
       "    }\n",
       "\n",
       "    .dataframe thead th {\n",
       "        text-align: right;\n",
       "    }\n",
       "</style>\n",
       "<table border=\"1\" class=\"dataframe\">\n",
       "  <thead>\n",
       "    <tr style=\"text-align: right;\">\n",
       "      <th></th>\n",
       "      <th>Open</th>\n",
       "      <th>Close</th>\n",
       "      <th>OpenAsk</th>\n",
       "      <th>OpenBid</th>\n",
       "      <th>CloseAsk</th>\n",
       "      <th>CloseBid</th>\n",
       "    </tr>\n",
       "  </thead>\n",
       "  <tbody>\n",
       "    <tr>\n",
       "      <th>2021-07-26</th>\n",
       "      <td>52.889576</td>\n",
       "      <td>52.952578</td>\n",
       "      <td>52.900156</td>\n",
       "      <td>52.878995</td>\n",
       "      <td>52.963171</td>\n",
       "      <td>52.941986</td>\n",
       "    </tr>\n",
       "    <tr>\n",
       "      <th>2021-07-27</th>\n",
       "      <td>53.055913</td>\n",
       "      <td>53.256292</td>\n",
       "      <td>53.066527</td>\n",
       "      <td>53.045300</td>\n",
       "      <td>53.266945</td>\n",
       "      <td>53.245638</td>\n",
       "    </tr>\n",
       "    <tr>\n",
       "      <th>2021-07-28</th>\n",
       "      <td>53.343874</td>\n",
       "      <td>54.031451</td>\n",
       "      <td>53.354545</td>\n",
       "      <td>53.333203</td>\n",
       "      <td>54.042260</td>\n",
       "      <td>54.020643</td>\n",
       "    </tr>\n",
       "    <tr>\n",
       "      <th>2021-07-29</th>\n",
       "      <td>54.126783</td>\n",
       "      <td>54.170665</td>\n",
       "      <td>54.137610</td>\n",
       "      <td>54.115955</td>\n",
       "      <td>54.181501</td>\n",
       "      <td>54.159828</td>\n",
       "    </tr>\n",
       "    <tr>\n",
       "      <th>2021-07-30</th>\n",
       "      <td>53.925367</td>\n",
       "      <td>53.877648</td>\n",
       "      <td>53.936155</td>\n",
       "      <td>53.914580</td>\n",
       "      <td>53.888425</td>\n",
       "      <td>53.866870</td>\n",
       "    </tr>\n",
       "  </tbody>\n",
       "</table>\n",
       "</div>"
      ],
      "text/plain": [
       "                 Open      Close    OpenAsk    OpenBid   CloseAsk   CloseBid\n",
       "2021-07-26  52.889576  52.952578  52.900156  52.878995  52.963171  52.941986\n",
       "2021-07-27  53.055913  53.256292  53.066527  53.045300  53.266945  53.245638\n",
       "2021-07-28  53.343874  54.031451  53.354545  53.333203  54.042260  54.020643\n",
       "2021-07-29  54.126783  54.170665  54.137610  54.115955  54.181501  54.159828\n",
       "2021-07-30  53.925367  53.877648  53.936155  53.914580  53.888425  53.866870"
      ]
     },
     "execution_count": 68,
     "metadata": {},
     "output_type": "execute_result"
    }
   ],
   "source": [
    "df.filter(regex='Open|Close').tail()"
   ]
  },
  {
   "cell_type": "code",
   "execution_count": 69,
   "metadata": {},
   "outputs": [],
   "source": [
    "df['PortChng'] = 0\n",
    "\n",
    "df['PortChng'] = np.where(condition1, -1 + df['Close']/df['OpenAsk'], df['PortChng'])\n",
    "df['PortChng'] = np.where(condition2, -1 + df['Close']/df['Close'].shift(1), df['PortChng'])\n",
    "df['PortChng'] = np.where(condition3, -1 + df['OpenBid']/df['Close'].shift(1), df['PortChng'])\n",
    "df['Port'] = df['PortChng'] + 1\n",
    "df['Port'] = (df['Port'].cumprod())*50"
   ]
  },
  {
   "cell_type": "code",
   "execution_count": 70,
   "metadata": {
    "scrolled": true
   },
   "outputs": [
    {
     "data": {
      "text/plain": [
       "<matplotlib.legend.Legend at 0x2186ad07fd0>"
      ]
     },
     "execution_count": 70,
     "metadata": {},
     "output_type": "execute_result"
    },
    {
     "data": {
      "image/png": "[encoded data removed]",
      "text/plain": [
       "<Figure size 648x432 with 1 Axes>"
      ]
     },
     "metadata": {},
     "output_type": "display_data"
    }
   ],
   "source": [
    "f1 = plt.figure(figsize=(9,6))\n",
    "ax1 = f1.add_subplot(1, 1, 1)\n",
    "true_indexvals = df[condition1|condition2|condition3].index.tolist()\n",
    "\n",
    "df[['Close','Port']].plot(title='Testing the 20MA Strategy', ax=ax1, logy=True)\n",
    "\n",
    "for x in true_indexvals:\n",
    "  ax1.axvline(x, color='tab:green', alpha = 0.22, linewidth = .25, linestyle='-')\n",
    "\n",
    "ax1.legend(loc='upper left')"
   ]
  },
  {
   "cell_type": "code",
   "execution_count": null,
   "metadata": {},
   "outputs": [],
   "source": []
  }
 ],
 "metadata": {
  "kernelspec": {
   "display_name": "Python 3",
   "language": "python",
   "name": "python3"
  },
  "language_info": {
   "codemirror_mode": {
    "name": "ipython",
    "version": 3
   },
   "file_extension": ".py",
   "mimetype": "text/x-python",
   "name": "python",
   "nbconvert_exporter": "python",
   "pygments_lexer": "ipython3",
   "version": "3.8.5"
  }
 },
 "nbformat": 4,
 "nbformat_minor": 2
}
