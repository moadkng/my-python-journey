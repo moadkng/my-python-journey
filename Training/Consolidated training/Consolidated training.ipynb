{
 "cells": [
  {
   "cell_type": "markdown",
   "metadata": {},
   "source": [
    "<font size = 5><b> Variables: </b><font>"
   ]
  },
  {
   "cell_type": "code",
   "execution_count": 17,
   "metadata": {},
   "outputs": [
    {
     "data": {
      "text/plain": [
       "1"
      ]
     },
     "execution_count": 17,
     "metadata": {},
     "output_type": "execute_result"
    }
   ],
   "source": [
    "x = 1\n",
    "x"
   ]
  },
  {
   "cell_type": "code",
   "execution_count": 18,
   "metadata": {},
   "outputs": [
    {
     "data": {
      "text/plain": [
       "1"
      ]
     },
     "execution_count": 18,
     "metadata": {},
     "output_type": "execute_result"
    }
   ],
   "source": [
    "x"
   ]
  },
  {
   "cell_type": "code",
   "execution_count": 19,
   "metadata": {},
   "outputs": [
    {
     "data": {
      "text/plain": [
       "(1, 2)"
      ]
     },
     "execution_count": 19,
     "metadata": {},
     "output_type": "execute_result"
    }
   ],
   "source": [
    "x,y = 1,2\n",
    "x,y"
   ]
  },
  {
   "cell_type": "markdown",
   "metadata": {},
   "source": [
    "<font size = 5><b> Data types: </b><font>"
   ]
  },
  {
   "cell_type": "code",
   "execution_count": 20,
   "metadata": {},
   "outputs": [],
   "source": [
    "x = 34 #integer\n",
    "y = 34.0 #float\n",
    "z = True #boolean\n",
    "str1 = 'Moad'#string\n",
    "str2 = \"Moad\" #string"
   ]
  },
  {
   "cell_type": "code",
   "execution_count": 21,
   "metadata": {
    "scrolled": false
   },
   "outputs": [
    {
     "name": "stdout",
     "output_type": "stream",
     "text": [
      "<class 'int'> <class 'float'> <class 'bool'> <class 'int'> <class 'float'> <class 'str'> <class 'bool'> <class 'str'> <class 'str'>\n"
     ]
    }
   ],
   "source": [
    "print(type(x),type(y),type(z),type(12),type(12.0),type(\"True\"),type(True),type(str1),type(str2))"
   ]
  },
  {
   "cell_type": "code",
   "execution_count": 22,
   "metadata": {
    "scrolled": true
   },
   "outputs": [
    {
     "name": "stdout",
     "output_type": "stream",
     "text": [
      "34.0 34\n"
     ]
    }
   ],
   "source": [
    "print(float(x),int(y))"
   ]
  },
  {
   "cell_type": "code",
   "execution_count": 23,
   "metadata": {},
   "outputs": [
    {
     "data": {
      "text/plain": [
       "'Moad'"
      ]
     },
     "execution_count": 23,
     "metadata": {},
     "output_type": "execute_result"
    }
   ],
   "source": [
    "str1"
   ]
  },
  {
   "cell_type": "code",
   "execution_count": 24,
   "metadata": {
    "scrolled": true
   },
   "outputs": [
    {
     "name": "stdout",
     "output_type": "stream",
     "text": [
      "Moad\n"
     ]
    }
   ],
   "source": [
    "print(str1)"
   ]
  },
  {
   "cell_type": "code",
   "execution_count": 25,
   "metadata": {
    "scrolled": true
   },
   "outputs": [
    {
     "name": "stdout",
     "output_type": "stream",
     "text": [
      "I'm hungry\n"
     ]
    }
   ],
   "source": [
    "print('I\\'m hungry') #the backslash here is called an escape character"
   ]
  },
  {
   "cell_type": "code",
   "execution_count": 26,
   "metadata": {},
   "outputs": [
    {
     "name": "stdout",
     "output_type": "stream",
     "text": [
      "Press \"Enter\"\n"
     ]
    }
   ],
   "source": [
    "print(\"Press \\\"Enter\\\"\") #the backslash here is called an escape character"
   ]
  },
  {
   "cell_type": "code",
   "execution_count": 27,
   "metadata": {},
   "outputs": [
    {
     "name": "stdout",
     "output_type": "stream",
     "text": [
      "Red Car\n"
     ]
    }
   ],
   "source": [
    "print(\"Red\",\"Car\") #using a trailig comma ; it automatically puts a space between the strings"
   ]
  },
  {
   "cell_type": "code",
   "execution_count": 28,
   "metadata": {},
   "outputs": [
    {
     "name": "stdout",
     "output_type": "stream",
     "text": [
      "This Moad is very Good !\n"
     ]
    }
   ],
   "source": [
    "x = \"Moad\"\n",
    "y = \"Good\"\n",
    "\n",
    "print(\"This {} is very {} !\".format(x,y))"
   ]
  },
  {
   "cell_type": "markdown",
   "metadata": {},
   "source": [
    "<font size = 5><b> Operators:</b><font>"
   ]
  },
  {
   "cell_type": "code",
   "execution_count": 29,
   "metadata": {},
   "outputs": [
    {
     "data": {
      "text/plain": [
       "8"
      ]
     },
     "execution_count": 29,
     "metadata": {},
     "output_type": "execute_result"
    }
   ],
   "source": [
    "3 + 5"
   ]
  },
  {
   "cell_type": "code",
   "execution_count": 30,
   "metadata": {},
   "outputs": [
    {
     "data": {
      "text/plain": [
       "-3"
      ]
     },
     "execution_count": 30,
     "metadata": {},
     "output_type": "execute_result"
    }
   ],
   "source": [
    "3 - 6"
   ]
  },
  {
   "cell_type": "code",
   "execution_count": 31,
   "metadata": {},
   "outputs": [
    {
     "data": {
      "text/plain": [
       "(3.2, 3, 1)"
      ]
     },
     "execution_count": 31,
     "metadata": {},
     "output_type": "execute_result"
    }
   ],
   "source": [
    "x = 16 / 5\n",
    "y = 16 // 5\n",
    "z = 16 % 5\n",
    "x,y,z"
   ]
  },
  {
   "cell_type": "code",
   "execution_count": 32,
   "metadata": {},
   "outputs": [
    {
     "data": {
      "text/plain": [
       "(15, 125)"
      ]
     },
     "execution_count": 32,
     "metadata": {},
     "output_type": "execute_result"
    }
   ],
   "source": [
    "x = 5 * 3\n",
    "y = 5 ** 3\n",
    "x,y"
   ]
  },
  {
   "cell_type": "code",
   "execution_count": 33,
   "metadata": {
    "scrolled": true
   },
   "outputs": [
    {
     "data": {
      "text/plain": [
       "(True, False)"
      ]
     },
     "execution_count": 33,
     "metadata": {},
     "output_type": "execute_result"
    }
   ],
   "source": [
    "x = (49 == 7 ** 2)\n",
    "y = (49 != 7 ** 2)\n",
    "x,y"
   ]
  },
  {
   "cell_type": "code",
   "execution_count": 34,
   "metadata": {},
   "outputs": [
    {
     "data": {
      "text/plain": [
       "6"
      ]
     },
     "execution_count": 34,
     "metadata": {},
     "output_type": "execute_result"
    }
   ],
   "source": [
    "12 * 2 \n",
    "+ 6"
   ]
  },
  {
   "cell_type": "code",
   "execution_count": 35,
   "metadata": {
    "scrolled": false
   },
   "outputs": [
    {
     "data": {
      "text/plain": [
       "30"
      ]
     },
     "execution_count": 35,
     "metadata": {},
     "output_type": "execute_result"
    }
   ],
   "source": [
    "12 * 2 \\\n",
    "+ 6"
   ]
  },
  {
   "cell_type": "code",
   "execution_count": 36,
   "metadata": {},
   "outputs": [
    {
     "data": {
      "text/plain": [
       "(True, True)"
      ]
     },
     "execution_count": 36,
     "metadata": {},
     "output_type": "execute_result"
    }
   ],
   "source": [
    "x = 5 > 3 and 5 > 2 \n",
    "y = True or not False #logical operators (vs identity operators such as is or is not == or !=)\n",
    "x, y "
   ]
  },
  {
   "cell_type": "code",
   "execution_count": 37,
   "metadata": {},
   "outputs": [
    {
     "data": {
      "text/plain": [
       "False"
      ]
     },
     "execution_count": 37,
     "metadata": {},
     "output_type": "execute_result"
    }
   ],
   "source": [
    "False and False #and checks wether the two statements around it are true"
   ]
  },
  {
   "cell_type": "code",
   "execution_count": 38,
   "metadata": {},
   "outputs": [
    {
     "data": {
      "text/plain": [
       "False"
      ]
     },
     "execution_count": 38,
     "metadata": {},
     "output_type": "execute_result"
    }
   ],
   "source": [
    "False and True"
   ]
  },
  {
   "cell_type": "code",
   "execution_count": 39,
   "metadata": {},
   "outputs": [
    {
     "data": {
      "text/plain": [
       "False"
      ]
     },
     "execution_count": 39,
     "metadata": {},
     "output_type": "execute_result"
    }
   ],
   "source": [
    "False or False #or checks if at least one of the statements is true"
   ]
  },
  {
   "cell_type": "code",
   "execution_count": 40,
   "metadata": {},
   "outputs": [
    {
     "data": {
      "text/plain": [
       "True"
      ]
     },
     "execution_count": 40,
     "metadata": {},
     "output_type": "execute_result"
    }
   ],
   "source": [
    "False or True"
   ]
  },
  {
   "cell_type": "code",
   "execution_count": 41,
   "metadata": {},
   "outputs": [
    {
     "data": {
      "text/plain": [
       "(False, True)"
      ]
     },
     "execution_count": 41,
     "metadata": {},
     "output_type": "execute_result"
    }
   ],
   "source": [
    "not True, not False"
   ]
  },
  {
   "cell_type": "code",
   "execution_count": 42,
   "metadata": {},
   "outputs": [
    {
     "data": {
      "text/plain": [
       "False"
      ]
     },
     "execution_count": 42,
     "metadata": {},
     "output_type": "execute_result"
    }
   ],
   "source": [
    "False or not True and not False"
   ]
  },
  {
   "cell_type": "code",
   "execution_count": 43,
   "metadata": {},
   "outputs": [
    {
     "data": {
      "text/plain": [
       "True"
      ]
     },
     "execution_count": 43,
     "metadata": {},
     "output_type": "execute_result"
    }
   ],
   "source": [
    "True and not False and True or not False"
   ]
  },
  {
   "cell_type": "markdown",
   "metadata": {},
   "source": [
    "<font size=5><b> Conditional statements: </b><font>"
   ]
  },
  {
   "cell_type": "code",
   "execution_count": 45,
   "metadata": {
    "scrolled": false
   },
   "outputs": [
    {
     "name": "stdout",
     "output_type": "stream",
     "text": [
      "Please input the volume of the liquid you want to store in meters cubed.45\n",
      "Please input the dimensions of your recipient in the following orderlenght, width then height in meters.3/5/3\n",
      "The recipient has the exact volume.\n"
     ]
    }
   ],
   "source": [
    "liquid = int(input(\"Please input the volume of the liquid you want to store in meters cubed.\"))\n",
    "x,y,z = input(\"Please input the dimensions of your recipient in the following order\\\n",
    "lenght, width then height in meters.\").split(\"/\")\n",
    "recipient = int(x)*int(y)*int(z)\n",
    "\n",
    "if recipient == liquid:\n",
    "    print(\"The recipient has the exact volume.\")\n",
    "if recipient < liquid:\n",
    "    print(\"The recipient doesn't have enough volume.\")\n",
    "if recipient > liquid:\n",
    "    print(\"The recipient has enough volume.\")"
   ]
  },
  {
   "cell_type": "markdown",
   "metadata": {},
   "source": [
    "<font size=5><b> Functions: </b><font>"
   ]
  },
  {
   "cell_type": "code",
   "execution_count": 46,
   "metadata": {},
   "outputs": [
    {
     "data": {
      "text/plain": [
       "11"
      ]
     },
     "execution_count": 46,
     "metadata": {},
     "output_type": "execute_result"
    }
   ],
   "source": [
    "def my_function(x,y):\n",
    "    result = x + y\n",
    "    return result\n",
    "\n",
    "my_function(5,6)"
   ]
  },
  {
   "cell_type": "code",
   "execution_count": 47,
   "metadata": {},
   "outputs": [],
   "source": [
    "#notable built-in functions\n",
    "\n",
    "x = min(13,43,4)\n",
    "y = max(13,43,4)\n",
    "z = abs(-100)\n",
    "a = 3 ** 2\n",
    "b = len(\"Elephant\")"
   ]
  },
  {
   "cell_type": "markdown",
   "metadata": {},
   "source": [
    "<font size=5><b> Lists & Methods: </b><font>"
   ]
  },
  {
   "cell_type": "code",
   "execution_count": 48,
   "metadata": {},
   "outputs": [
    {
     "data": {
      "text/plain": [
       "['Didier', 'Kylian', 'Karim', 'Antoine']"
      ]
     },
     "execution_count": 48,
     "metadata": {},
     "output_type": "execute_result"
    }
   ],
   "source": [
    "team = ['Didier', 'Kylian', 'Karim', 'Antoine']\n",
    "team"
   ]
  },
  {
   "cell_type": "code",
   "execution_count": 49,
   "metadata": {},
   "outputs": [
    {
     "data": {
      "text/plain": [
       "([0, 1, 2, 3, 4, 5, 6, 7, 8, 9],\n",
       " [0, 1, 2, 3, 4, 5, 6, 7, 8, 9],\n",
       " [0, 1, 2, 3, 4, 5, 6, 7, 8, 9],\n",
       " [0, 2, 4, 6, 8])"
      ]
     },
     "execution_count": 49,
     "metadata": {},
     "output_type": "execute_result"
    }
   ],
   "source": [
    "#other ways to create a list\n",
    "\n",
    "l1 = [*range(10)]\n",
    "l2 = [i for i in range (10)]\n",
    "l3 = list(range(10))\n",
    "l4 = list(range(0,10,2))\n",
    "\n",
    "l1,l2,l3, l4"
   ]
  },
  {
   "cell_type": "code",
   "execution_count": 50,
   "metadata": {},
   "outputs": [
    {
     "data": {
      "text/plain": [
       "[0, 2, 4, 6, 8]"
      ]
     },
     "execution_count": 50,
     "metadata": {},
     "output_type": "execute_result"
    }
   ],
   "source": [
    "#list comprehension\n",
    "\n",
    "even_numbers = [i for i in range(10) if i%2 == 0]\n",
    "even_numbers"
   ]
  },
  {
   "cell_type": "code",
   "execution_count": 51,
   "metadata": {},
   "outputs": [
    {
     "data": {
      "text/plain": [
       "('Antoine', 'Antoine', 'Kylian')"
      ]
     },
     "execution_count": 51,
     "metadata": {},
     "output_type": "execute_result"
    }
   ],
   "source": [
    "team[3], team[-1], team[-3]"
   ]
  },
  {
   "cell_type": "code",
   "execution_count": 52,
   "metadata": {},
   "outputs": [
    {
     "data": {
      "text/plain": [
       "['Didier', 'Karim', 'Antoine']"
      ]
     },
     "execution_count": 52,
     "metadata": {},
     "output_type": "execute_result"
    }
   ],
   "source": [
    "team = ['Didier', 'Kylian', 'Karim', 'Antoine']\n",
    "team.pop(1)\n",
    "team"
   ]
  },
  {
   "cell_type": "code",
   "execution_count": 53,
   "metadata": {},
   "outputs": [
    {
     "data": {
      "text/plain": [
       "['Didier', 'Karim', 'Antoine']"
      ]
     },
     "execution_count": 53,
     "metadata": {},
     "output_type": "execute_result"
    }
   ],
   "source": [
    "team = ['Didier', 'Kylian', 'Karim', 'Antoine']\n",
    "del(team[1])\n",
    "team"
   ]
  },
  {
   "cell_type": "code",
   "execution_count": 54,
   "metadata": {
    "scrolled": true
   },
   "outputs": [
    {
     "data": {
      "text/plain": [
       "['Didier', 'Paul', 'Karim', 'Antoine']"
      ]
     },
     "execution_count": 54,
     "metadata": {},
     "output_type": "execute_result"
    }
   ],
   "source": [
    "team = ['Didier', 'Kylian', 'Karim', 'Antoine']\n",
    "team[1] = 'Paul'\n",
    "team"
   ]
  },
  {
   "cell_type": "code",
   "execution_count": 55,
   "metadata": {},
   "outputs": [
    {
     "data": {
      "text/plain": [
       "2"
      ]
     },
     "execution_count": 55,
     "metadata": {},
     "output_type": "execute_result"
    }
   ],
   "source": [
    "team.index('Karim')"
   ]
  },
  {
   "cell_type": "code",
   "execution_count": 56,
   "metadata": {},
   "outputs": [
    {
     "name": "stdout",
     "output_type": "stream",
     "text": [
      "AAPL US EQUITY\n",
      "MSFT US EQUITY\n",
      "LOGN US EQUITY\n",
      "LIGHT US EQUITY\n"
     ]
    }
   ],
   "source": [
    "tickers  = ['AAPL', 'MSFT', 'LOGN', 'LIGHT']\n",
    "sec = ['US EQUITY', 'US EQUITY', 'US EQUITY', 'US EQUITY']\n",
    "\n",
    "for i,j in zip(tickers,sec):\n",
    "    print(i,j)"
   ]
  },
  {
   "cell_type": "code",
   "execution_count": 57,
   "metadata": {
    "scrolled": true
   },
   "outputs": [
    {
     "name": "stdout",
     "output_type": "stream",
     "text": [
      "1 name0\n",
      "2 name1\n",
      "3 name2\n",
      "4 name3\n",
      "5 name4\n",
      "6 name5\n",
      "7 name6\n",
      "8 name7\n",
      "9 name8\n",
      "10 name9\n"
     ]
    }
   ],
   "source": [
    "#enumerate: returns the index of the list and the list elements\n",
    "\n",
    "names = [('name' + str(i)) for i in range(10)]\n",
    "\n",
    "for i,name in enumerate(names,start = 1):\n",
    "    print(i,name)"
   ]
  },
  {
   "cell_type": "code",
   "execution_count": 58,
   "metadata": {
    "scrolled": true
   },
   "outputs": [
    {
     "data": {
      "text/plain": [
       "['Didier', 'Paul', 'Karim', 'Antoine']"
      ]
     },
     "execution_count": 58,
     "metadata": {},
     "output_type": "execute_result"
    }
   ],
   "source": [
    "team"
   ]
  },
  {
   "cell_type": "code",
   "execution_count": 59,
   "metadata": {},
   "outputs": [
    {
     "data": {
      "text/plain": [
       "['Didier', 'Paul', 'Karim', 'Antoine', 'Ziad']"
      ]
     },
     "execution_count": 59,
     "metadata": {},
     "output_type": "execute_result"
    }
   ],
   "source": [
    "team.append('Ziad')\n",
    "team"
   ]
  },
  {
   "cell_type": "code",
   "execution_count": 60,
   "metadata": {},
   "outputs": [
    {
     "data": {
      "text/plain": [
       "['Didier', 'Paul', 'Karim', 'Antoine', 'Ziad', 'Nour', 'Sanaa', 'Elhassan']"
      ]
     },
     "execution_count": 60,
     "metadata": {},
     "output_type": "execute_result"
    }
   ],
   "source": [
    "team.extend(['Nour', 'Sanaa', 'Elhassan'])\n",
    "team"
   ]
  },
  {
   "cell_type": "code",
   "execution_count": 61,
   "metadata": {},
   "outputs": [
    {
     "data": {
      "text/plain": [
       "['Ziad', 'Nour', 'Sanaa', 'Elhassan']"
      ]
     },
     "execution_count": 61,
     "metadata": {},
     "output_type": "execute_result"
    }
   ],
   "source": [
    "team[-4:]"
   ]
  },
  {
   "cell_type": "code",
   "execution_count": 62,
   "metadata": {},
   "outputs": [
    {
     "data": {
      "text/plain": [
       "[['Didier', 'Paul', 'Karim', 'Antoine', 'Ziad', 'Nour', 'Sanaa', 'Elhassan'],\n",
       " ['Memb 1', 'Memb 2', 'Memb 3']]"
      ]
     },
     "execution_count": 62,
     "metadata": {},
     "output_type": "execute_result"
    }
   ],
   "source": [
    "test_list = ['Memb 1', 'Memb 2', 'Memb 3']\n",
    "big_list = [team, test_list]\n",
    "big_list"
   ]
  },
  {
   "cell_type": "code",
   "execution_count": 63,
   "metadata": {},
   "outputs": [
    {
     "data": {
      "text/plain": [
       "['Antoine', 'Didier', 'Elhassan', 'Karim', 'Nour', 'Paul', 'Sanaa', 'Ziad']"
      ]
     },
     "execution_count": 63,
     "metadata": {},
     "output_type": "execute_result"
    }
   ],
   "source": [
    "team.sort() #by default it sorts it from A to Z\n",
    "team"
   ]
  },
  {
   "cell_type": "code",
   "execution_count": 64,
   "metadata": {
    "scrolled": true
   },
   "outputs": [
    {
     "data": {
      "text/plain": [
       "['Ziad', 'Sanaa', 'Paul', 'Nour', 'Karim', 'Elhassan', 'Didier', 'Antoine']"
      ]
     },
     "execution_count": 64,
     "metadata": {},
     "output_type": "execute_result"
    }
   ],
   "source": [
    "team.sort(reverse = True)\n",
    "team"
   ]
  },
  {
   "cell_type": "code",
   "execution_count": 65,
   "metadata": {
    "scrolled": true
   },
   "outputs": [
    {
     "data": {
      "text/plain": [
       "['Elhassan', 'Moad', 'Nour', 'Sanaa', 'Ziad']"
      ]
     },
     "execution_count": 65,
     "metadata": {},
     "output_type": "execute_result"
    }
   ],
   "source": [
    "#sorting the strings of a list by the last letter of each element\n",
    "\n",
    "lst = ['Moad', 'Ziad', 'Nour', 'Sanaa', 'Elhassan']\n",
    "lst.sort()\n",
    "lst"
   ]
  },
  {
   "cell_type": "code",
   "execution_count": 66,
   "metadata": {},
   "outputs": [
    {
     "data": {
      "text/plain": [
       "['Sanaa', 'Moad', 'Ziad', 'Elhassan', 'Nour']"
      ]
     },
     "execution_count": 66,
     "metadata": {},
     "output_type": "execute_result"
    }
   ],
   "source": [
    "lst.sort(key= lambda ele: ele[-1])\n",
    "lst"
   ]
  },
  {
   "cell_type": "code",
   "execution_count": 67,
   "metadata": {},
   "outputs": [
    {
     "data": {
      "text/plain": [
       "['Work', 'hard,', 'play', 'hard']"
      ]
     },
     "execution_count": 67,
     "metadata": {},
     "output_type": "execute_result"
    }
   ],
   "source": [
    "lst = 'Work hard, play hard'.split(' ')\n",
    "lst"
   ]
  },
  {
   "cell_type": "code",
   "execution_count": 68,
   "metadata": {
    "scrolled": false
   },
   "outputs": [
    {
     "data": {
      "text/plain": [
       "['__add__',\n",
       " '__class__',\n",
       " '__contains__',\n",
       " '__delattr__',\n",
       " '__delitem__',\n",
       " '__dir__',\n",
       " '__doc__',\n",
       " '__eq__',\n",
       " '__format__',\n",
       " '__ge__',\n",
       " '__getattribute__',\n",
       " '__getitem__',\n",
       " '__gt__',\n",
       " '__hash__',\n",
       " '__iadd__',\n",
       " '__imul__',\n",
       " '__init__',\n",
       " '__init_subclass__',\n",
       " '__iter__',\n",
       " '__le__',\n",
       " '__len__',\n",
       " '__lt__',\n",
       " '__mul__',\n",
       " '__ne__',\n",
       " '__new__',\n",
       " '__reduce__',\n",
       " '__reduce_ex__',\n",
       " '__repr__',\n",
       " '__reversed__',\n",
       " '__rmul__',\n",
       " '__setattr__',\n",
       " '__setitem__',\n",
       " '__sizeof__',\n",
       " '__str__',\n",
       " '__subclasshook__',\n",
       " 'append',\n",
       " 'clear',\n",
       " 'copy',\n",
       " 'count',\n",
       " 'extend',\n",
       " 'index',\n",
       " 'insert',\n",
       " 'pop',\n",
       " 'remove',\n",
       " 'reverse',\n",
       " 'sort']"
      ]
     },
     "execution_count": 68,
     "metadata": {},
     "output_type": "execute_result"
    }
   ],
   "source": [
    "#dir function to know all the available methods\n",
    "\n",
    "dir(names)"
   ]
  },
  {
   "cell_type": "markdown",
   "metadata": {},
   "source": [
    "<font size=5><b> Tuples: </b><font>"
   ]
  },
  {
   "cell_type": "code",
   "execution_count": 69,
   "metadata": {},
   "outputs": [],
   "source": [
    "x = (13, 4, 1997)\n",
    "x, y, z = 13, 4, 1997 #a tuple of integers assigned to the tuple (x,y,z)"
   ]
  },
  {
   "cell_type": "code",
   "execution_count": 70,
   "metadata": {},
   "outputs": [
    {
     "data": {
      "text/plain": [
       "('Je vais être le meilleur', ' crois moi!')"
      ]
     },
     "execution_count": 70,
     "metadata": {},
     "output_type": "execute_result"
    }
   ],
   "source": [
    "a, b = 'Je vais être le meilleur, crois moi!'.split(',') #define a separator when using split\n",
    "a, b"
   ]
  },
  {
   "cell_type": "markdown",
   "metadata": {},
   "source": [
    "<font size = 5><b> Dictionaries: </b><font>"
   ]
  },
  {
   "cell_type": "code",
   "execution_count": 71,
   "metadata": {},
   "outputs": [
    {
     "data": {
      "text/plain": [
       "'Hamburger'"
      ]
     },
     "execution_count": 71,
     "metadata": {},
     "output_type": "execute_result"
    }
   ],
   "source": [
    "Menu = {'meal_1':'Spaghetti', 'meal_2':'Fries', 'meal_3':'Hamburger', 'meal_4':'Lasagna'}\n",
    "Menu['meal_3'] #to access a value in a dictionary you must use its key"
   ]
  },
  {
   "cell_type": "code",
   "execution_count": 72,
   "metadata": {},
   "outputs": [
    {
     "data": {
      "text/plain": [
       "{'meal_1': 'Spaghetti',\n",
       " 'meal_2': 'Fries',\n",
       " 'meal_3': 'Hamburger',\n",
       " 'meal_4': 'Lasagna',\n",
       " 'meal_5': 'Pizza'}"
      ]
     },
     "execution_count": 72,
     "metadata": {},
     "output_type": "execute_result"
    }
   ],
   "source": [
    "Menu['meal_5'] = 'Pizza' #to add a new entry in the dictionary you must use the key again\n",
    "Menu"
   ]
  },
  {
   "cell_type": "code",
   "execution_count": 73,
   "metadata": {},
   "outputs": [
    {
     "data": {
      "text/plain": [
       "{'meal_1': 'Spaghetti',\n",
       " 'meal_2': 'Fries',\n",
       " 'meal_3': 'Hamburger',\n",
       " 'meal_4': 'Risotto',\n",
       " 'meal_5': 'Pizza'}"
      ]
     },
     "execution_count": 73,
     "metadata": {},
     "output_type": "execute_result"
    }
   ],
   "source": [
    "Menu['meal_4'] = 'Risotto'\n",
    "Menu #to replace a value in the dictionary tou must use the key again"
   ]
  },
  {
   "cell_type": "code",
   "execution_count": 74,
   "metadata": {
    "scrolled": true
   },
   "outputs": [
    {
     "name": "stdout",
     "output_type": "stream",
     "text": [
      "('Apple', 'Long')\n",
      "('Solutions 30', 'Short')\n",
      "('Tesla', 'Long')\n",
      "('Logitech', 'Long')\n"
     ]
    }
   ],
   "source": [
    "dct = {'Apple':'Long','Solutions 30':'Short', 'Tesla':'Long', 'Logitech':'Long'}\n",
    "for i in dct.items():\n",
    "    print(i)"
   ]
  },
  {
   "cell_type": "code",
   "execution_count": 75,
   "metadata": {
    "scrolled": true
   },
   "outputs": [
    {
     "name": "stdout",
     "output_type": "stream",
     "text": [
      "Apple\n",
      "Solutions 30\n",
      "Tesla\n",
      "Logitech\n"
     ]
    }
   ],
   "source": [
    "dct = {'Apple':'Long','Solutions 30':'Short', 'Tesla':'Long', 'Logitech':'Long'}\n",
    "for i in dct.keys():\n",
    "    print(i)"
   ]
  },
  {
   "cell_type": "code",
   "execution_count": 76,
   "metadata": {
    "scrolled": true
   },
   "outputs": [
    {
     "name": "stdout",
     "output_type": "stream",
     "text": [
      "Long\n",
      "Short\n",
      "Long\n",
      "Long\n"
     ]
    }
   ],
   "source": [
    "dct = {'Apple':'Long','Solutions 30':'Short', 'Tesla':'Long', 'Logitech':'Long'}\n",
    "for i in dct.values():\n",
    "    print(i)"
   ]
  },
  {
   "cell_type": "code",
   "execution_count": 77,
   "metadata": {
    "scrolled": true
   },
   "outputs": [
    {
     "data": {
      "text/plain": [
       "'Long'"
      ]
     },
     "execution_count": 77,
     "metadata": {},
     "output_type": "execute_result"
    }
   ],
   "source": [
    "dct.get('Tesla')"
   ]
  },
  {
   "cell_type": "markdown",
   "metadata": {},
   "source": [
    "<font size = 5><b> Loops: </b><font>"
   ]
  },
  {
   "cell_type": "code",
   "execution_count": 78,
   "metadata": {},
   "outputs": [
    {
     "name": "stdout",
     "output_type": "stream",
     "text": [
      "0 1 2 3 4 5 6 7 8 9 "
     ]
    }
   ],
   "source": [
    "lst = [*range(10)]\n",
    "for i in lst:\n",
    "    print(i, end=\" \")"
   ]
  },
  {
   "cell_type": "code",
   "execution_count": 79,
   "metadata": {},
   "outputs": [
    {
     "name": "stdout",
     "output_type": "stream",
     "text": [
      "1 3 5 7 9 11 13 15 17 19 21 23 25 27 29 "
     ]
    }
   ],
   "source": [
    "i = 0\n",
    "while i <= 30:\n",
    "    if i % 2 != 0:\n",
    "        print(i, end=\" \")\n",
    "    i += 1"
   ]
  },
  {
   "cell_type": "markdown",
   "metadata": {},
   "source": [
    "<font size = 5><b> Object oriented programming: </b><font>"
   ]
  },
  {
   "cell_type": "code",
   "execution_count": 80,
   "metadata": {},
   "outputs": [],
   "source": [
    "#class -> object (instance) -> attributes (properties) ; methods\n",
    "#eg. : python list class\n",
    "\n",
    "#module : code defining variables, functions and classes\n",
    "#package/library : collection or directory of related modules\n",
    "#help(module)"
   ]
  },
  {
   "cell_type": "code",
   "execution_count": 81,
   "metadata": {},
   "outputs": [
    {
     "name": "stdout",
     "output_type": "stream",
     "text": [
      "Requirement already satisfied: pandas-datareader in /opt/anaconda3/lib/python3.8/site-packages (0.9.0)\n",
      "Requirement already satisfied: pandas>=0.23 in /opt/anaconda3/lib/python3.8/site-packages (from pandas-datareader) (1.1.3)\n",
      "Requirement already satisfied: lxml in /opt/anaconda3/lib/python3.8/site-packages (from pandas-datareader) (4.6.1)\n",
      "Requirement already satisfied: requests>=2.19.0 in /opt/anaconda3/lib/python3.8/site-packages (from pandas-datareader) (2.24.0)\n",
      "Requirement already satisfied: numpy>=1.15.4 in /opt/anaconda3/lib/python3.8/site-packages (from pandas>=0.23->pandas-datareader) (1.19.2)\n",
      "Requirement already satisfied: pytz>=2017.2 in /opt/anaconda3/lib/python3.8/site-packages (from pandas>=0.23->pandas-datareader) (2020.1)\n",
      "Requirement already satisfied: python-dateutil>=2.7.3 in /opt/anaconda3/lib/python3.8/site-packages (from pandas>=0.23->pandas-datareader) (2.8.1)\n",
      "Requirement already satisfied: urllib3!=1.25.0,!=1.25.1,<1.26,>=1.21.1 in /opt/anaconda3/lib/python3.8/site-packages (from requests>=2.19.0->pandas-datareader) (1.25.11)\n",
      "Requirement already satisfied: certifi>=2017.4.17 in /opt/anaconda3/lib/python3.8/site-packages (from requests>=2.19.0->pandas-datareader) (2020.6.20)\n",
      "Requirement already satisfied: chardet<4,>=3.0.2 in /opt/anaconda3/lib/python3.8/site-packages (from requests>=2.19.0->pandas-datareader) (3.0.4)\n",
      "Requirement already satisfied: idna<3,>=2.5 in /opt/anaconda3/lib/python3.8/site-packages (from requests>=2.19.0->pandas-datareader) (2.10)\n",
      "Requirement already satisfied: six>=1.5 in /opt/anaconda3/lib/python3.8/site-packages (from python-dateutil>=2.7.3->pandas>=0.23->pandas-datareader) (1.15.0)\n",
      "Note: you may need to restart the kernel to use updated packages.\n"
     ]
    }
   ],
   "source": [
    "pip install pandas-datareader"
   ]
  },
  {
   "cell_type": "code",
   "execution_count": 82,
   "metadata": {},
   "outputs": [
    {
     "name": "stdout",
     "output_type": "stream",
     "text": [
      "Requirement already satisfied: quandl in /opt/anaconda3/lib/python3.8/site-packages (3.6.1)\n",
      "Requirement already satisfied: inflection>=0.3.1 in /opt/anaconda3/lib/python3.8/site-packages (from quandl) (0.5.1)\n",
      "Requirement already satisfied: six in /opt/anaconda3/lib/python3.8/site-packages (from quandl) (1.15.0)\n",
      "Requirement already satisfied: requests>=2.7.0 in /opt/anaconda3/lib/python3.8/site-packages (from quandl) (2.24.0)\n",
      "Requirement already satisfied: numpy>=1.8 in /opt/anaconda3/lib/python3.8/site-packages (from quandl) (1.19.2)\n",
      "Requirement already satisfied: pandas>=0.14 in /opt/anaconda3/lib/python3.8/site-packages (from quandl) (1.1.3)\n",
      "Requirement already satisfied: python-dateutil in /opt/anaconda3/lib/python3.8/site-packages (from quandl) (2.8.1)\n",
      "Requirement already satisfied: more-itertools in /opt/anaconda3/lib/python3.8/site-packages (from quandl) (8.6.0)\n",
      "Requirement already satisfied: idna<3,>=2.5 in /opt/anaconda3/lib/python3.8/site-packages (from requests>=2.7.0->quandl) (2.10)\n",
      "Requirement already satisfied: chardet<4,>=3.0.2 in /opt/anaconda3/lib/python3.8/site-packages (from requests>=2.7.0->quandl) (3.0.4)\n",
      "Requirement already satisfied: urllib3!=1.25.0,!=1.25.1,<1.26,>=1.21.1 in /opt/anaconda3/lib/python3.8/site-packages (from requests>=2.7.0->quandl) (1.25.11)\n",
      "Requirement already satisfied: certifi>=2017.4.17 in /opt/anaconda3/lib/python3.8/site-packages (from requests>=2.7.0->quandl) (2020.6.20)\n",
      "Requirement already satisfied: pytz>=2017.2 in /opt/anaconda3/lib/python3.8/site-packages (from pandas>=0.14->quandl) (2020.1)\n",
      "Note: you may need to restart the kernel to use updated packages.\n"
     ]
    }
   ],
   "source": [
    "pip install quandl"
   ]
  },
  {
   "cell_type": "code",
   "execution_count": 83,
   "metadata": {},
   "outputs": [],
   "source": [
    "#fundamental libraries\n",
    "\n",
    "import math as m\n",
    "import numpy as np #working with multidimensional arrays\n",
    "import matplotlib as plt #2D plotting lib for visualization of numpy computations\n",
    "import pandas as pd #reorganizing data in a tabular form & attach descriptive labels (timeseries & huge data bases)\n",
    "import pandas_datareader\n",
    "from pandas_datareader import data as wb\n",
    "import quandl\n",
    "import random as rd #random number generators\n",
    "import statsmodels as stats #descriptive statistics, plotting & regressions"
   ]
  },
  {
   "cell_type": "markdown",
   "metadata": {},
   "source": [
    "<font size = 5><b> Arrays: </b><font>"
   ]
  },
  {
   "cell_type": "code",
   "execution_count": 84,
   "metadata": {},
   "outputs": [
    {
     "data": {
      "text/plain": [
       "array([[ 0,  1,  2,  3,  4],\n",
       "       [ 5,  6,  7,  8,  9],\n",
       "       [11, 12, 13, 14, 15]])"
      ]
     },
     "execution_count": 84,
     "metadata": {},
     "output_type": "execute_result"
    }
   ],
   "source": [
    "#all the constituents of an array must be of the same type and homogeneous\n",
    "\n",
    "arr = np.array([list(range(5)),list(range(5,10)),list(range(11,16))])\n",
    "arr"
   ]
  },
  {
   "cell_type": "code",
   "execution_count": 85,
   "metadata": {},
   "outputs": [
    {
     "data": {
      "text/plain": [
       "(3, 5)"
      ]
     },
     "execution_count": 85,
     "metadata": {},
     "output_type": "execute_result"
    }
   ],
   "source": [
    "arr.shape"
   ]
  },
  {
   "cell_type": "code",
   "execution_count": 86,
   "metadata": {},
   "outputs": [
    {
     "data": {
      "text/plain": [
       "7"
      ]
     },
     "execution_count": 86,
     "metadata": {},
     "output_type": "execute_result"
    }
   ],
   "source": [
    "arr[1,2]"
   ]
  },
  {
   "cell_type": "code",
   "execution_count": 87,
   "metadata": {},
   "outputs": [
    {
     "data": {
      "text/plain": [
       "array([[ 0,  1,  2,  3,  4],\n",
       "       [ 5,  6, 49,  8,  9],\n",
       "       [11, 12, 13, 14, 15]])"
      ]
     },
     "execution_count": 87,
     "metadata": {},
     "output_type": "execute_result"
    }
   ],
   "source": [
    "arr[1,2] = 7**2\n",
    "arr"
   ]
  },
  {
   "cell_type": "code",
   "execution_count": 88,
   "metadata": {},
   "outputs": [
    {
     "data": {
      "text/plain": [
       "array([ 5,  6, 49,  8,  9])"
      ]
     },
     "execution_count": 88,
     "metadata": {},
     "output_type": "execute_result"
    }
   ],
   "source": [
    "arr[1]"
   ]
  },
  {
   "cell_type": "markdown",
   "metadata": {},
   "source": [
    "<font size = 5><b> Random: </b><font>"
   ]
  },
  {
   "cell_type": "code",
   "execution_count": 89,
   "metadata": {},
   "outputs": [
    {
     "data": {
      "text/plain": [
       "(0.05388414966059196, 2)"
      ]
     },
     "execution_count": 89,
     "metadata": {},
     "output_type": "execute_result"
    }
   ],
   "source": [
    "rdm1 = rd.random()\n",
    "rdm2 = rd.randint(1,4)\n",
    "rdm1, rdm2"
   ]
  },
  {
   "cell_type": "code",
   "execution_count": 90,
   "metadata": {},
   "outputs": [
    {
     "data": {
      "text/plain": [
       "array([[1, 4, 2, 1, 3, 2],\n",
       "       [4, 2, 1, 2, 2, 4],\n",
       "       [3, 1, 1, 4, 2, 2],\n",
       "       [1, 2, 4, 1, 1, 3]])"
      ]
     },
     "execution_count": 90,
     "metadata": {},
     "output_type": "execute_result"
    }
   ],
   "source": [
    "rd_array = np.random.randint(1,5,(4,6))\n",
    "rd_array"
   ]
  },
  {
   "cell_type": "markdown",
   "metadata": {},
   "source": [
    "<font size = 5><b> Financial data: </b><font>"
   ]
  },
  {
   "cell_type": "code",
   "execution_count": 91,
   "metadata": {},
   "outputs": [],
   "source": [
    "ser = pd.Series(np.random.random(5), name = 'Column 01') #data series\n",
    "df = wb.DataReader('PG', data_source = 'yahoo', start = '2019-12-31') #data frame"
   ]
  },
  {
   "cell_type": "code",
   "execution_count": 92,
   "metadata": {},
   "outputs": [
    {
     "data": {
      "text/plain": [
       "0    0.390587\n",
       "1    0.156416\n",
       "2    0.300846\n",
       "3    0.017264\n",
       "4    0.906237\n",
       "Name: Column 01, dtype: float64"
      ]
     },
     "execution_count": 92,
     "metadata": {},
     "output_type": "execute_result"
    }
   ],
   "source": [
    "ser"
   ]
  },
  {
   "cell_type": "code",
   "execution_count": 93,
   "metadata": {
    "scrolled": true
   },
   "outputs": [
    {
     "data": {
      "text/html": [
       "<div>\n",
       "<style scoped>\n",
       "    .dataframe tbody tr th:only-of-type {\n",
       "        vertical-align: middle;\n",
       "    }\n",
       "\n",
       "    .dataframe tbody tr th {\n",
       "        vertical-align: top;\n",
       "    }\n",
       "\n",
       "    .dataframe thead th {\n",
       "        text-align: right;\n",
       "    }\n",
       "</style>\n",
       "<table border=\"1\" class=\"dataframe\">\n",
       "  <thead>\n",
       "    <tr style=\"text-align: right;\">\n",
       "      <th></th>\n",
       "      <th>High</th>\n",
       "      <th>Low</th>\n",
       "      <th>Open</th>\n",
       "      <th>Close</th>\n",
       "      <th>Volume</th>\n",
       "      <th>Adj Close</th>\n",
       "    </tr>\n",
       "    <tr>\n",
       "      <th>Date</th>\n",
       "      <th></th>\n",
       "      <th></th>\n",
       "      <th></th>\n",
       "      <th></th>\n",
       "      <th></th>\n",
       "      <th></th>\n",
       "    </tr>\n",
       "  </thead>\n",
       "  <tbody>\n",
       "    <tr>\n",
       "      <th>2019-12-31</th>\n",
       "      <td>124.989998</td>\n",
       "      <td>123.949997</td>\n",
       "      <td>124.430000</td>\n",
       "      <td>124.900002</td>\n",
       "      <td>4798900.0</td>\n",
       "      <td>120.388504</td>\n",
       "    </tr>\n",
       "    <tr>\n",
       "      <th>2020-01-02</th>\n",
       "      <td>124.730003</td>\n",
       "      <td>122.940002</td>\n",
       "      <td>124.500000</td>\n",
       "      <td>123.410004</td>\n",
       "      <td>8130800.0</td>\n",
       "      <td>118.952316</td>\n",
       "    </tr>\n",
       "    <tr>\n",
       "      <th>2020-01-03</th>\n",
       "      <td>123.529999</td>\n",
       "      <td>121.860001</td>\n",
       "      <td>122.160004</td>\n",
       "      <td>122.580002</td>\n",
       "      <td>7970500.0</td>\n",
       "      <td>118.152298</td>\n",
       "    </tr>\n",
       "    <tr>\n",
       "      <th>2020-01-06</th>\n",
       "      <td>123.190002</td>\n",
       "      <td>122.379997</td>\n",
       "      <td>122.570000</td>\n",
       "      <td>122.750000</td>\n",
       "      <td>6674400.0</td>\n",
       "      <td>118.316154</td>\n",
       "    </tr>\n",
       "    <tr>\n",
       "      <th>2020-01-07</th>\n",
       "      <td>123.209999</td>\n",
       "      <td>121.870003</td>\n",
       "      <td>122.879997</td>\n",
       "      <td>121.989998</td>\n",
       "      <td>7583400.0</td>\n",
       "      <td>117.583603</td>\n",
       "    </tr>\n",
       "    <tr>\n",
       "      <th>...</th>\n",
       "      <td>...</td>\n",
       "      <td>...</td>\n",
       "      <td>...</td>\n",
       "      <td>...</td>\n",
       "      <td>...</td>\n",
       "      <td>...</td>\n",
       "    </tr>\n",
       "    <tr>\n",
       "      <th>2021-04-19</th>\n",
       "      <td>137.080002</td>\n",
       "      <td>135.389999</td>\n",
       "      <td>136.940002</td>\n",
       "      <td>136.610001</td>\n",
       "      <td>9149400.0</td>\n",
       "      <td>135.741531</td>\n",
       "    </tr>\n",
       "    <tr>\n",
       "      <th>2021-04-20</th>\n",
       "      <td>138.589996</td>\n",
       "      <td>133.529999</td>\n",
       "      <td>134.839996</td>\n",
       "      <td>137.750000</td>\n",
       "      <td>10040500.0</td>\n",
       "      <td>136.874283</td>\n",
       "    </tr>\n",
       "    <tr>\n",
       "      <th>2021-04-21</th>\n",
       "      <td>138.570007</td>\n",
       "      <td>136.600006</td>\n",
       "      <td>137.889999</td>\n",
       "      <td>136.850006</td>\n",
       "      <td>8465900.0</td>\n",
       "      <td>135.980011</td>\n",
       "    </tr>\n",
       "    <tr>\n",
       "      <th>2021-04-22</th>\n",
       "      <td>135.789993</td>\n",
       "      <td>134.059998</td>\n",
       "      <td>135.369995</td>\n",
       "      <td>134.630005</td>\n",
       "      <td>7338300.0</td>\n",
       "      <td>134.630005</td>\n",
       "    </tr>\n",
       "    <tr>\n",
       "      <th>2021-04-23</th>\n",
       "      <td>135.080002</td>\n",
       "      <td>133.250000</td>\n",
       "      <td>134.929993</td>\n",
       "      <td>133.940002</td>\n",
       "      <td>6708300.0</td>\n",
       "      <td>133.940002</td>\n",
       "    </tr>\n",
       "  </tbody>\n",
       "</table>\n",
       "<p>331 rows × 6 columns</p>\n",
       "</div>"
      ],
      "text/plain": [
       "                  High         Low        Open       Close      Volume  \\\n",
       "Date                                                                     \n",
       "2019-12-31  124.989998  123.949997  124.430000  124.900002   4798900.0   \n",
       "2020-01-02  124.730003  122.940002  124.500000  123.410004   8130800.0   \n",
       "2020-01-03  123.529999  121.860001  122.160004  122.580002   7970500.0   \n",
       "2020-01-06  123.190002  122.379997  122.570000  122.750000   6674400.0   \n",
       "2020-01-07  123.209999  121.870003  122.879997  121.989998   7583400.0   \n",
       "...                ...         ...         ...         ...         ...   \n",
       "2021-04-19  137.080002  135.389999  136.940002  136.610001   9149400.0   \n",
       "2021-04-20  138.589996  133.529999  134.839996  137.750000  10040500.0   \n",
       "2021-04-21  138.570007  136.600006  137.889999  136.850006   8465900.0   \n",
       "2021-04-22  135.789993  134.059998  135.369995  134.630005   7338300.0   \n",
       "2021-04-23  135.080002  133.250000  134.929993  133.940002   6708300.0   \n",
       "\n",
       "             Adj Close  \n",
       "Date                    \n",
       "2019-12-31  120.388504  \n",
       "2020-01-02  118.952316  \n",
       "2020-01-03  118.152298  \n",
       "2020-01-06  118.316154  \n",
       "2020-01-07  117.583603  \n",
       "...                ...  \n",
       "2021-04-19  135.741531  \n",
       "2021-04-20  136.874283  \n",
       "2021-04-21  135.980011  \n",
       "2021-04-22  134.630005  \n",
       "2021-04-23  133.940002  \n",
       "\n",
       "[331 rows x 6 columns]"
      ]
     },
     "execution_count": 93,
     "metadata": {},
     "output_type": "execute_result"
    }
   ],
   "source": [
    "df"
   ]
  },
  {
   "cell_type": "code",
   "execution_count": 94,
   "metadata": {},
   "outputs": [
    {
     "name": "stdout",
     "output_type": "stream",
     "text": [
      "<class 'pandas.core.frame.DataFrame'>\n",
      "DatetimeIndex: 331 entries, 2019-12-31 to 2021-04-23\n",
      "Data columns (total 6 columns):\n",
      " #   Column     Non-Null Count  Dtype  \n",
      "---  ------     --------------  -----  \n",
      " 0   High       331 non-null    float64\n",
      " 1   Low        331 non-null    float64\n",
      " 2   Open       331 non-null    float64\n",
      " 3   Close      331 non-null    float64\n",
      " 4   Volume     331 non-null    float64\n",
      " 5   Adj Close  331 non-null    float64\n",
      "dtypes: float64(6)\n",
      "memory usage: 18.1 KB\n"
     ]
    }
   ],
   "source": [
    "df.info()"
   ]
  },
  {
   "cell_type": "code",
   "execution_count": 95,
   "metadata": {},
   "outputs": [
    {
     "data": {
      "text/html": [
       "<div>\n",
       "<style scoped>\n",
       "    .dataframe tbody tr th:only-of-type {\n",
       "        vertical-align: middle;\n",
       "    }\n",
       "\n",
       "    .dataframe tbody tr th {\n",
       "        vertical-align: top;\n",
       "    }\n",
       "\n",
       "    .dataframe thead th {\n",
       "        text-align: right;\n",
       "    }\n",
       "</style>\n",
       "<table border=\"1\" class=\"dataframe\">\n",
       "  <thead>\n",
       "    <tr style=\"text-align: right;\">\n",
       "      <th></th>\n",
       "      <th>High</th>\n",
       "      <th>Low</th>\n",
       "      <th>Open</th>\n",
       "      <th>Close</th>\n",
       "      <th>Volume</th>\n",
       "      <th>Adj Close</th>\n",
       "    </tr>\n",
       "    <tr>\n",
       "      <th>Date</th>\n",
       "      <th></th>\n",
       "      <th></th>\n",
       "      <th></th>\n",
       "      <th></th>\n",
       "      <th></th>\n",
       "      <th></th>\n",
       "    </tr>\n",
       "  </thead>\n",
       "  <tbody>\n",
       "    <tr>\n",
       "      <th>2019-12-31</th>\n",
       "      <td>124.989998</td>\n",
       "      <td>123.949997</td>\n",
       "      <td>124.430000</td>\n",
       "      <td>124.900002</td>\n",
       "      <td>4798900.0</td>\n",
       "      <td>120.388504</td>\n",
       "    </tr>\n",
       "    <tr>\n",
       "      <th>2020-01-02</th>\n",
       "      <td>124.730003</td>\n",
       "      <td>122.940002</td>\n",
       "      <td>124.500000</td>\n",
       "      <td>123.410004</td>\n",
       "      <td>8130800.0</td>\n",
       "      <td>118.952316</td>\n",
       "    </tr>\n",
       "    <tr>\n",
       "      <th>2020-01-03</th>\n",
       "      <td>123.529999</td>\n",
       "      <td>121.860001</td>\n",
       "      <td>122.160004</td>\n",
       "      <td>122.580002</td>\n",
       "      <td>7970500.0</td>\n",
       "      <td>118.152298</td>\n",
       "    </tr>\n",
       "    <tr>\n",
       "      <th>2020-01-06</th>\n",
       "      <td>123.190002</td>\n",
       "      <td>122.379997</td>\n",
       "      <td>122.570000</td>\n",
       "      <td>122.750000</td>\n",
       "      <td>6674400.0</td>\n",
       "      <td>118.316154</td>\n",
       "    </tr>\n",
       "    <tr>\n",
       "      <th>2020-01-07</th>\n",
       "      <td>123.209999</td>\n",
       "      <td>121.870003</td>\n",
       "      <td>122.879997</td>\n",
       "      <td>121.989998</td>\n",
       "      <td>7583400.0</td>\n",
       "      <td>117.583603</td>\n",
       "    </tr>\n",
       "  </tbody>\n",
       "</table>\n",
       "</div>"
      ],
      "text/plain": [
       "                  High         Low        Open       Close     Volume  \\\n",
       "Date                                                                    \n",
       "2019-12-31  124.989998  123.949997  124.430000  124.900002  4798900.0   \n",
       "2020-01-02  124.730003  122.940002  124.500000  123.410004  8130800.0   \n",
       "2020-01-03  123.529999  121.860001  122.160004  122.580002  7970500.0   \n",
       "2020-01-06  123.190002  122.379997  122.570000  122.750000  6674400.0   \n",
       "2020-01-07  123.209999  121.870003  122.879997  121.989998  7583400.0   \n",
       "\n",
       "             Adj Close  \n",
       "Date                    \n",
       "2019-12-31  120.388504  \n",
       "2020-01-02  118.952316  \n",
       "2020-01-03  118.152298  \n",
       "2020-01-06  118.316154  \n",
       "2020-01-07  117.583603  "
      ]
     },
     "execution_count": 95,
     "metadata": {},
     "output_type": "execute_result"
    }
   ],
   "source": [
    "df.head(5)"
   ]
  },
  {
   "cell_type": "code",
   "execution_count": 96,
   "metadata": {
    "scrolled": true
   },
   "outputs": [
    {
     "data": {
      "text/html": [
       "<div>\n",
       "<style scoped>\n",
       "    .dataframe tbody tr th:only-of-type {\n",
       "        vertical-align: middle;\n",
       "    }\n",
       "\n",
       "    .dataframe tbody tr th {\n",
       "        vertical-align: top;\n",
       "    }\n",
       "\n",
       "    .dataframe thead th {\n",
       "        text-align: right;\n",
       "    }\n",
       "</style>\n",
       "<table border=\"1\" class=\"dataframe\">\n",
       "  <thead>\n",
       "    <tr style=\"text-align: right;\">\n",
       "      <th></th>\n",
       "      <th>High</th>\n",
       "      <th>Low</th>\n",
       "      <th>Open</th>\n",
       "      <th>Close</th>\n",
       "      <th>Volume</th>\n",
       "      <th>Adj Close</th>\n",
       "    </tr>\n",
       "    <tr>\n",
       "      <th>Date</th>\n",
       "      <th></th>\n",
       "      <th></th>\n",
       "      <th></th>\n",
       "      <th></th>\n",
       "      <th></th>\n",
       "      <th></th>\n",
       "    </tr>\n",
       "  </thead>\n",
       "  <tbody>\n",
       "    <tr>\n",
       "      <th>2021-04-19</th>\n",
       "      <td>137.080002</td>\n",
       "      <td>135.389999</td>\n",
       "      <td>136.940002</td>\n",
       "      <td>136.610001</td>\n",
       "      <td>9149400.0</td>\n",
       "      <td>135.741531</td>\n",
       "    </tr>\n",
       "    <tr>\n",
       "      <th>2021-04-20</th>\n",
       "      <td>138.589996</td>\n",
       "      <td>133.529999</td>\n",
       "      <td>134.839996</td>\n",
       "      <td>137.750000</td>\n",
       "      <td>10040500.0</td>\n",
       "      <td>136.874283</td>\n",
       "    </tr>\n",
       "    <tr>\n",
       "      <th>2021-04-21</th>\n",
       "      <td>138.570007</td>\n",
       "      <td>136.600006</td>\n",
       "      <td>137.889999</td>\n",
       "      <td>136.850006</td>\n",
       "      <td>8465900.0</td>\n",
       "      <td>135.980011</td>\n",
       "    </tr>\n",
       "    <tr>\n",
       "      <th>2021-04-22</th>\n",
       "      <td>135.789993</td>\n",
       "      <td>134.059998</td>\n",
       "      <td>135.369995</td>\n",
       "      <td>134.630005</td>\n",
       "      <td>7338300.0</td>\n",
       "      <td>134.630005</td>\n",
       "    </tr>\n",
       "    <tr>\n",
       "      <th>2021-04-23</th>\n",
       "      <td>135.080002</td>\n",
       "      <td>133.250000</td>\n",
       "      <td>134.929993</td>\n",
       "      <td>133.940002</td>\n",
       "      <td>6708300.0</td>\n",
       "      <td>133.940002</td>\n",
       "    </tr>\n",
       "  </tbody>\n",
       "</table>\n",
       "</div>"
      ],
      "text/plain": [
       "                  High         Low        Open       Close      Volume  \\\n",
       "Date                                                                     \n",
       "2021-04-19  137.080002  135.389999  136.940002  136.610001   9149400.0   \n",
       "2021-04-20  138.589996  133.529999  134.839996  137.750000  10040500.0   \n",
       "2021-04-21  138.570007  136.600006  137.889999  136.850006   8465900.0   \n",
       "2021-04-22  135.789993  134.059998  135.369995  134.630005   7338300.0   \n",
       "2021-04-23  135.080002  133.250000  134.929993  133.940002   6708300.0   \n",
       "\n",
       "             Adj Close  \n",
       "Date                    \n",
       "2021-04-19  135.741531  \n",
       "2021-04-20  136.874283  \n",
       "2021-04-21  135.980011  \n",
       "2021-04-22  134.630005  \n",
       "2021-04-23  133.940002  "
      ]
     },
     "execution_count": 96,
     "metadata": {},
     "output_type": "execute_result"
    }
   ],
   "source": [
    "df.tail(5)"
   ]
  },
  {
   "cell_type": "code",
   "execution_count": 97,
   "metadata": {
    "scrolled": true
   },
   "outputs": [
    {
     "data": {
      "text/html": [
       "<div>\n",
       "<style scoped>\n",
       "    .dataframe tbody tr th:only-of-type {\n",
       "        vertical-align: middle;\n",
       "    }\n",
       "\n",
       "    .dataframe tbody tr th {\n",
       "        vertical-align: top;\n",
       "    }\n",
       "\n",
       "    .dataframe thead th {\n",
       "        text-align: right;\n",
       "    }\n",
       "</style>\n",
       "<table border=\"1\" class=\"dataframe\">\n",
       "  <thead>\n",
       "    <tr style=\"text-align: right;\">\n",
       "      <th></th>\n",
       "      <th>AAPL</th>\n",
       "      <th>MSFT</th>\n",
       "      <th>AMZN</th>\n",
       "      <th>GOOG</th>\n",
       "      <th>FB</th>\n",
       "    </tr>\n",
       "    <tr>\n",
       "      <th>Date</th>\n",
       "      <th></th>\n",
       "      <th></th>\n",
       "      <th></th>\n",
       "      <th></th>\n",
       "      <th></th>\n",
       "    </tr>\n",
       "  </thead>\n",
       "  <tbody>\n",
       "    <tr>\n",
       "      <th>2017-12-29</th>\n",
       "      <td>40.652374</td>\n",
       "      <td>81.802261</td>\n",
       "      <td>1169.469971</td>\n",
       "      <td>1046.400024</td>\n",
       "      <td>176.460007</td>\n",
       "    </tr>\n",
       "    <tr>\n",
       "      <th>2018-01-02</th>\n",
       "      <td>41.380238</td>\n",
       "      <td>82.194328</td>\n",
       "      <td>1189.010010</td>\n",
       "      <td>1065.000000</td>\n",
       "      <td>181.419998</td>\n",
       "    </tr>\n",
       "    <tr>\n",
       "      <th>2018-01-03</th>\n",
       "      <td>41.373032</td>\n",
       "      <td>82.576843</td>\n",
       "      <td>1204.199951</td>\n",
       "      <td>1082.479980</td>\n",
       "      <td>184.669998</td>\n",
       "    </tr>\n",
       "    <tr>\n",
       "      <th>2018-01-04</th>\n",
       "      <td>41.565216</td>\n",
       "      <td>83.303658</td>\n",
       "      <td>1209.589966</td>\n",
       "      <td>1086.400024</td>\n",
       "      <td>184.330002</td>\n",
       "    </tr>\n",
       "    <tr>\n",
       "      <th>2018-01-05</th>\n",
       "      <td>42.038452</td>\n",
       "      <td>84.336464</td>\n",
       "      <td>1229.140015</td>\n",
       "      <td>1102.229980</td>\n",
       "      <td>186.850006</td>\n",
       "    </tr>\n",
       "    <tr>\n",
       "      <th>...</th>\n",
       "      <td>...</td>\n",
       "      <td>...</td>\n",
       "      <td>...</td>\n",
       "      <td>...</td>\n",
       "      <td>...</td>\n",
       "    </tr>\n",
       "    <tr>\n",
       "      <th>2021-04-19</th>\n",
       "      <td>134.839996</td>\n",
       "      <td>258.739990</td>\n",
       "      <td>3372.010010</td>\n",
       "      <td>2302.399902</td>\n",
       "      <td>302.239990</td>\n",
       "    </tr>\n",
       "    <tr>\n",
       "      <th>2021-04-20</th>\n",
       "      <td>133.110001</td>\n",
       "      <td>258.260010</td>\n",
       "      <td>3334.689941</td>\n",
       "      <td>2293.629883</td>\n",
       "      <td>302.649994</td>\n",
       "    </tr>\n",
       "    <tr>\n",
       "      <th>2021-04-21</th>\n",
       "      <td>133.500000</td>\n",
       "      <td>260.579987</td>\n",
       "      <td>3362.020020</td>\n",
       "      <td>2293.290039</td>\n",
       "      <td>301.470001</td>\n",
       "    </tr>\n",
       "    <tr>\n",
       "      <th>2021-04-22</th>\n",
       "      <td>131.940002</td>\n",
       "      <td>257.170013</td>\n",
       "      <td>3309.040039</td>\n",
       "      <td>2267.919922</td>\n",
       "      <td>296.519989</td>\n",
       "    </tr>\n",
       "    <tr>\n",
       "      <th>2021-04-23</th>\n",
       "      <td>134.320007</td>\n",
       "      <td>261.149994</td>\n",
       "      <td>3340.879883</td>\n",
       "      <td>2315.300049</td>\n",
       "      <td>301.130005</td>\n",
       "    </tr>\n",
       "  </tbody>\n",
       "</table>\n",
       "<p>834 rows × 5 columns</p>\n",
       "</div>"
      ],
      "text/plain": [
       "                  AAPL        MSFT         AMZN         GOOG          FB\n",
       "Date                                                                    \n",
       "2017-12-29   40.652374   81.802261  1169.469971  1046.400024  176.460007\n",
       "2018-01-02   41.380238   82.194328  1189.010010  1065.000000  181.419998\n",
       "2018-01-03   41.373032   82.576843  1204.199951  1082.479980  184.669998\n",
       "2018-01-04   41.565216   83.303658  1209.589966  1086.400024  184.330002\n",
       "2018-01-05   42.038452   84.336464  1229.140015  1102.229980  186.850006\n",
       "...                ...         ...          ...          ...         ...\n",
       "2021-04-19  134.839996  258.739990  3372.010010  2302.399902  302.239990\n",
       "2021-04-20  133.110001  258.260010  3334.689941  2293.629883  302.649994\n",
       "2021-04-21  133.500000  260.579987  3362.020020  2293.290039  301.470001\n",
       "2021-04-22  131.940002  257.170013  3309.040039  2267.919922  296.519989\n",
       "2021-04-23  134.320007  261.149994  3340.879883  2315.300049  301.130005\n",
       "\n",
       "[834 rows x 5 columns]"
      ]
     },
     "execution_count": 97,
     "metadata": {},
     "output_type": "execute_result"
    }
   ],
   "source": [
    "tickers = ['AAPL', 'MSFT', 'AMZN', 'GOOG', 'FB']\n",
    "daily_close_prices = pd.DataFrame()\n",
    "\n",
    "for t in tickers:\n",
    "    daily_close_prices[t] = wb.DataReader(t, data_source = 'yahoo', start = '2017-12-29')['Adj Close']\n",
    "    \n",
    "daily_close_prices"
   ]
  },
  {
   "cell_type": "code",
   "execution_count": 98,
   "metadata": {},
   "outputs": [],
   "source": [
    "data_01 = quandl.get('FRED/GDP')\n",
    "data_01.to_csv('/Users/moaderrafay/Documents/Divers/Career/My python journey/Python for Finance - Notebook Files/57 Importing Data - Part III/CSV/Python 3 CSV/Data_01.csv')"
   ]
  },
  {
   "cell_type": "code",
   "execution_count": 99,
   "metadata": {
    "scrolled": true
   },
   "outputs": [
    {
     "data": {
      "text/html": [
       "<div>\n",
       "<style scoped>\n",
       "    .dataframe tbody tr th:only-of-type {\n",
       "        vertical-align: middle;\n",
       "    }\n",
       "\n",
       "    .dataframe tbody tr th {\n",
       "        vertical-align: top;\n",
       "    }\n",
       "\n",
       "    .dataframe thead th {\n",
       "        text-align: right;\n",
       "    }\n",
       "</style>\n",
       "<table border=\"1\" class=\"dataframe\">\n",
       "  <thead>\n",
       "    <tr style=\"text-align: right;\">\n",
       "      <th></th>\n",
       "      <th>Open</th>\n",
       "      <th>High</th>\n",
       "      <th>Low</th>\n",
       "      <th>Close</th>\n",
       "      <th>Volume</th>\n",
       "      <th>Ex-Dividend</th>\n",
       "      <th>Split Ratio</th>\n",
       "      <th>Adj. Open</th>\n",
       "      <th>Adj. High</th>\n",
       "      <th>Adj. Low</th>\n",
       "      <th>Adj. Close</th>\n",
       "      <th>Adj. Volume</th>\n",
       "    </tr>\n",
       "    <tr>\n",
       "      <th>Date</th>\n",
       "      <th></th>\n",
       "      <th></th>\n",
       "      <th></th>\n",
       "      <th></th>\n",
       "      <th></th>\n",
       "      <th></th>\n",
       "      <th></th>\n",
       "      <th></th>\n",
       "      <th></th>\n",
       "      <th></th>\n",
       "      <th></th>\n",
       "      <th></th>\n",
       "    </tr>\n",
       "  </thead>\n",
       "  <tbody>\n",
       "    <tr>\n",
       "      <th>2017-03-03</th>\n",
       "      <td>136.63</td>\n",
       "      <td>137.3300</td>\n",
       "      <td>136.08</td>\n",
       "      <td>137.1300</td>\n",
       "      <td>11095605.0</td>\n",
       "      <td>0.0</td>\n",
       "      <td>1.0</td>\n",
       "      <td>136.63</td>\n",
       "      <td>137.3300</td>\n",
       "      <td>136.08</td>\n",
       "      <td>137.1300</td>\n",
       "      <td>11095605.0</td>\n",
       "    </tr>\n",
       "    <tr>\n",
       "      <th>2017-03-02</th>\n",
       "      <td>137.09</td>\n",
       "      <td>137.8200</td>\n",
       "      <td>136.31</td>\n",
       "      <td>136.7603</td>\n",
       "      <td>12243028.0</td>\n",
       "      <td>0.0</td>\n",
       "      <td>1.0</td>\n",
       "      <td>137.09</td>\n",
       "      <td>137.8200</td>\n",
       "      <td>136.31</td>\n",
       "      <td>136.7603</td>\n",
       "      <td>12243028.0</td>\n",
       "    </tr>\n",
       "    <tr>\n",
       "      <th>2017-03-01</th>\n",
       "      <td>136.47</td>\n",
       "      <td>137.4800</td>\n",
       "      <td>136.30</td>\n",
       "      <td>137.4200</td>\n",
       "      <td>16257010.0</td>\n",
       "      <td>0.0</td>\n",
       "      <td>1.0</td>\n",
       "      <td>136.47</td>\n",
       "      <td>137.4800</td>\n",
       "      <td>136.30</td>\n",
       "      <td>137.4200</td>\n",
       "      <td>16257010.0</td>\n",
       "    </tr>\n",
       "    <tr>\n",
       "      <th>2017-02-28</th>\n",
       "      <td>136.79</td>\n",
       "      <td>136.8050</td>\n",
       "      <td>134.75</td>\n",
       "      <td>135.5400</td>\n",
       "      <td>16112092.0</td>\n",
       "      <td>0.0</td>\n",
       "      <td>1.0</td>\n",
       "      <td>136.79</td>\n",
       "      <td>136.8050</td>\n",
       "      <td>134.75</td>\n",
       "      <td>135.5400</td>\n",
       "      <td>16112092.0</td>\n",
       "    </tr>\n",
       "    <tr>\n",
       "      <th>2017-02-27</th>\n",
       "      <td>135.26</td>\n",
       "      <td>137.1846</td>\n",
       "      <td>135.02</td>\n",
       "      <td>136.4100</td>\n",
       "      <td>14306668.0</td>\n",
       "      <td>0.0</td>\n",
       "      <td>1.0</td>\n",
       "      <td>135.26</td>\n",
       "      <td>137.1846</td>\n",
       "      <td>135.02</td>\n",
       "      <td>136.4100</td>\n",
       "      <td>14306668.0</td>\n",
       "    </tr>\n",
       "    <tr>\n",
       "      <th>...</th>\n",
       "      <td>...</td>\n",
       "      <td>...</td>\n",
       "      <td>...</td>\n",
       "      <td>...</td>\n",
       "      <td>...</td>\n",
       "      <td>...</td>\n",
       "      <td>...</td>\n",
       "      <td>...</td>\n",
       "      <td>...</td>\n",
       "      <td>...</td>\n",
       "      <td>...</td>\n",
       "      <td>...</td>\n",
       "    </tr>\n",
       "    <tr>\n",
       "      <th>2012-05-24</th>\n",
       "      <td>32.95</td>\n",
       "      <td>33.2100</td>\n",
       "      <td>31.77</td>\n",
       "      <td>33.0300</td>\n",
       "      <td>50237200.0</td>\n",
       "      <td>0.0</td>\n",
       "      <td>1.0</td>\n",
       "      <td>32.95</td>\n",
       "      <td>33.2100</td>\n",
       "      <td>31.77</td>\n",
       "      <td>33.0300</td>\n",
       "      <td>50237200.0</td>\n",
       "    </tr>\n",
       "    <tr>\n",
       "      <th>2012-05-23</th>\n",
       "      <td>31.37</td>\n",
       "      <td>32.5000</td>\n",
       "      <td>31.36</td>\n",
       "      <td>32.0000</td>\n",
       "      <td>73600000.0</td>\n",
       "      <td>0.0</td>\n",
       "      <td>1.0</td>\n",
       "      <td>31.37</td>\n",
       "      <td>32.5000</td>\n",
       "      <td>31.36</td>\n",
       "      <td>32.0000</td>\n",
       "      <td>73600000.0</td>\n",
       "    </tr>\n",
       "    <tr>\n",
       "      <th>2012-05-22</th>\n",
       "      <td>32.61</td>\n",
       "      <td>33.5900</td>\n",
       "      <td>30.94</td>\n",
       "      <td>31.0000</td>\n",
       "      <td>101786600.0</td>\n",
       "      <td>0.0</td>\n",
       "      <td>1.0</td>\n",
       "      <td>32.61</td>\n",
       "      <td>33.5900</td>\n",
       "      <td>30.94</td>\n",
       "      <td>31.0000</td>\n",
       "      <td>101786600.0</td>\n",
       "    </tr>\n",
       "    <tr>\n",
       "      <th>2012-05-21</th>\n",
       "      <td>36.53</td>\n",
       "      <td>36.6600</td>\n",
       "      <td>33.00</td>\n",
       "      <td>34.0300</td>\n",
       "      <td>168192700.0</td>\n",
       "      <td>0.0</td>\n",
       "      <td>1.0</td>\n",
       "      <td>36.53</td>\n",
       "      <td>36.6600</td>\n",
       "      <td>33.00</td>\n",
       "      <td>34.0300</td>\n",
       "      <td>168192700.0</td>\n",
       "    </tr>\n",
       "    <tr>\n",
       "      <th>2012-05-18</th>\n",
       "      <td>42.05</td>\n",
       "      <td>45.0000</td>\n",
       "      <td>38.00</td>\n",
       "      <td>38.2318</td>\n",
       "      <td>573576400.0</td>\n",
       "      <td>0.0</td>\n",
       "      <td>1.0</td>\n",
       "      <td>42.05</td>\n",
       "      <td>45.0000</td>\n",
       "      <td>38.00</td>\n",
       "      <td>38.2318</td>\n",
       "      <td>573576400.0</td>\n",
       "    </tr>\n",
       "  </tbody>\n",
       "</table>\n",
       "<p>1205 rows × 12 columns</p>\n",
       "</div>"
      ],
      "text/plain": [
       "              Open      High     Low     Close       Volume  Ex-Dividend  \\\n",
       "Date                                                                       \n",
       "2017-03-03  136.63  137.3300  136.08  137.1300   11095605.0          0.0   \n",
       "2017-03-02  137.09  137.8200  136.31  136.7603   12243028.0          0.0   \n",
       "2017-03-01  136.47  137.4800  136.30  137.4200   16257010.0          0.0   \n",
       "2017-02-28  136.79  136.8050  134.75  135.5400   16112092.0          0.0   \n",
       "2017-02-27  135.26  137.1846  135.02  136.4100   14306668.0          0.0   \n",
       "...            ...       ...     ...       ...          ...          ...   \n",
       "2012-05-24   32.95   33.2100   31.77   33.0300   50237200.0          0.0   \n",
       "2012-05-23   31.37   32.5000   31.36   32.0000   73600000.0          0.0   \n",
       "2012-05-22   32.61   33.5900   30.94   31.0000  101786600.0          0.0   \n",
       "2012-05-21   36.53   36.6600   33.00   34.0300  168192700.0          0.0   \n",
       "2012-05-18   42.05   45.0000   38.00   38.2318  573576400.0          0.0   \n",
       "\n",
       "            Split Ratio  Adj. Open  Adj. High  Adj. Low  Adj. Close  \\\n",
       "Date                                                                  \n",
       "2017-03-03          1.0     136.63   137.3300    136.08    137.1300   \n",
       "2017-03-02          1.0     137.09   137.8200    136.31    136.7603   \n",
       "2017-03-01          1.0     136.47   137.4800    136.30    137.4200   \n",
       "2017-02-28          1.0     136.79   136.8050    134.75    135.5400   \n",
       "2017-02-27          1.0     135.26   137.1846    135.02    136.4100   \n",
       "...                 ...        ...        ...       ...         ...   \n",
       "2012-05-24          1.0      32.95    33.2100     31.77     33.0300   \n",
       "2012-05-23          1.0      31.37    32.5000     31.36     32.0000   \n",
       "2012-05-22          1.0      32.61    33.5900     30.94     31.0000   \n",
       "2012-05-21          1.0      36.53    36.6600     33.00     34.0300   \n",
       "2012-05-18          1.0      42.05    45.0000     38.00     38.2318   \n",
       "\n",
       "            Adj. Volume  \n",
       "Date                     \n",
       "2017-03-03   11095605.0  \n",
       "2017-03-02   12243028.0  \n",
       "2017-03-01   16257010.0  \n",
       "2017-02-28   16112092.0  \n",
       "2017-02-27   14306668.0  \n",
       "...                 ...  \n",
       "2012-05-24   50237200.0  \n",
       "2012-05-23   73600000.0  \n",
       "2012-05-22  101786600.0  \n",
       "2012-05-21  168192700.0  \n",
       "2012-05-18  573576400.0  \n",
       "\n",
       "[1205 rows x 12 columns]"
      ]
     },
     "execution_count": 99,
     "metadata": {},
     "output_type": "execute_result"
    }
   ],
   "source": [
    "data_02 = pd.read_csv('/Users/moaderrafay/Documents/Divers/Career/My python journey/Python for Finance - Notebook Files/57 Importing Data - Part III/CSV/Python 3 CSV/Data_02.csv', index_col = 'Date')\n",
    "data_02"
   ]
  },
  {
   "cell_type": "code",
   "execution_count": 100,
   "metadata": {
    "scrolled": true
   },
   "outputs": [
    {
     "data": {
      "text/html": [
       "<div>\n",
       "<style scoped>\n",
       "    .dataframe tbody tr th:only-of-type {\n",
       "        vertical-align: middle;\n",
       "    }\n",
       "\n",
       "    .dataframe tbody tr th {\n",
       "        vertical-align: top;\n",
       "    }\n",
       "\n",
       "    .dataframe thead th {\n",
       "        text-align: right;\n",
       "    }\n",
       "</style>\n",
       "<table border=\"1\" class=\"dataframe\">\n",
       "  <thead>\n",
       "    <tr style=\"text-align: right;\">\n",
       "      <th></th>\n",
       "      <th>Year</th>\n",
       "      <th>Gas Exp</th>\n",
       "      <th>Pop</th>\n",
       "      <th>Gasp</th>\n",
       "      <th>Income</th>\n",
       "    </tr>\n",
       "  </thead>\n",
       "  <tbody>\n",
       "    <tr>\n",
       "      <th>0</th>\n",
       "      <td>1953</td>\n",
       "      <td>7.400000</td>\n",
       "      <td>159565</td>\n",
       "      <td>16.667999</td>\n",
       "      <td>8883</td>\n",
       "    </tr>\n",
       "    <tr>\n",
       "      <th>1</th>\n",
       "      <td>1954</td>\n",
       "      <td>7.800000</td>\n",
       "      <td>162391</td>\n",
       "      <td>17.028999</td>\n",
       "      <td>8685</td>\n",
       "    </tr>\n",
       "    <tr>\n",
       "      <th>2</th>\n",
       "      <td>1955</td>\n",
       "      <td>8.600000</td>\n",
       "      <td>165275</td>\n",
       "      <td>17.209999</td>\n",
       "      <td>9137</td>\n",
       "    </tr>\n",
       "    <tr>\n",
       "      <th>3</th>\n",
       "      <td>1956</td>\n",
       "      <td>9.400000</td>\n",
       "      <td>168221</td>\n",
       "      <td>17.729000</td>\n",
       "      <td>9436</td>\n",
       "    </tr>\n",
       "    <tr>\n",
       "      <th>4</th>\n",
       "      <td>1957</td>\n",
       "      <td>10.200000</td>\n",
       "      <td>171274</td>\n",
       "      <td>18.497000</td>\n",
       "      <td>9534</td>\n",
       "    </tr>\n",
       "    <tr>\n",
       "      <th>5</th>\n",
       "      <td>1958</td>\n",
       "      <td>10.600000</td>\n",
       "      <td>174141</td>\n",
       "      <td>18.316000</td>\n",
       "      <td>9343</td>\n",
       "    </tr>\n",
       "    <tr>\n",
       "      <th>6</th>\n",
       "      <td>1959</td>\n",
       "      <td>11.300000</td>\n",
       "      <td>177130</td>\n",
       "      <td>18.576000</td>\n",
       "      <td>9738</td>\n",
       "    </tr>\n",
       "    <tr>\n",
       "      <th>7</th>\n",
       "      <td>1960</td>\n",
       "      <td>12.000000</td>\n",
       "      <td>180760</td>\n",
       "      <td>19.112000</td>\n",
       "      <td>9770</td>\n",
       "    </tr>\n",
       "    <tr>\n",
       "      <th>8</th>\n",
       "      <td>1961</td>\n",
       "      <td>12.000000</td>\n",
       "      <td>183742</td>\n",
       "      <td>18.924000</td>\n",
       "      <td>9843</td>\n",
       "    </tr>\n",
       "    <tr>\n",
       "      <th>9</th>\n",
       "      <td>1962</td>\n",
       "      <td>12.600000</td>\n",
       "      <td>186590</td>\n",
       "      <td>19.042999</td>\n",
       "      <td>10226</td>\n",
       "    </tr>\n",
       "    <tr>\n",
       "      <th>10</th>\n",
       "      <td>1963</td>\n",
       "      <td>13.000000</td>\n",
       "      <td>189300</td>\n",
       "      <td>18.997000</td>\n",
       "      <td>10398</td>\n",
       "    </tr>\n",
       "    <tr>\n",
       "      <th>11</th>\n",
       "      <td>1964</td>\n",
       "      <td>13.600000</td>\n",
       "      <td>191927</td>\n",
       "      <td>18.872999</td>\n",
       "      <td>11051</td>\n",
       "    </tr>\n",
       "    <tr>\n",
       "      <th>12</th>\n",
       "      <td>1965</td>\n",
       "      <td>14.800000</td>\n",
       "      <td>194347</td>\n",
       "      <td>19.587000</td>\n",
       "      <td>11430</td>\n",
       "    </tr>\n",
       "    <tr>\n",
       "      <th>13</th>\n",
       "      <td>1966</td>\n",
       "      <td>16.000000</td>\n",
       "      <td>196599</td>\n",
       "      <td>20.038000</td>\n",
       "      <td>11981</td>\n",
       "    </tr>\n",
       "    <tr>\n",
       "      <th>14</th>\n",
       "      <td>1967</td>\n",
       "      <td>17.100000</td>\n",
       "      <td>198752</td>\n",
       "      <td>20.700001</td>\n",
       "      <td>12418</td>\n",
       "    </tr>\n",
       "    <tr>\n",
       "      <th>15</th>\n",
       "      <td>1968</td>\n",
       "      <td>18.600000</td>\n",
       "      <td>200745</td>\n",
       "      <td>21.004999</td>\n",
       "      <td>12932</td>\n",
       "    </tr>\n",
       "    <tr>\n",
       "      <th>16</th>\n",
       "      <td>1969</td>\n",
       "      <td>20.500000</td>\n",
       "      <td>202736</td>\n",
       "      <td>21.695999</td>\n",
       "      <td>13060</td>\n",
       "    </tr>\n",
       "    <tr>\n",
       "      <th>17</th>\n",
       "      <td>1970</td>\n",
       "      <td>21.900000</td>\n",
       "      <td>205089</td>\n",
       "      <td>21.889999</td>\n",
       "      <td>13567</td>\n",
       "    </tr>\n",
       "    <tr>\n",
       "      <th>18</th>\n",
       "      <td>1971</td>\n",
       "      <td>23.200001</td>\n",
       "      <td>207692</td>\n",
       "      <td>22.049999</td>\n",
       "      <td>14008</td>\n",
       "    </tr>\n",
       "    <tr>\n",
       "      <th>19</th>\n",
       "      <td>1972</td>\n",
       "      <td>24.400000</td>\n",
       "      <td>209924</td>\n",
       "      <td>22.336000</td>\n",
       "      <td>14270</td>\n",
       "    </tr>\n",
       "    <tr>\n",
       "      <th>20</th>\n",
       "      <td>1973</td>\n",
       "      <td>28.100000</td>\n",
       "      <td>211939</td>\n",
       "      <td>24.473000</td>\n",
       "      <td>15309</td>\n",
       "    </tr>\n",
       "    <tr>\n",
       "      <th>21</th>\n",
       "      <td>1974</td>\n",
       "      <td>36.099998</td>\n",
       "      <td>213898</td>\n",
       "      <td>33.058998</td>\n",
       "      <td>15074</td>\n",
       "    </tr>\n",
       "    <tr>\n",
       "      <th>22</th>\n",
       "      <td>1975</td>\n",
       "      <td>39.700001</td>\n",
       "      <td>215981</td>\n",
       "      <td>35.278000</td>\n",
       "      <td>15555</td>\n",
       "    </tr>\n",
       "    <tr>\n",
       "      <th>23</th>\n",
       "      <td>1976</td>\n",
       "      <td>43.000000</td>\n",
       "      <td>218086</td>\n",
       "      <td>36.777000</td>\n",
       "      <td>15693</td>\n",
       "    </tr>\n",
       "    <tr>\n",
       "      <th>24</th>\n",
       "      <td>1977</td>\n",
       "      <td>46.900002</td>\n",
       "      <td>220289</td>\n",
       "      <td>38.907001</td>\n",
       "      <td>15991</td>\n",
       "    </tr>\n",
       "    <tr>\n",
       "      <th>25</th>\n",
       "      <td>1978</td>\n",
       "      <td>50.099998</td>\n",
       "      <td>222629</td>\n",
       "      <td>40.597000</td>\n",
       "      <td>16674</td>\n",
       "    </tr>\n",
       "    <tr>\n",
       "      <th>26</th>\n",
       "      <td>1979</td>\n",
       "      <td>66.199997</td>\n",
       "      <td>225106</td>\n",
       "      <td>54.405998</td>\n",
       "      <td>16843</td>\n",
       "    </tr>\n",
       "    <tr>\n",
       "      <th>27</th>\n",
       "      <td>1980</td>\n",
       "      <td>86.699997</td>\n",
       "      <td>227726</td>\n",
       "      <td>75.509003</td>\n",
       "      <td>16711</td>\n",
       "    </tr>\n",
       "    <tr>\n",
       "      <th>28</th>\n",
       "      <td>1981</td>\n",
       "      <td>97.900002</td>\n",
       "      <td>230008</td>\n",
       "      <td>84.017998</td>\n",
       "      <td>17046</td>\n",
       "    </tr>\n",
       "    <tr>\n",
       "      <th>29</th>\n",
       "      <td>1982</td>\n",
       "      <td>94.099998</td>\n",
       "      <td>232218</td>\n",
       "      <td>79.767998</td>\n",
       "      <td>17429</td>\n",
       "    </tr>\n",
       "    <tr>\n",
       "      <th>30</th>\n",
       "      <td>1983</td>\n",
       "      <td>93.099998</td>\n",
       "      <td>234333</td>\n",
       "      <td>77.160004</td>\n",
       "      <td>17659</td>\n",
       "    </tr>\n",
       "    <tr>\n",
       "      <th>31</th>\n",
       "      <td>1984</td>\n",
       "      <td>94.599998</td>\n",
       "      <td>236394</td>\n",
       "      <td>76.004997</td>\n",
       "      <td>18922</td>\n",
       "    </tr>\n",
       "    <tr>\n",
       "      <th>32</th>\n",
       "      <td>1985</td>\n",
       "      <td>97.199997</td>\n",
       "      <td>238506</td>\n",
       "      <td>76.619003</td>\n",
       "      <td>19622</td>\n",
       "    </tr>\n",
       "    <tr>\n",
       "      <th>33</th>\n",
       "      <td>1986</td>\n",
       "      <td>80.099998</td>\n",
       "      <td>240683</td>\n",
       "      <td>60.174999</td>\n",
       "      <td>19944</td>\n",
       "    </tr>\n",
       "    <tr>\n",
       "      <th>34</th>\n",
       "      <td>1987</td>\n",
       "      <td>85.400002</td>\n",
       "      <td>242843</td>\n",
       "      <td>62.487999</td>\n",
       "      <td>19802</td>\n",
       "    </tr>\n",
       "    <tr>\n",
       "      <th>35</th>\n",
       "      <td>1988</td>\n",
       "      <td>88.300003</td>\n",
       "      <td>245061</td>\n",
       "      <td>63.016998</td>\n",
       "      <td>20682</td>\n",
       "    </tr>\n",
       "    <tr>\n",
       "      <th>36</th>\n",
       "      <td>1989</td>\n",
       "      <td>98.599998</td>\n",
       "      <td>247387</td>\n",
       "      <td>68.836998</td>\n",
       "      <td>21048</td>\n",
       "    </tr>\n",
       "    <tr>\n",
       "      <th>37</th>\n",
       "      <td>1990</td>\n",
       "      <td>111.199997</td>\n",
       "      <td>250181</td>\n",
       "      <td>78.385002</td>\n",
       "      <td>21379</td>\n",
       "    </tr>\n",
       "    <tr>\n",
       "      <th>38</th>\n",
       "      <td>1991</td>\n",
       "      <td>108.500000</td>\n",
       "      <td>253530</td>\n",
       "      <td>77.337997</td>\n",
       "      <td>21129</td>\n",
       "    </tr>\n",
       "    <tr>\n",
       "      <th>39</th>\n",
       "      <td>1992</td>\n",
       "      <td>112.400002</td>\n",
       "      <td>256922</td>\n",
       "      <td>77.040001</td>\n",
       "      <td>21505</td>\n",
       "    </tr>\n",
       "    <tr>\n",
       "      <th>40</th>\n",
       "      <td>1993</td>\n",
       "      <td>114.099998</td>\n",
       "      <td>260282</td>\n",
       "      <td>76.257004</td>\n",
       "      <td>21515</td>\n",
       "    </tr>\n",
       "    <tr>\n",
       "      <th>41</th>\n",
       "      <td>1994</td>\n",
       "      <td>116.199997</td>\n",
       "      <td>263455</td>\n",
       "      <td>76.613998</td>\n",
       "      <td>21797</td>\n",
       "    </tr>\n",
       "    <tr>\n",
       "      <th>42</th>\n",
       "      <td>1995</td>\n",
       "      <td>120.199997</td>\n",
       "      <td>266588</td>\n",
       "      <td>77.825996</td>\n",
       "      <td>22100</td>\n",
       "    </tr>\n",
       "    <tr>\n",
       "      <th>43</th>\n",
       "      <td>1996</td>\n",
       "      <td>130.399994</td>\n",
       "      <td>269714</td>\n",
       "      <td>82.596001</td>\n",
       "      <td>22506</td>\n",
       "    </tr>\n",
       "    <tr>\n",
       "      <th>44</th>\n",
       "      <td>1997</td>\n",
       "      <td>134.399994</td>\n",
       "      <td>272958</td>\n",
       "      <td>82.579002</td>\n",
       "      <td>22944</td>\n",
       "    </tr>\n",
       "    <tr>\n",
       "      <th>45</th>\n",
       "      <td>1998</td>\n",
       "      <td>122.400002</td>\n",
       "      <td>276154</td>\n",
       "      <td>71.874001</td>\n",
       "      <td>24079</td>\n",
       "    </tr>\n",
       "    <tr>\n",
       "      <th>46</th>\n",
       "      <td>1999</td>\n",
       "      <td>137.899994</td>\n",
       "      <td>279328</td>\n",
       "      <td>78.207001</td>\n",
       "      <td>24464</td>\n",
       "    </tr>\n",
       "    <tr>\n",
       "      <th>47</th>\n",
       "      <td>2000</td>\n",
       "      <td>175.699997</td>\n",
       "      <td>282429</td>\n",
       "      <td>100.000000</td>\n",
       "      <td>25380</td>\n",
       "    </tr>\n",
       "    <tr>\n",
       "      <th>48</th>\n",
       "      <td>2001</td>\n",
       "      <td>171.600006</td>\n",
       "      <td>285366</td>\n",
       "      <td>96.289001</td>\n",
       "      <td>25449</td>\n",
       "    </tr>\n",
       "    <tr>\n",
       "      <th>49</th>\n",
       "      <td>2002</td>\n",
       "      <td>163.399994</td>\n",
       "      <td>288217</td>\n",
       "      <td>90.404999</td>\n",
       "      <td>26352</td>\n",
       "    </tr>\n",
       "    <tr>\n",
       "      <th>50</th>\n",
       "      <td>2003</td>\n",
       "      <td>191.300003</td>\n",
       "      <td>291073</td>\n",
       "      <td>105.153999</td>\n",
       "      <td>26437</td>\n",
       "    </tr>\n",
       "    <tr>\n",
       "      <th>51</th>\n",
       "      <td>2004</td>\n",
       "      <td>224.500000</td>\n",
       "      <td>293951</td>\n",
       "      <td>123.901001</td>\n",
       "      <td>27113</td>\n",
       "    </tr>\n",
       "  </tbody>\n",
       "</table>\n",
       "</div>"
      ],
      "text/plain": [
       "    Year     Gas Exp     Pop        Gasp  Income\n",
       "0   1953    7.400000  159565   16.667999    8883\n",
       "1   1954    7.800000  162391   17.028999    8685\n",
       "2   1955    8.600000  165275   17.209999    9137\n",
       "3   1956    9.400000  168221   17.729000    9436\n",
       "4   1957   10.200000  171274   18.497000    9534\n",
       "5   1958   10.600000  174141   18.316000    9343\n",
       "6   1959   11.300000  177130   18.576000    9738\n",
       "7   1960   12.000000  180760   19.112000    9770\n",
       "8   1961   12.000000  183742   18.924000    9843\n",
       "9   1962   12.600000  186590   19.042999   10226\n",
       "10  1963   13.000000  189300   18.997000   10398\n",
       "11  1964   13.600000  191927   18.872999   11051\n",
       "12  1965   14.800000  194347   19.587000   11430\n",
       "13  1966   16.000000  196599   20.038000   11981\n",
       "14  1967   17.100000  198752   20.700001   12418\n",
       "15  1968   18.600000  200745   21.004999   12932\n",
       "16  1969   20.500000  202736   21.695999   13060\n",
       "17  1970   21.900000  205089   21.889999   13567\n",
       "18  1971   23.200001  207692   22.049999   14008\n",
       "19  1972   24.400000  209924   22.336000   14270\n",
       "20  1973   28.100000  211939   24.473000   15309\n",
       "21  1974   36.099998  213898   33.058998   15074\n",
       "22  1975   39.700001  215981   35.278000   15555\n",
       "23  1976   43.000000  218086   36.777000   15693\n",
       "24  1977   46.900002  220289   38.907001   15991\n",
       "25  1978   50.099998  222629   40.597000   16674\n",
       "26  1979   66.199997  225106   54.405998   16843\n",
       "27  1980   86.699997  227726   75.509003   16711\n",
       "28  1981   97.900002  230008   84.017998   17046\n",
       "29  1982   94.099998  232218   79.767998   17429\n",
       "30  1983   93.099998  234333   77.160004   17659\n",
       "31  1984   94.599998  236394   76.004997   18922\n",
       "32  1985   97.199997  238506   76.619003   19622\n",
       "33  1986   80.099998  240683   60.174999   19944\n",
       "34  1987   85.400002  242843   62.487999   19802\n",
       "35  1988   88.300003  245061   63.016998   20682\n",
       "36  1989   98.599998  247387   68.836998   21048\n",
       "37  1990  111.199997  250181   78.385002   21379\n",
       "38  1991  108.500000  253530   77.337997   21129\n",
       "39  1992  112.400002  256922   77.040001   21505\n",
       "40  1993  114.099998  260282   76.257004   21515\n",
       "41  1994  116.199997  263455   76.613998   21797\n",
       "42  1995  120.199997  266588   77.825996   22100\n",
       "43  1996  130.399994  269714   82.596001   22506\n",
       "44  1997  134.399994  272958   82.579002   22944\n",
       "45  1998  122.400002  276154   71.874001   24079\n",
       "46  1999  137.899994  279328   78.207001   24464\n",
       "47  2000  175.699997  282429  100.000000   25380\n",
       "48  2001  171.600006  285366   96.289001   25449\n",
       "49  2002  163.399994  288217   90.404999   26352\n",
       "50  2003  191.300003  291073  105.153999   26437\n",
       "51  2004  224.500000  293951  123.901001   27113"
      ]
     },
     "execution_count": 100,
     "metadata": {},
     "output_type": "execute_result"
    }
   ],
   "source": [
    "data_03 = pd.read_excel('/Users/moaderrafay/Documents/Divers/Career/My python journey/Python for Finance - Notebook Files/57 Importing Data - Part III/CSV/Python 3 CSV/Data_03.xlsx')\n",
    "data_03"
   ]
  },
  {
   "cell_type": "code",
   "execution_count": 101,
   "metadata": {},
   "outputs": [
    {
     "data": {
      "text/html": [
       "<div>\n",
       "<style scoped>\n",
       "    .dataframe tbody tr th:only-of-type {\n",
       "        vertical-align: middle;\n",
       "    }\n",
       "\n",
       "    .dataframe tbody tr th {\n",
       "        vertical-align: top;\n",
       "    }\n",
       "\n",
       "    .dataframe thead th {\n",
       "        text-align: right;\n",
       "    }\n",
       "</style>\n",
       "<table border=\"1\" class=\"dataframe\">\n",
       "  <thead>\n",
       "    <tr style=\"text-align: right;\">\n",
       "      <th></th>\n",
       "      <th>Gas Exp</th>\n",
       "      <th>Pop</th>\n",
       "      <th>Gasp</th>\n",
       "      <th>Income</th>\n",
       "    </tr>\n",
       "    <tr>\n",
       "      <th>Year</th>\n",
       "      <th></th>\n",
       "      <th></th>\n",
       "      <th></th>\n",
       "      <th></th>\n",
       "    </tr>\n",
       "  </thead>\n",
       "  <tbody>\n",
       "    <tr>\n",
       "      <th>1953</th>\n",
       "      <td>7.400000</td>\n",
       "      <td>159565</td>\n",
       "      <td>16.667999</td>\n",
       "      <td>8883</td>\n",
       "    </tr>\n",
       "    <tr>\n",
       "      <th>1954</th>\n",
       "      <td>7.800000</td>\n",
       "      <td>162391</td>\n",
       "      <td>17.028999</td>\n",
       "      <td>8685</td>\n",
       "    </tr>\n",
       "    <tr>\n",
       "      <th>1955</th>\n",
       "      <td>8.600000</td>\n",
       "      <td>165275</td>\n",
       "      <td>17.209999</td>\n",
       "      <td>9137</td>\n",
       "    </tr>\n",
       "    <tr>\n",
       "      <th>1956</th>\n",
       "      <td>9.400000</td>\n",
       "      <td>168221</td>\n",
       "      <td>17.729000</td>\n",
       "      <td>9436</td>\n",
       "    </tr>\n",
       "    <tr>\n",
       "      <th>1957</th>\n",
       "      <td>10.200000</td>\n",
       "      <td>171274</td>\n",
       "      <td>18.497000</td>\n",
       "      <td>9534</td>\n",
       "    </tr>\n",
       "    <tr>\n",
       "      <th>1958</th>\n",
       "      <td>10.600000</td>\n",
       "      <td>174141</td>\n",
       "      <td>18.316000</td>\n",
       "      <td>9343</td>\n",
       "    </tr>\n",
       "    <tr>\n",
       "      <th>1959</th>\n",
       "      <td>11.300000</td>\n",
       "      <td>177130</td>\n",
       "      <td>18.576000</td>\n",
       "      <td>9738</td>\n",
       "    </tr>\n",
       "    <tr>\n",
       "      <th>1960</th>\n",
       "      <td>12.000000</td>\n",
       "      <td>180760</td>\n",
       "      <td>19.112000</td>\n",
       "      <td>9770</td>\n",
       "    </tr>\n",
       "    <tr>\n",
       "      <th>1961</th>\n",
       "      <td>12.000000</td>\n",
       "      <td>183742</td>\n",
       "      <td>18.924000</td>\n",
       "      <td>9843</td>\n",
       "    </tr>\n",
       "    <tr>\n",
       "      <th>1962</th>\n",
       "      <td>12.600000</td>\n",
       "      <td>186590</td>\n",
       "      <td>19.042999</td>\n",
       "      <td>10226</td>\n",
       "    </tr>\n",
       "    <tr>\n",
       "      <th>1963</th>\n",
       "      <td>13.000000</td>\n",
       "      <td>189300</td>\n",
       "      <td>18.997000</td>\n",
       "      <td>10398</td>\n",
       "    </tr>\n",
       "    <tr>\n",
       "      <th>1964</th>\n",
       "      <td>13.600000</td>\n",
       "      <td>191927</td>\n",
       "      <td>18.872999</td>\n",
       "      <td>11051</td>\n",
       "    </tr>\n",
       "    <tr>\n",
       "      <th>1965</th>\n",
       "      <td>14.800000</td>\n",
       "      <td>194347</td>\n",
       "      <td>19.587000</td>\n",
       "      <td>11430</td>\n",
       "    </tr>\n",
       "    <tr>\n",
       "      <th>1966</th>\n",
       "      <td>16.000000</td>\n",
       "      <td>196599</td>\n",
       "      <td>20.038000</td>\n",
       "      <td>11981</td>\n",
       "    </tr>\n",
       "    <tr>\n",
       "      <th>1967</th>\n",
       "      <td>17.100000</td>\n",
       "      <td>198752</td>\n",
       "      <td>20.700001</td>\n",
       "      <td>12418</td>\n",
       "    </tr>\n",
       "    <tr>\n",
       "      <th>1968</th>\n",
       "      <td>18.600000</td>\n",
       "      <td>200745</td>\n",
       "      <td>21.004999</td>\n",
       "      <td>12932</td>\n",
       "    </tr>\n",
       "    <tr>\n",
       "      <th>1969</th>\n",
       "      <td>20.500000</td>\n",
       "      <td>202736</td>\n",
       "      <td>21.695999</td>\n",
       "      <td>13060</td>\n",
       "    </tr>\n",
       "    <tr>\n",
       "      <th>1970</th>\n",
       "      <td>21.900000</td>\n",
       "      <td>205089</td>\n",
       "      <td>21.889999</td>\n",
       "      <td>13567</td>\n",
       "    </tr>\n",
       "    <tr>\n",
       "      <th>1971</th>\n",
       "      <td>23.200001</td>\n",
       "      <td>207692</td>\n",
       "      <td>22.049999</td>\n",
       "      <td>14008</td>\n",
       "    </tr>\n",
       "    <tr>\n",
       "      <th>1972</th>\n",
       "      <td>24.400000</td>\n",
       "      <td>209924</td>\n",
       "      <td>22.336000</td>\n",
       "      <td>14270</td>\n",
       "    </tr>\n",
       "    <tr>\n",
       "      <th>1973</th>\n",
       "      <td>28.100000</td>\n",
       "      <td>211939</td>\n",
       "      <td>24.473000</td>\n",
       "      <td>15309</td>\n",
       "    </tr>\n",
       "    <tr>\n",
       "      <th>1974</th>\n",
       "      <td>36.099998</td>\n",
       "      <td>213898</td>\n",
       "      <td>33.058998</td>\n",
       "      <td>15074</td>\n",
       "    </tr>\n",
       "    <tr>\n",
       "      <th>1975</th>\n",
       "      <td>39.700001</td>\n",
       "      <td>215981</td>\n",
       "      <td>35.278000</td>\n",
       "      <td>15555</td>\n",
       "    </tr>\n",
       "    <tr>\n",
       "      <th>1976</th>\n",
       "      <td>43.000000</td>\n",
       "      <td>218086</td>\n",
       "      <td>36.777000</td>\n",
       "      <td>15693</td>\n",
       "    </tr>\n",
       "    <tr>\n",
       "      <th>1977</th>\n",
       "      <td>46.900002</td>\n",
       "      <td>220289</td>\n",
       "      <td>38.907001</td>\n",
       "      <td>15991</td>\n",
       "    </tr>\n",
       "    <tr>\n",
       "      <th>1978</th>\n",
       "      <td>50.099998</td>\n",
       "      <td>222629</td>\n",
       "      <td>40.597000</td>\n",
       "      <td>16674</td>\n",
       "    </tr>\n",
       "    <tr>\n",
       "      <th>1979</th>\n",
       "      <td>66.199997</td>\n",
       "      <td>225106</td>\n",
       "      <td>54.405998</td>\n",
       "      <td>16843</td>\n",
       "    </tr>\n",
       "    <tr>\n",
       "      <th>1980</th>\n",
       "      <td>86.699997</td>\n",
       "      <td>227726</td>\n",
       "      <td>75.509003</td>\n",
       "      <td>16711</td>\n",
       "    </tr>\n",
       "    <tr>\n",
       "      <th>1981</th>\n",
       "      <td>97.900002</td>\n",
       "      <td>230008</td>\n",
       "      <td>84.017998</td>\n",
       "      <td>17046</td>\n",
       "    </tr>\n",
       "    <tr>\n",
       "      <th>1982</th>\n",
       "      <td>94.099998</td>\n",
       "      <td>232218</td>\n",
       "      <td>79.767998</td>\n",
       "      <td>17429</td>\n",
       "    </tr>\n",
       "    <tr>\n",
       "      <th>1983</th>\n",
       "      <td>93.099998</td>\n",
       "      <td>234333</td>\n",
       "      <td>77.160004</td>\n",
       "      <td>17659</td>\n",
       "    </tr>\n",
       "    <tr>\n",
       "      <th>1984</th>\n",
       "      <td>94.599998</td>\n",
       "      <td>236394</td>\n",
       "      <td>76.004997</td>\n",
       "      <td>18922</td>\n",
       "    </tr>\n",
       "    <tr>\n",
       "      <th>1985</th>\n",
       "      <td>97.199997</td>\n",
       "      <td>238506</td>\n",
       "      <td>76.619003</td>\n",
       "      <td>19622</td>\n",
       "    </tr>\n",
       "    <tr>\n",
       "      <th>1986</th>\n",
       "      <td>80.099998</td>\n",
       "      <td>240683</td>\n",
       "      <td>60.174999</td>\n",
       "      <td>19944</td>\n",
       "    </tr>\n",
       "    <tr>\n",
       "      <th>1987</th>\n",
       "      <td>85.400002</td>\n",
       "      <td>242843</td>\n",
       "      <td>62.487999</td>\n",
       "      <td>19802</td>\n",
       "    </tr>\n",
       "    <tr>\n",
       "      <th>1988</th>\n",
       "      <td>88.300003</td>\n",
       "      <td>245061</td>\n",
       "      <td>63.016998</td>\n",
       "      <td>20682</td>\n",
       "    </tr>\n",
       "    <tr>\n",
       "      <th>1989</th>\n",
       "      <td>98.599998</td>\n",
       "      <td>247387</td>\n",
       "      <td>68.836998</td>\n",
       "      <td>21048</td>\n",
       "    </tr>\n",
       "    <tr>\n",
       "      <th>1990</th>\n",
       "      <td>111.199997</td>\n",
       "      <td>250181</td>\n",
       "      <td>78.385002</td>\n",
       "      <td>21379</td>\n",
       "    </tr>\n",
       "    <tr>\n",
       "      <th>1991</th>\n",
       "      <td>108.500000</td>\n",
       "      <td>253530</td>\n",
       "      <td>77.337997</td>\n",
       "      <td>21129</td>\n",
       "    </tr>\n",
       "    <tr>\n",
       "      <th>1992</th>\n",
       "      <td>112.400002</td>\n",
       "      <td>256922</td>\n",
       "      <td>77.040001</td>\n",
       "      <td>21505</td>\n",
       "    </tr>\n",
       "    <tr>\n",
       "      <th>1993</th>\n",
       "      <td>114.099998</td>\n",
       "      <td>260282</td>\n",
       "      <td>76.257004</td>\n",
       "      <td>21515</td>\n",
       "    </tr>\n",
       "    <tr>\n",
       "      <th>1994</th>\n",
       "      <td>116.199997</td>\n",
       "      <td>263455</td>\n",
       "      <td>76.613998</td>\n",
       "      <td>21797</td>\n",
       "    </tr>\n",
       "    <tr>\n",
       "      <th>1995</th>\n",
       "      <td>120.199997</td>\n",
       "      <td>266588</td>\n",
       "      <td>77.825996</td>\n",
       "      <td>22100</td>\n",
       "    </tr>\n",
       "    <tr>\n",
       "      <th>1996</th>\n",
       "      <td>130.399994</td>\n",
       "      <td>269714</td>\n",
       "      <td>82.596001</td>\n",
       "      <td>22506</td>\n",
       "    </tr>\n",
       "    <tr>\n",
       "      <th>1997</th>\n",
       "      <td>134.399994</td>\n",
       "      <td>272958</td>\n",
       "      <td>82.579002</td>\n",
       "      <td>22944</td>\n",
       "    </tr>\n",
       "    <tr>\n",
       "      <th>1998</th>\n",
       "      <td>122.400002</td>\n",
       "      <td>276154</td>\n",
       "      <td>71.874001</td>\n",
       "      <td>24079</td>\n",
       "    </tr>\n",
       "    <tr>\n",
       "      <th>1999</th>\n",
       "      <td>137.899994</td>\n",
       "      <td>279328</td>\n",
       "      <td>78.207001</td>\n",
       "      <td>24464</td>\n",
       "    </tr>\n",
       "    <tr>\n",
       "      <th>2000</th>\n",
       "      <td>175.699997</td>\n",
       "      <td>282429</td>\n",
       "      <td>100.000000</td>\n",
       "      <td>25380</td>\n",
       "    </tr>\n",
       "    <tr>\n",
       "      <th>2001</th>\n",
       "      <td>171.600006</td>\n",
       "      <td>285366</td>\n",
       "      <td>96.289001</td>\n",
       "      <td>25449</td>\n",
       "    </tr>\n",
       "    <tr>\n",
       "      <th>2002</th>\n",
       "      <td>163.399994</td>\n",
       "      <td>288217</td>\n",
       "      <td>90.404999</td>\n",
       "      <td>26352</td>\n",
       "    </tr>\n",
       "    <tr>\n",
       "      <th>2003</th>\n",
       "      <td>191.300003</td>\n",
       "      <td>291073</td>\n",
       "      <td>105.153999</td>\n",
       "      <td>26437</td>\n",
       "    </tr>\n",
       "    <tr>\n",
       "      <th>2004</th>\n",
       "      <td>224.500000</td>\n",
       "      <td>293951</td>\n",
       "      <td>123.901001</td>\n",
       "      <td>27113</td>\n",
       "    </tr>\n",
       "  </tbody>\n",
       "</table>\n",
       "</div>"
      ],
      "text/plain": [
       "         Gas Exp     Pop        Gasp  Income\n",
       "Year                                        \n",
       "1953    7.400000  159565   16.667999    8883\n",
       "1954    7.800000  162391   17.028999    8685\n",
       "1955    8.600000  165275   17.209999    9137\n",
       "1956    9.400000  168221   17.729000    9436\n",
       "1957   10.200000  171274   18.497000    9534\n",
       "1958   10.600000  174141   18.316000    9343\n",
       "1959   11.300000  177130   18.576000    9738\n",
       "1960   12.000000  180760   19.112000    9770\n",
       "1961   12.000000  183742   18.924000    9843\n",
       "1962   12.600000  186590   19.042999   10226\n",
       "1963   13.000000  189300   18.997000   10398\n",
       "1964   13.600000  191927   18.872999   11051\n",
       "1965   14.800000  194347   19.587000   11430\n",
       "1966   16.000000  196599   20.038000   11981\n",
       "1967   17.100000  198752   20.700001   12418\n",
       "1968   18.600000  200745   21.004999   12932\n",
       "1969   20.500000  202736   21.695999   13060\n",
       "1970   21.900000  205089   21.889999   13567\n",
       "1971   23.200001  207692   22.049999   14008\n",
       "1972   24.400000  209924   22.336000   14270\n",
       "1973   28.100000  211939   24.473000   15309\n",
       "1974   36.099998  213898   33.058998   15074\n",
       "1975   39.700001  215981   35.278000   15555\n",
       "1976   43.000000  218086   36.777000   15693\n",
       "1977   46.900002  220289   38.907001   15991\n",
       "1978   50.099998  222629   40.597000   16674\n",
       "1979   66.199997  225106   54.405998   16843\n",
       "1980   86.699997  227726   75.509003   16711\n",
       "1981   97.900002  230008   84.017998   17046\n",
       "1982   94.099998  232218   79.767998   17429\n",
       "1983   93.099998  234333   77.160004   17659\n",
       "1984   94.599998  236394   76.004997   18922\n",
       "1985   97.199997  238506   76.619003   19622\n",
       "1986   80.099998  240683   60.174999   19944\n",
       "1987   85.400002  242843   62.487999   19802\n",
       "1988   88.300003  245061   63.016998   20682\n",
       "1989   98.599998  247387   68.836998   21048\n",
       "1990  111.199997  250181   78.385002   21379\n",
       "1991  108.500000  253530   77.337997   21129\n",
       "1992  112.400002  256922   77.040001   21505\n",
       "1993  114.099998  260282   76.257004   21515\n",
       "1994  116.199997  263455   76.613998   21797\n",
       "1995  120.199997  266588   77.825996   22100\n",
       "1996  130.399994  269714   82.596001   22506\n",
       "1997  134.399994  272958   82.579002   22944\n",
       "1998  122.400002  276154   71.874001   24079\n",
       "1999  137.899994  279328   78.207001   24464\n",
       "2000  175.699997  282429  100.000000   25380\n",
       "2001  171.600006  285366   96.289001   25449\n",
       "2002  163.399994  288217   90.404999   26352\n",
       "2003  191.300003  291073  105.153999   26437\n",
       "2004  224.500000  293951  123.901001   27113"
      ]
     },
     "execution_count": 101,
     "metadata": {},
     "output_type": "execute_result"
    }
   ],
   "source": [
    "data_03.set_index('Year')"
   ]
  }
 ],
 "metadata": {
  "kernelspec": {
   "display_name": "Python 3",
   "language": "python",
   "name": "python3"
  },
  "language_info": {
   "codemirror_mode": {
    "name": "ipython",
    "version": 3
   },
   "file_extension": ".py",
   "mimetype": "text/x-python",
   "name": "python",
   "nbconvert_exporter": "python",
   "pygments_lexer": "ipython3",
   "version": "3.8.5"
  }
 },
 "nbformat": 4,
 "nbformat_minor": 4
}
