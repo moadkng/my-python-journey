{
 "cells": [
  {
   "cell_type": "markdown",
   "metadata": {},
   "source": [
    "<font size = 5><b><u> Python & SQL 2 : </b></u><font>"
   ]
  },
  {
   "cell_type": "code",
   "execution_count": 1,
   "metadata": {},
   "outputs": [],
   "source": [
    "import sqlite3\n",
    "import pandas as pd\n",
    "import numpy as np\n",
    "import matplotlib.pyplot as plt"
   ]
  },
  {
   "cell_type": "code",
   "execution_count": 2,
   "metadata": {},
   "outputs": [],
   "source": [
    "connection = sqlite3.connect(\"MyDataBaseTest.db\")"
   ]
  },
  {
   "cell_type": "code",
   "execution_count": 3,
   "metadata": {},
   "outputs": [],
   "source": [
    "cursor = connection.cursor()"
   ]
  },
  {
   "cell_type": "code",
   "execution_count": 4,
   "metadata": {},
   "outputs": [],
   "source": [
    "#INTEGER (Integer)\n",
    "#REAL (Float)\n",
    "#TEXT (Strings)\n",
    "#BLOBS (Binaly large objects)\n",
    "#NULL (Empty)"
   ]
  },
  {
   "cell_type": "code",
   "execution_count": 5,
   "metadata": {},
   "outputs": [
    {
     "data": {
      "text/plain": [
       "<sqlite3.Cursor at 0x7fdc6ad26f10>"
      ]
     },
     "execution_count": 5,
     "metadata": {},
     "output_type": "execute_result"
    }
   ],
   "source": [
    "cursor.execute(\"CREATE TABLE sp500(isin TEXT, ticker TEXT, last_close REAL)\")"
   ]
  },
  {
   "cell_type": "code",
   "execution_count": 6,
   "metadata": {},
   "outputs": [],
   "source": [
    "connection.commit()"
   ]
  },
  {
   "cell_type": "code",
   "execution_count": 7,
   "metadata": {},
   "outputs": [
    {
     "data": {
      "text/plain": [
       "<sqlite3.Cursor at 0x7fdc6ad26f10>"
      ]
     },
     "execution_count": 7,
     "metadata": {},
     "output_type": "execute_result"
    }
   ],
   "source": [
    "cursor.execute(\"INSERT INTO sp500 VALUES('US005507V1098', 'ATVI', 82.63)\")"
   ]
  },
  {
   "cell_type": "code",
   "execution_count": 8,
   "metadata": {},
   "outputs": [],
   "source": [
    "connection.commit()"
   ]
  },
  {
   "cell_type": "code",
   "execution_count": 9,
   "metadata": {},
   "outputs": [
    {
     "data": {
      "text/plain": [
       "<sqlite3.Cursor at 0x7fdc6ad26f10>"
      ]
     },
     "execution_count": 9,
     "metadata": {},
     "output_type": "execute_result"
    }
   ],
   "source": [
    "cursor.execute(\"INSERT INTO sp500 VALUES('US30303M1027', 'FB', 359.37)\")"
   ]
  },
  {
   "cell_type": "code",
   "execution_count": 10,
   "metadata": {},
   "outputs": [],
   "source": [
    "connection.commit()"
   ]
  },
  {
   "cell_type": "code",
   "execution_count": 11,
   "metadata": {},
   "outputs": [],
   "source": [
    "isin = \"US00206R1023\"\n",
    "ticker = \"T\"\n",
    "last_close = 27.57"
   ]
  },
  {
   "cell_type": "code",
   "execution_count": 12,
   "metadata": {},
   "outputs": [
    {
     "data": {
      "text/plain": [
       "<sqlite3.Cursor at 0x7fdc6ad26f10>"
      ]
     },
     "execution_count": 12,
     "metadata": {},
     "output_type": "execute_result"
    }
   ],
   "source": [
    "cursor.execute(\"INSERT INTO sp500 VALUES(?,?,?)\", (isin, ticker, last_close))"
   ]
  },
  {
   "cell_type": "code",
   "execution_count": 13,
   "metadata": {},
   "outputs": [],
   "source": [
    "connection.commit()"
   ]
  },
  {
   "cell_type": "code",
   "execution_count": 14,
   "metadata": {},
   "outputs": [
    {
     "data": {
      "text/plain": [
       "<sqlite3.Cursor at 0x7fdc6ad26f10>"
      ]
     },
     "execution_count": 14,
     "metadata": {},
     "output_type": "execute_result"
    }
   ],
   "source": [
    "cursor.execute(\"SELECT * FROM sp500\")"
   ]
  },
  {
   "cell_type": "code",
   "execution_count": 15,
   "metadata": {},
   "outputs": [],
   "source": [
    "my_query_1 = cursor.fetchone()"
   ]
  },
  {
   "cell_type": "code",
   "execution_count": 16,
   "metadata": {},
   "outputs": [],
   "source": [
    "my_query_2 = cursor.fetchone()"
   ]
  },
  {
   "cell_type": "code",
   "execution_count": 17,
   "metadata": {},
   "outputs": [],
   "source": [
    "my_query_3 = cursor.fetchone()"
   ]
  },
  {
   "cell_type": "code",
   "execution_count": 18,
   "metadata": {},
   "outputs": [],
   "source": [
    "my_query = [my_query_1, my_query_2, my_query_3]"
   ]
  },
  {
   "cell_type": "code",
   "execution_count": 19,
   "metadata": {},
   "outputs": [],
   "source": [
    "arr_init = np.zeros((len(my_query), len(my_query[0])))"
   ]
  },
  {
   "cell_type": "code",
   "execution_count": 20,
   "metadata": {},
   "outputs": [],
   "source": [
    "df_res_1 = pd.DataFrame(arr_init)"
   ]
  },
  {
   "cell_type": "code",
   "execution_count": 21,
   "metadata": {},
   "outputs": [
    {
     "data": {
      "text/html": [
       "<div>\n",
       "<style scoped>\n",
       "    .dataframe tbody tr th:only-of-type {\n",
       "        vertical-align: middle;\n",
       "    }\n",
       "\n",
       "    .dataframe tbody tr th {\n",
       "        vertical-align: top;\n",
       "    }\n",
       "\n",
       "    .dataframe thead th {\n",
       "        text-align: right;\n",
       "    }\n",
       "</style>\n",
       "<table border=\"1\" class=\"dataframe\">\n",
       "  <thead>\n",
       "    <tr style=\"text-align: right;\">\n",
       "      <th></th>\n",
       "      <th>0</th>\n",
       "      <th>1</th>\n",
       "      <th>2</th>\n",
       "    </tr>\n",
       "  </thead>\n",
       "  <tbody>\n",
       "    <tr>\n",
       "      <th>0</th>\n",
       "      <td>0.0</td>\n",
       "      <td>0.0</td>\n",
       "      <td>0.0</td>\n",
       "    </tr>\n",
       "    <tr>\n",
       "      <th>1</th>\n",
       "      <td>0.0</td>\n",
       "      <td>0.0</td>\n",
       "      <td>0.0</td>\n",
       "    </tr>\n",
       "    <tr>\n",
       "      <th>2</th>\n",
       "      <td>0.0</td>\n",
       "      <td>0.0</td>\n",
       "      <td>0.0</td>\n",
       "    </tr>\n",
       "  </tbody>\n",
       "</table>\n",
       "</div>"
      ],
      "text/plain": [
       "     0    1    2\n",
       "0  0.0  0.0  0.0\n",
       "1  0.0  0.0  0.0\n",
       "2  0.0  0.0  0.0"
      ]
     },
     "execution_count": 21,
     "metadata": {},
     "output_type": "execute_result"
    }
   ],
   "source": [
    "df_res_1"
   ]
  },
  {
   "cell_type": "code",
   "execution_count": 22,
   "metadata": {},
   "outputs": [],
   "source": [
    "df_res_1.columns = (\"isin\", \"ticker\", \"last_close\")"
   ]
  },
  {
   "cell_type": "code",
   "execution_count": 25,
   "metadata": {},
   "outputs": [],
   "source": [
    "i = 0\n",
    "for col in df_res_1.columns:\n",
    "    j = 0\n",
    "    for lg in df_res_1.index:\n",
    "        df_res_1.loc[lg, col] = my_query[j][i]\n",
    "        j += 1\n",
    "    i += 1"
   ]
  },
  {
   "cell_type": "code",
   "execution_count": 26,
   "metadata": {},
   "outputs": [
    {
     "data": {
      "text/html": [
       "<div>\n",
       "<style scoped>\n",
       "    .dataframe tbody tr th:only-of-type {\n",
       "        vertical-align: middle;\n",
       "    }\n",
       "\n",
       "    .dataframe tbody tr th {\n",
       "        vertical-align: top;\n",
       "    }\n",
       "\n",
       "    .dataframe thead th {\n",
       "        text-align: right;\n",
       "    }\n",
       "</style>\n",
       "<table border=\"1\" class=\"dataframe\">\n",
       "  <thead>\n",
       "    <tr style=\"text-align: right;\">\n",
       "      <th></th>\n",
       "      <th>isin</th>\n",
       "      <th>ticker</th>\n",
       "      <th>last_close</th>\n",
       "    </tr>\n",
       "  </thead>\n",
       "  <tbody>\n",
       "    <tr>\n",
       "      <th>0</th>\n",
       "      <td>US005507V1098</td>\n",
       "      <td>ATVI</td>\n",
       "      <td>82.63</td>\n",
       "    </tr>\n",
       "    <tr>\n",
       "      <th>1</th>\n",
       "      <td>US30303M1027</td>\n",
       "      <td>FB</td>\n",
       "      <td>359.37</td>\n",
       "    </tr>\n",
       "    <tr>\n",
       "      <th>2</th>\n",
       "      <td>US00206R1023</td>\n",
       "      <td>T</td>\n",
       "      <td>27.57</td>\n",
       "    </tr>\n",
       "  </tbody>\n",
       "</table>\n",
       "</div>"
      ],
      "text/plain": [
       "            isin ticker  last_close\n",
       "0  US005507V1098   ATVI       82.63\n",
       "1   US30303M1027     FB      359.37\n",
       "2   US00206R1023      T       27.57"
      ]
     },
     "execution_count": 26,
     "metadata": {},
     "output_type": "execute_result"
    }
   ],
   "source": [
    "df_res_1"
   ]
  },
  {
   "cell_type": "code",
   "execution_count": 27,
   "metadata": {},
   "outputs": [],
   "source": [
    "df_univers_gc = pd.read_csv(\"/Users/moaderrafay/Documents/Divers/Career/My python journey/Scoring/Univers GC (VALEURS).csv\", sep = \";\")"
   ]
  },
  {
   "cell_type": "code",
   "execution_count": 28,
   "metadata": {},
   "outputs": [],
   "source": [
    "df_univers_gc = df_univers_gc.dropna(how = \"all\")"
   ]
  },
  {
   "cell_type": "code",
   "execution_count": 29,
   "metadata": {},
   "outputs": [],
   "source": [
    "df_univers_gc = df_univers_gc.iloc[0:,:8]"
   ]
  },
  {
   "cell_type": "code",
   "execution_count": 30,
   "metadata": {},
   "outputs": [],
   "source": [
    "df_univers_gc.drop([\"Capitalisation (LC Mds)\"], axis = 1, inplace = True)"
   ]
  },
  {
   "cell_type": "code",
   "execution_count": 31,
   "metadata": {
    "collapsed": true
   },
   "outputs": [
    {
     "data": {
      "text/html": [
       "<div>\n",
       "<style scoped>\n",
       "    .dataframe tbody tr th:only-of-type {\n",
       "        vertical-align: middle;\n",
       "    }\n",
       "\n",
       "    .dataframe tbody tr th {\n",
       "        vertical-align: top;\n",
       "    }\n",
       "\n",
       "    .dataframe thead th {\n",
       "        text-align: right;\n",
       "    }\n",
       "</style>\n",
       "<table border=\"1\" class=\"dataframe\">\n",
       "  <thead>\n",
       "    <tr style=\"text-align: right;\">\n",
       "      <th></th>\n",
       "      <th>Nom</th>\n",
       "      <th>ISIN</th>\n",
       "      <th>Ticker</th>\n",
       "      <th>Devise</th>\n",
       "      <th>Pays</th>\n",
       "      <th>Secteur</th>\n",
       "      <th>Industrie</th>\n",
       "    </tr>\n",
       "  </thead>\n",
       "  <tbody>\n",
       "    <tr>\n",
       "      <th>0</th>\n",
       "      <td>ABB LTD-REG</td>\n",
       "      <td>CH0012221716</td>\n",
       "      <td>ABBN SW EQUITY</td>\n",
       "      <td>CHF</td>\n",
       "      <td>SWITZERLAND</td>\n",
       "      <td>Industrie</td>\n",
       "      <td>Biens d'investissement</td>\n",
       "    </tr>\n",
       "    <tr>\n",
       "      <th>1</th>\n",
       "      <td>ABBVIE INC</td>\n",
       "      <td>US00287Y1091</td>\n",
       "      <td>ABBV US EQUITY</td>\n",
       "      <td>USD</td>\n",
       "      <td>UNITED STATES</td>\n",
       "      <td>Soins de santé</td>\n",
       "      <td>Sciences pharmaceutiques, biot</td>\n",
       "    </tr>\n",
       "    <tr>\n",
       "      <th>2</th>\n",
       "      <td>ABN AMRO BANK-CV</td>\n",
       "      <td>NL0011540547</td>\n",
       "      <td>ABN NA EQUITY</td>\n",
       "      <td>EUR</td>\n",
       "      <td>NETHERLANDS</td>\n",
       "      <td>Finance</td>\n",
       "      <td>Banques</td>\n",
       "    </tr>\n",
       "    <tr>\n",
       "      <th>3</th>\n",
       "      <td>ACCENTURE PLC-A</td>\n",
       "      <td>IE00B4BNMY34</td>\n",
       "      <td>ACN US EQUITY</td>\n",
       "      <td>USD</td>\n",
       "      <td>IRELAND</td>\n",
       "      <td>Technologies de l'information</td>\n",
       "      <td>Logiciels et services</td>\n",
       "    </tr>\n",
       "    <tr>\n",
       "      <th>4</th>\n",
       "      <td>ACCOR SA</td>\n",
       "      <td>FR0000120404</td>\n",
       "      <td>AC FP EQUITY</td>\n",
       "      <td>EUR</td>\n",
       "      <td>FRANCE</td>\n",
       "      <td>Consommation discrétionnaire</td>\n",
       "      <td>Services consommateurs</td>\n",
       "    </tr>\n",
       "    <tr>\n",
       "      <th>...</th>\n",
       "      <td>...</td>\n",
       "      <td>...</td>\n",
       "      <td>...</td>\n",
       "      <td>...</td>\n",
       "      <td>...</td>\n",
       "      <td>...</td>\n",
       "      <td>...</td>\n",
       "    </tr>\n",
       "    <tr>\n",
       "      <th>556</th>\n",
       "      <td>EQT AB</td>\n",
       "      <td>SE0012853455</td>\n",
       "      <td>EQT SS EQUITY</td>\n",
       "      <td>SEK</td>\n",
       "      <td>SWEDEN</td>\n",
       "      <td>Finance</td>\n",
       "      <td>Services financiers diversifi</td>\n",
       "    </tr>\n",
       "    <tr>\n",
       "      <th>557</th>\n",
       "      <td>HAPAG-LLOYD AG</td>\n",
       "      <td>DE000HLAG475</td>\n",
       "      <td>HLAG GR EQUITY</td>\n",
       "      <td>EUR</td>\n",
       "      <td>GERMANY</td>\n",
       "      <td>Industrie</td>\n",
       "      <td>Transport</td>\n",
       "    </tr>\n",
       "    <tr>\n",
       "      <th>558</th>\n",
       "      <td>COLOPLAST-B</td>\n",
       "      <td>DK0060448595</td>\n",
       "      <td>COLOB DC EQUITY</td>\n",
       "      <td>DKK</td>\n",
       "      <td>DENMARK</td>\n",
       "      <td>Soins de santé</td>\n",
       "      <td>Equipement et services de sant</td>\n",
       "    </tr>\n",
       "    <tr>\n",
       "      <th>559</th>\n",
       "      <td>DELIVERY HERO SE</td>\n",
       "      <td>DE000A2E4K43</td>\n",
       "      <td>DHER GR EQUITY</td>\n",
       "      <td>EUR</td>\n",
       "      <td>GERMANY</td>\n",
       "      <td>Consommation discrétionnaire</td>\n",
       "      <td>Vente au détail</td>\n",
       "    </tr>\n",
       "    <tr>\n",
       "      <th>560</th>\n",
       "      <td>ASHTEAD GROUP</td>\n",
       "      <td>GB0000536739</td>\n",
       "      <td>AHT LN EQUITY</td>\n",
       "      <td>GBp</td>\n",
       "      <td>BRITAIN</td>\n",
       "      <td>Industrie</td>\n",
       "      <td>Biens d'investissement</td>\n",
       "    </tr>\n",
       "  </tbody>\n",
       "</table>\n",
       "<p>561 rows × 7 columns</p>\n",
       "</div>"
      ],
      "text/plain": [
       "                  Nom          ISIN           Ticker Devise           Pays  \\\n",
       "0         ABB LTD-REG  CH0012221716   ABBN SW EQUITY    CHF    SWITZERLAND   \n",
       "1          ABBVIE INC  US00287Y1091   ABBV US EQUITY    USD  UNITED STATES   \n",
       "2    ABN AMRO BANK-CV  NL0011540547    ABN NA EQUITY    EUR    NETHERLANDS   \n",
       "3     ACCENTURE PLC-A  IE00B4BNMY34    ACN US EQUITY    USD        IRELAND   \n",
       "4            ACCOR SA  FR0000120404     AC FP EQUITY    EUR         FRANCE   \n",
       "..                ...           ...              ...    ...            ...   \n",
       "556            EQT AB  SE0012853455    EQT SS EQUITY    SEK         SWEDEN   \n",
       "557    HAPAG-LLOYD AG  DE000HLAG475   HLAG GR EQUITY    EUR        GERMANY   \n",
       "558       COLOPLAST-B  DK0060448595  COLOB DC EQUITY    DKK        DENMARK   \n",
       "559  DELIVERY HERO SE  DE000A2E4K43   DHER GR EQUITY    EUR        GERMANY   \n",
       "560     ASHTEAD GROUP  GB0000536739    AHT LN EQUITY    GBp        BRITAIN   \n",
       "\n",
       "                           Secteur                       Industrie  \n",
       "0                        Industrie          Biens d'investissement  \n",
       "1                   Soins de santé  Sciences pharmaceutiques, biot  \n",
       "2                          Finance                         Banques  \n",
       "3    Technologies de l'information           Logiciels et services  \n",
       "4     Consommation discrétionnaire          Services consommateurs  \n",
       "..                             ...                             ...  \n",
       "556                        Finance   Services financiers diversifi  \n",
       "557                      Industrie                       Transport  \n",
       "558                 Soins de santé  Equipement et services de sant  \n",
       "559   Consommation discrétionnaire                 Vente au détail  \n",
       "560                      Industrie          Biens d'investissement  \n",
       "\n",
       "[561 rows x 7 columns]"
      ]
     },
     "execution_count": 31,
     "metadata": {},
     "output_type": "execute_result"
    }
   ],
   "source": [
    "df_univers_gc"
   ]
  },
  {
   "cell_type": "code",
   "execution_count": 32,
   "metadata": {},
   "outputs": [],
   "source": [
    "col_list = list(df_univers_gc)\n",
    "col_list[0], col_list[1], col_list[2] = col_list[1], col_list[2], col_list[0]\n",
    "df_univers_gc = df_univers_gc.reindex(columns = col_list)"
   ]
  },
  {
   "cell_type": "code",
   "execution_count": 33,
   "metadata": {
    "collapsed": true
   },
   "outputs": [
    {
     "data": {
      "text/html": [
       "<div>\n",
       "<style scoped>\n",
       "    .dataframe tbody tr th:only-of-type {\n",
       "        vertical-align: middle;\n",
       "    }\n",
       "\n",
       "    .dataframe tbody tr th {\n",
       "        vertical-align: top;\n",
       "    }\n",
       "\n",
       "    .dataframe thead th {\n",
       "        text-align: right;\n",
       "    }\n",
       "</style>\n",
       "<table border=\"1\" class=\"dataframe\">\n",
       "  <thead>\n",
       "    <tr style=\"text-align: right;\">\n",
       "      <th></th>\n",
       "      <th>ISIN</th>\n",
       "      <th>Ticker</th>\n",
       "      <th>Nom</th>\n",
       "      <th>Devise</th>\n",
       "      <th>Pays</th>\n",
       "      <th>Secteur</th>\n",
       "      <th>Industrie</th>\n",
       "    </tr>\n",
       "  </thead>\n",
       "  <tbody>\n",
       "    <tr>\n",
       "      <th>0</th>\n",
       "      <td>CH0012221716</td>\n",
       "      <td>ABBN SW EQUITY</td>\n",
       "      <td>ABB LTD-REG</td>\n",
       "      <td>CHF</td>\n",
       "      <td>SWITZERLAND</td>\n",
       "      <td>Industrie</td>\n",
       "      <td>Biens d'investissement</td>\n",
       "    </tr>\n",
       "    <tr>\n",
       "      <th>1</th>\n",
       "      <td>US00287Y1091</td>\n",
       "      <td>ABBV US EQUITY</td>\n",
       "      <td>ABBVIE INC</td>\n",
       "      <td>USD</td>\n",
       "      <td>UNITED STATES</td>\n",
       "      <td>Soins de santé</td>\n",
       "      <td>Sciences pharmaceutiques, biot</td>\n",
       "    </tr>\n",
       "    <tr>\n",
       "      <th>2</th>\n",
       "      <td>NL0011540547</td>\n",
       "      <td>ABN NA EQUITY</td>\n",
       "      <td>ABN AMRO BANK-CV</td>\n",
       "      <td>EUR</td>\n",
       "      <td>NETHERLANDS</td>\n",
       "      <td>Finance</td>\n",
       "      <td>Banques</td>\n",
       "    </tr>\n",
       "    <tr>\n",
       "      <th>3</th>\n",
       "      <td>IE00B4BNMY34</td>\n",
       "      <td>ACN US EQUITY</td>\n",
       "      <td>ACCENTURE PLC-A</td>\n",
       "      <td>USD</td>\n",
       "      <td>IRELAND</td>\n",
       "      <td>Technologies de l'information</td>\n",
       "      <td>Logiciels et services</td>\n",
       "    </tr>\n",
       "    <tr>\n",
       "      <th>4</th>\n",
       "      <td>FR0000120404</td>\n",
       "      <td>AC FP EQUITY</td>\n",
       "      <td>ACCOR SA</td>\n",
       "      <td>EUR</td>\n",
       "      <td>FRANCE</td>\n",
       "      <td>Consommation discrétionnaire</td>\n",
       "      <td>Services consommateurs</td>\n",
       "    </tr>\n",
       "    <tr>\n",
       "      <th>...</th>\n",
       "      <td>...</td>\n",
       "      <td>...</td>\n",
       "      <td>...</td>\n",
       "      <td>...</td>\n",
       "      <td>...</td>\n",
       "      <td>...</td>\n",
       "      <td>...</td>\n",
       "    </tr>\n",
       "    <tr>\n",
       "      <th>556</th>\n",
       "      <td>SE0012853455</td>\n",
       "      <td>EQT SS EQUITY</td>\n",
       "      <td>EQT AB</td>\n",
       "      <td>SEK</td>\n",
       "      <td>SWEDEN</td>\n",
       "      <td>Finance</td>\n",
       "      <td>Services financiers diversifi</td>\n",
       "    </tr>\n",
       "    <tr>\n",
       "      <th>557</th>\n",
       "      <td>DE000HLAG475</td>\n",
       "      <td>HLAG GR EQUITY</td>\n",
       "      <td>HAPAG-LLOYD AG</td>\n",
       "      <td>EUR</td>\n",
       "      <td>GERMANY</td>\n",
       "      <td>Industrie</td>\n",
       "      <td>Transport</td>\n",
       "    </tr>\n",
       "    <tr>\n",
       "      <th>558</th>\n",
       "      <td>DK0060448595</td>\n",
       "      <td>COLOB DC EQUITY</td>\n",
       "      <td>COLOPLAST-B</td>\n",
       "      <td>DKK</td>\n",
       "      <td>DENMARK</td>\n",
       "      <td>Soins de santé</td>\n",
       "      <td>Equipement et services de sant</td>\n",
       "    </tr>\n",
       "    <tr>\n",
       "      <th>559</th>\n",
       "      <td>DE000A2E4K43</td>\n",
       "      <td>DHER GR EQUITY</td>\n",
       "      <td>DELIVERY HERO SE</td>\n",
       "      <td>EUR</td>\n",
       "      <td>GERMANY</td>\n",
       "      <td>Consommation discrétionnaire</td>\n",
       "      <td>Vente au détail</td>\n",
       "    </tr>\n",
       "    <tr>\n",
       "      <th>560</th>\n",
       "      <td>GB0000536739</td>\n",
       "      <td>AHT LN EQUITY</td>\n",
       "      <td>ASHTEAD GROUP</td>\n",
       "      <td>GBp</td>\n",
       "      <td>BRITAIN</td>\n",
       "      <td>Industrie</td>\n",
       "      <td>Biens d'investissement</td>\n",
       "    </tr>\n",
       "  </tbody>\n",
       "</table>\n",
       "<p>561 rows × 7 columns</p>\n",
       "</div>"
      ],
      "text/plain": [
       "             ISIN           Ticker               Nom Devise           Pays  \\\n",
       "0    CH0012221716   ABBN SW EQUITY       ABB LTD-REG    CHF    SWITZERLAND   \n",
       "1    US00287Y1091   ABBV US EQUITY        ABBVIE INC    USD  UNITED STATES   \n",
       "2    NL0011540547    ABN NA EQUITY  ABN AMRO BANK-CV    EUR    NETHERLANDS   \n",
       "3    IE00B4BNMY34    ACN US EQUITY   ACCENTURE PLC-A    USD        IRELAND   \n",
       "4    FR0000120404     AC FP EQUITY          ACCOR SA    EUR         FRANCE   \n",
       "..            ...              ...               ...    ...            ...   \n",
       "556  SE0012853455    EQT SS EQUITY            EQT AB    SEK         SWEDEN   \n",
       "557  DE000HLAG475   HLAG GR EQUITY    HAPAG-LLOYD AG    EUR        GERMANY   \n",
       "558  DK0060448595  COLOB DC EQUITY       COLOPLAST-B    DKK        DENMARK   \n",
       "559  DE000A2E4K43   DHER GR EQUITY  DELIVERY HERO SE    EUR        GERMANY   \n",
       "560  GB0000536739    AHT LN EQUITY     ASHTEAD GROUP    GBp        BRITAIN   \n",
       "\n",
       "                           Secteur                       Industrie  \n",
       "0                        Industrie          Biens d'investissement  \n",
       "1                   Soins de santé  Sciences pharmaceutiques, biot  \n",
       "2                          Finance                         Banques  \n",
       "3    Technologies de l'information           Logiciels et services  \n",
       "4     Consommation discrétionnaire          Services consommateurs  \n",
       "..                             ...                             ...  \n",
       "556                        Finance   Services financiers diversifi  \n",
       "557                      Industrie                       Transport  \n",
       "558                 Soins de santé  Equipement et services de sant  \n",
       "559   Consommation discrétionnaire                 Vente au détail  \n",
       "560                      Industrie          Biens d'investissement  \n",
       "\n",
       "[561 rows x 7 columns]"
      ]
     },
     "execution_count": 33,
     "metadata": {},
     "output_type": "execute_result"
    }
   ],
   "source": [
    "df_univers_gc"
   ]
  },
  {
   "cell_type": "code",
   "execution_count": 34,
   "metadata": {},
   "outputs": [
    {
     "data": {
      "text/plain": [
       "<sqlite3.Cursor at 0x7fdc6ad26f10>"
      ]
     },
     "execution_count": 34,
     "metadata": {},
     "output_type": "execute_result"
    }
   ],
   "source": [
    "cursor.execute(\"CREATE TABLE universgc(isin TEXT, ticker TEXT, nom TEXT, devise TEXT, pays TEXT, secteur TEXT, industrie TEXT)\")"
   ]
  },
  {
   "cell_type": "code",
   "execution_count": 35,
   "metadata": {},
   "outputs": [],
   "source": [
    "connection.commit()"
   ]
  },
  {
   "cell_type": "code",
   "execution_count": 36,
   "metadata": {},
   "outputs": [],
   "source": [
    "for lg in df_univers_gc.index:\n",
    "    isin = df_univers_gc[\"ISIN\"][lg]\n",
    "    ticker = df_univers_gc[\"Ticker\"][lg]\n",
    "    nom = df_univers_gc[\"Nom\"][lg]\n",
    "    devise = df_univers_gc[\"Devise\"][lg]\n",
    "    pays = df_univers_gc[\"Pays\"][lg]\n",
    "    secteur = df_univers_gc[\"Secteur\"][lg]\n",
    "    industrie = df_univers_gc[\"Industrie\"][lg]\n",
    "    cursor.execute(\"INSERT INTO universgc VALUES (?,?,?,?,?,?,?)\", (isin, ticker, nom, devise, pays, secteur, industrie))"
   ]
  },
  {
   "cell_type": "code",
   "execution_count": 37,
   "metadata": {},
   "outputs": [],
   "source": [
    "connection.commit()"
   ]
  },
  {
   "cell_type": "code",
   "execution_count": 38,
   "metadata": {},
   "outputs": [
    {
     "data": {
      "text/plain": [
       "<sqlite3.Cursor at 0x7fdc6ad26f10>"
      ]
     },
     "execution_count": 38,
     "metadata": {},
     "output_type": "execute_result"
    }
   ],
   "source": [
    "cursor.execute(\"SELECT * FROM universgc\")"
   ]
  },
  {
   "cell_type": "code",
   "execution_count": 39,
   "metadata": {},
   "outputs": [],
   "source": [
    "df_res_2 = pd.DataFrame(cursor.fetchall())"
   ]
  },
  {
   "cell_type": "code",
   "execution_count": 40,
   "metadata": {},
   "outputs": [],
   "source": [
    "df_res_2.columns = [\"isin\", \"ticker\", \"nom\", \"devise\", \"pays\", \"secteur\", \"industrie\"]"
   ]
  },
  {
   "cell_type": "code",
   "execution_count": 41,
   "metadata": {
    "collapsed": true
   },
   "outputs": [
    {
     "data": {
      "text/html": [
       "<div>\n",
       "<style scoped>\n",
       "    .dataframe tbody tr th:only-of-type {\n",
       "        vertical-align: middle;\n",
       "    }\n",
       "\n",
       "    .dataframe tbody tr th {\n",
       "        vertical-align: top;\n",
       "    }\n",
       "\n",
       "    .dataframe thead th {\n",
       "        text-align: right;\n",
       "    }\n",
       "</style>\n",
       "<table border=\"1\" class=\"dataframe\">\n",
       "  <thead>\n",
       "    <tr style=\"text-align: right;\">\n",
       "      <th></th>\n",
       "      <th>isin</th>\n",
       "      <th>ticker</th>\n",
       "      <th>nom</th>\n",
       "      <th>devise</th>\n",
       "      <th>pays</th>\n",
       "      <th>secteur</th>\n",
       "      <th>industrie</th>\n",
       "    </tr>\n",
       "  </thead>\n",
       "  <tbody>\n",
       "    <tr>\n",
       "      <th>0</th>\n",
       "      <td>CH0012221716</td>\n",
       "      <td>ABBN SW EQUITY</td>\n",
       "      <td>ABB LTD-REG</td>\n",
       "      <td>CHF</td>\n",
       "      <td>SWITZERLAND</td>\n",
       "      <td>Industrie</td>\n",
       "      <td>Biens d'investissement</td>\n",
       "    </tr>\n",
       "    <tr>\n",
       "      <th>1</th>\n",
       "      <td>US00287Y1091</td>\n",
       "      <td>ABBV US EQUITY</td>\n",
       "      <td>ABBVIE INC</td>\n",
       "      <td>USD</td>\n",
       "      <td>UNITED STATES</td>\n",
       "      <td>Soins de santé</td>\n",
       "      <td>Sciences pharmaceutiques, biot</td>\n",
       "    </tr>\n",
       "    <tr>\n",
       "      <th>2</th>\n",
       "      <td>NL0011540547</td>\n",
       "      <td>ABN NA EQUITY</td>\n",
       "      <td>ABN AMRO BANK-CV</td>\n",
       "      <td>EUR</td>\n",
       "      <td>NETHERLANDS</td>\n",
       "      <td>Finance</td>\n",
       "      <td>Banques</td>\n",
       "    </tr>\n",
       "    <tr>\n",
       "      <th>3</th>\n",
       "      <td>IE00B4BNMY34</td>\n",
       "      <td>ACN US EQUITY</td>\n",
       "      <td>ACCENTURE PLC-A</td>\n",
       "      <td>USD</td>\n",
       "      <td>IRELAND</td>\n",
       "      <td>Technologies de l'information</td>\n",
       "      <td>Logiciels et services</td>\n",
       "    </tr>\n",
       "    <tr>\n",
       "      <th>4</th>\n",
       "      <td>FR0000120404</td>\n",
       "      <td>AC FP EQUITY</td>\n",
       "      <td>ACCOR SA</td>\n",
       "      <td>EUR</td>\n",
       "      <td>FRANCE</td>\n",
       "      <td>Consommation discrétionnaire</td>\n",
       "      <td>Services consommateurs</td>\n",
       "    </tr>\n",
       "    <tr>\n",
       "      <th>...</th>\n",
       "      <td>...</td>\n",
       "      <td>...</td>\n",
       "      <td>...</td>\n",
       "      <td>...</td>\n",
       "      <td>...</td>\n",
       "      <td>...</td>\n",
       "      <td>...</td>\n",
       "    </tr>\n",
       "    <tr>\n",
       "      <th>556</th>\n",
       "      <td>SE0012853455</td>\n",
       "      <td>EQT SS EQUITY</td>\n",
       "      <td>EQT AB</td>\n",
       "      <td>SEK</td>\n",
       "      <td>SWEDEN</td>\n",
       "      <td>Finance</td>\n",
       "      <td>Services financiers diversifi</td>\n",
       "    </tr>\n",
       "    <tr>\n",
       "      <th>557</th>\n",
       "      <td>DE000HLAG475</td>\n",
       "      <td>HLAG GR EQUITY</td>\n",
       "      <td>HAPAG-LLOYD AG</td>\n",
       "      <td>EUR</td>\n",
       "      <td>GERMANY</td>\n",
       "      <td>Industrie</td>\n",
       "      <td>Transport</td>\n",
       "    </tr>\n",
       "    <tr>\n",
       "      <th>558</th>\n",
       "      <td>DK0060448595</td>\n",
       "      <td>COLOB DC EQUITY</td>\n",
       "      <td>COLOPLAST-B</td>\n",
       "      <td>DKK</td>\n",
       "      <td>DENMARK</td>\n",
       "      <td>Soins de santé</td>\n",
       "      <td>Equipement et services de sant</td>\n",
       "    </tr>\n",
       "    <tr>\n",
       "      <th>559</th>\n",
       "      <td>DE000A2E4K43</td>\n",
       "      <td>DHER GR EQUITY</td>\n",
       "      <td>DELIVERY HERO SE</td>\n",
       "      <td>EUR</td>\n",
       "      <td>GERMANY</td>\n",
       "      <td>Consommation discrétionnaire</td>\n",
       "      <td>Vente au détail</td>\n",
       "    </tr>\n",
       "    <tr>\n",
       "      <th>560</th>\n",
       "      <td>GB0000536739</td>\n",
       "      <td>AHT LN EQUITY</td>\n",
       "      <td>ASHTEAD GROUP</td>\n",
       "      <td>GBp</td>\n",
       "      <td>BRITAIN</td>\n",
       "      <td>Industrie</td>\n",
       "      <td>Biens d'investissement</td>\n",
       "    </tr>\n",
       "  </tbody>\n",
       "</table>\n",
       "<p>561 rows × 7 columns</p>\n",
       "</div>"
      ],
      "text/plain": [
       "             isin           ticker               nom devise           pays  \\\n",
       "0    CH0012221716   ABBN SW EQUITY       ABB LTD-REG    CHF    SWITZERLAND   \n",
       "1    US00287Y1091   ABBV US EQUITY        ABBVIE INC    USD  UNITED STATES   \n",
       "2    NL0011540547    ABN NA EQUITY  ABN AMRO BANK-CV    EUR    NETHERLANDS   \n",
       "3    IE00B4BNMY34    ACN US EQUITY   ACCENTURE PLC-A    USD        IRELAND   \n",
       "4    FR0000120404     AC FP EQUITY          ACCOR SA    EUR         FRANCE   \n",
       "..            ...              ...               ...    ...            ...   \n",
       "556  SE0012853455    EQT SS EQUITY            EQT AB    SEK         SWEDEN   \n",
       "557  DE000HLAG475   HLAG GR EQUITY    HAPAG-LLOYD AG    EUR        GERMANY   \n",
       "558  DK0060448595  COLOB DC EQUITY       COLOPLAST-B    DKK        DENMARK   \n",
       "559  DE000A2E4K43   DHER GR EQUITY  DELIVERY HERO SE    EUR        GERMANY   \n",
       "560  GB0000536739    AHT LN EQUITY     ASHTEAD GROUP    GBp        BRITAIN   \n",
       "\n",
       "                           secteur                       industrie  \n",
       "0                        Industrie          Biens d'investissement  \n",
       "1                   Soins de santé  Sciences pharmaceutiques, biot  \n",
       "2                          Finance                         Banques  \n",
       "3    Technologies de l'information           Logiciels et services  \n",
       "4     Consommation discrétionnaire          Services consommateurs  \n",
       "..                             ...                             ...  \n",
       "556                        Finance   Services financiers diversifi  \n",
       "557                      Industrie                       Transport  \n",
       "558                 Soins de santé  Equipement et services de sant  \n",
       "559   Consommation discrétionnaire                 Vente au détail  \n",
       "560                      Industrie          Biens d'investissement  \n",
       "\n",
       "[561 rows x 7 columns]"
      ]
     },
     "execution_count": 41,
     "metadata": {},
     "output_type": "execute_result"
    }
   ],
   "source": [
    "df_res_2"
   ]
  },
  {
   "cell_type": "code",
   "execution_count": 42,
   "metadata": {},
   "outputs": [],
   "source": [
    "connection.close()"
   ]
  }
 ],
 "metadata": {
  "kernelspec": {
   "display_name": "Python 3",
   "language": "python",
   "name": "python3"
  },
  "language_info": {
   "codemirror_mode": {
    "name": "ipython",
    "version": 3
   },
   "file_extension": ".py",
   "mimetype": "text/x-python",
   "name": "python",
   "nbconvert_exporter": "python",
   "pygments_lexer": "ipython3",
   "version": "3.8.5"
  }
 },
 "nbformat": 4,
 "nbformat_minor": 4
}
