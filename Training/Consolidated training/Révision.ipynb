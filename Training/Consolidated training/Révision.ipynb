{
 "cells": [
  {
   "cell_type": "markdown",
   "metadata": {},
   "source": [
    "<font size = 5><b><u> Exercice 1 : </u><b><font>"
   ]
  },
  {
   "cell_type": "code",
   "execution_count": 1,
   "metadata": {},
   "outputs": [],
   "source": [
    "def SurfaceRectangle(hauteur, largeur):\n",
    "    result = hauteur * largeur\n",
    "    return result"
   ]
  },
  {
   "cell_type": "code",
   "execution_count": 2,
   "metadata": {},
   "outputs": [
    {
     "name": "stdout",
     "output_type": "stream",
     "text": [
      "Saisir la hauteur puis la largeur du rectangle dont vous souhaitez calculer la surface : 5 3\n",
      "La surface du rectangle est de : 15.0\n"
     ]
    }
   ],
   "source": [
    "hauteur, largeur = input(\"Saisir la hauteur puis la largeur du rectangle dont vous souhaitez calculer la surface : \").split(\" \")\n",
    "print(\"La surface du rectangle est de :\", SurfaceRectangle(float(hauteur),float(largeur)))"
   ]
  },
  {
   "cell_type": "markdown",
   "metadata": {},
   "source": [
    "<font size = 5><b><u> Exercice 2 : </u><b><font>"
   ]
  },
  {
   "cell_type": "code",
   "execution_count": null,
   "metadata": {},
   "outputs": [],
   "source": [
    "def SommeOuMultiplication(x, y, operation):\n",
    "    if operation == \"s\":\n",
    "        result = x + y\n",
    "    else:\n",
    "        result = x * y\n",
    "    \n",
    "    return result"
   ]
  },
  {
   "cell_type": "code",
   "execution_count": 7,
   "metadata": {},
   "outputs": [
    {
     "name": "stdout",
     "output_type": "stream",
     "text": [
      "Saisir deux réels puis l'opération à réaliser (\"s\" pour une somme et \"p\" pour un produit) : 5 3 p\n",
      "Le résultat de l'opération est de : 15.0\n"
     ]
    }
   ],
   "source": [
    "x, y, operation = input(\"Saisir deux réels puis l'opération à réaliser (\\\"s\\\" pour une somme et \\\"p\\\" pour un produit) : \").split(\" \")\n",
    "print(\"Le résultat de l'opération est de :\", SommeOuMultiplication(float(x) , float(y), operation))"
   ]
  },
  {
   "cell_type": "markdown",
   "metadata": {},
   "source": [
    "<font size = 5><b><u> Exercice 3 : </u><b><font>"
   ]
  },
  {
   "cell_type": "code",
   "execution_count": 3,
   "metadata": {
    "scrolled": true
   },
   "outputs": [
    {
     "name": "stdout",
     "output_type": "stream",
     "text": [
      "Saisir votre choix (\"p\" pour pile et \"f\" pour face) : p\n",
      "Pas de chance, vous avez choisi Pile alors que la machine a tiré Face.\n",
      "Votre score actuel est de 0 et il vous reste 4 tirages.\n",
      "Saisir votre choix (\"p\" pour pile et \"f\" pour face) : p\n",
      "Bravo, vous avez gagné 1 point! Vous avez choisi Pile et la machine a tiré Pile.\n",
      "Votre score actuel est de 1 et il vous reste 3 tirages.\n",
      "Saisir votre choix (\"p\" pour pile et \"f\" pour face) : p\n",
      "Pas de chance, vous avez choisi Pile alors que la machine a tiré Face.\n",
      "Votre score actuel est de 1 et il vous reste 2 tirages.\n",
      "Saisir votre choix (\"p\" pour pile et \"f\" pour face) : p\n",
      "Bravo, vous avez gagné 1 point! Vous avez choisi Pile et la machine a tiré Pile.\n",
      "Votre score actuel est de 2 et il vous reste 1 tirages.\n",
      "Saisir votre choix (\"p\" pour pile et \"f\" pour face) : p\n",
      "Bravo, vous avez gagné 1 point! Vous avez choisi Pile et la machine a tiré Pile.\n",
      "Votre score actuel est de 3 et il vous reste 0 tirages.\n",
      "Fin de la partie, votre résulat final est de : 3.\n"
     ]
    }
   ],
   "source": [
    "import random\n",
    "\n",
    "counter = 0\n",
    "score = 0\n",
    "\n",
    "while counter < 5:\n",
    "    choix = input(\"Saisir votre choix (\\\"p\\\" pour pile et \\\"f\\\" pour face) : \")\n",
    "    n = random.randrange(2)\n",
    "    \n",
    "    if choix == \"p\":\n",
    "        choix = \"Pile\"\n",
    "    else:\n",
    "        choix = \"Face\"\n",
    "    \n",
    "    if n == 0:\n",
    "        game = \"Pile\"\n",
    "    else:\n",
    "        game = \"Face\"\n",
    "        \n",
    "    if choix == game:\n",
    "        score += 1\n",
    "        counter += 1\n",
    "        print(\"Bravo, vous avez gagné 1 point! Vous avez choisi {} et la machine a tiré {}.\".format(choix,game))\n",
    "        print(\"Votre score actuel est de {} et il vous reste {} tirages.\".format(score, 5-counter))\n",
    "    else:\n",
    "        counter += 1\n",
    "        print(\"Pas de chance, vous avez choisi {} alors que la machine a tiré {}.\".format(choix,game))\n",
    "        print(\"Votre score actuel est de {} et il vous reste {} tirages.\".format(score, 5-counter))\n",
    "        \n",
    "print(\"Fin de la partie, votre résulat final est de : {}.\".format(score))"
   ]
  },
  {
   "cell_type": "markdown",
   "metadata": {},
   "source": [
    "<font size = 5><b><u> Exercice 4 : </u><b><font>"
   ]
  },
  {
   "cell_type": "code",
   "execution_count": 4,
   "metadata": {},
   "outputs": [],
   "source": [
    "def FonctionMaximum(x, y, z):\n",
    "    result = x\n",
    "    \n",
    "    if y > result:\n",
    "        result = y\n",
    "    if z > result:\n",
    "        result = z\n",
    "    \n",
    "    return result"
   ]
  },
  {
   "cell_type": "code",
   "execution_count": 11,
   "metadata": {},
   "outputs": [
    {
     "data": {
      "text/plain": [
       "15.7"
      ]
     },
     "execution_count": 11,
     "metadata": {},
     "output_type": "execute_result"
    }
   ],
   "source": [
    "FonctionMaximum(2,3.5,15.7)"
   ]
  },
  {
   "cell_type": "markdown",
   "metadata": {},
   "source": [
    "<font size = 5><b><u> Exercice 5 : </u><b><font>"
   ]
  },
  {
   "cell_type": "code",
   "execution_count": 17,
   "metadata": {
    "scrolled": true
   },
   "outputs": [
    {
     "name": "stdout",
     "output_type": "stream",
     "text": [
      "Saisir un réel positif pour rajouter à la suite de sommes ou un nombre négatif ou nul pour arrêter : 5\n",
      "La somme actuelle est de : 5.0.\n",
      "Saisir un réel positif pour rajouter à la suite de sommes ou un nombre négatif ou nul pour arrêter : 5\n",
      "La somme actuelle est de : 10.0.\n",
      "Saisir un réel positif pour rajouter à la suite de sommes ou un nombre négatif ou nul pour arrêter : 5\n",
      "La somme actuelle est de : 15.0.\n",
      "Saisir un réel positif pour rajouter à la suite de sommes ou un nombre négatif ou nul pour arrêter : 5\n",
      "La somme actuelle est de : 20.0.\n",
      "Saisir un réel positif pour rajouter à la suite de sommes ou un nombre négatif ou nul pour arrêter : 5\n",
      "La somme actuelle est de : 25.0.\n",
      "Saisir un réel positif pour rajouter à la suite de sommes ou un nombre négatif ou nul pour arrêter : 0\n",
      "La somme actuelle est de : 25.0.\n",
      "La somme des nombre saisis est de 25.0 et leur moyenne est de 4.0.\n"
     ]
    }
   ],
   "source": [
    "choix = 1\n",
    "somme = 0\n",
    "counter = 0\n",
    "\n",
    "while float(choix) > 0: \n",
    "    choix = input(\"Saisir un réel positif pour rajouter à la suite de sommes ou un nombre négatif ou nul pour arrêter : \")\n",
    "    somme += float(choix)\n",
    "    counter += 1\n",
    "    print(\"La somme actuelle est de : {}.\".format(somme))\n",
    "    \n",
    "moyenne = somme // counter    \n",
    "print(\"La somme des nombre saisis est de {} et leur moyenne est de {}.\".format(somme,moyenne))"
   ]
  },
  {
   "cell_type": "markdown",
   "metadata": {},
   "source": [
    "<font size = 5><b><u> Factoriel : </u><b><font>"
   ]
  },
  {
   "cell_type": "code",
   "execution_count": 46,
   "metadata": {},
   "outputs": [],
   "source": [
    "def Factoriel(n):\n",
    "    if n == 0:\n",
    "        result = 1\n",
    "    else:\n",
    "        result = n\n",
    "        for i in range(1,n):\n",
    "            result = result * (n-i)\n",
    "            \n",
    "    return result"
   ]
  },
  {
   "cell_type": "code",
   "execution_count": 45,
   "metadata": {
    "scrolled": true
   },
   "outputs": [
    {
     "name": "stdout",
     "output_type": "stream",
     "text": [
      "Saisir le nombre dont vous souhaitez calculer le Factoriel : 8\n",
      "Le résultat de 8 Factoriel est de : 40320.\n"
     ]
    }
   ],
   "source": [
    "n = input(\"Saisir le nombre dont vous souhaitez calculer le Factoriel : \")\n",
    "n = int(n)\n",
    "\n",
    "print(\"Le résultat de {} Factoriel est de : {}.\".format(n,Factoriel(n)))"
   ]
  },
  {
   "cell_type": "markdown",
   "metadata": {},
   "source": [
    "<font size = 5><b><u> Fibonacci : </u><b><font>"
   ]
  },
  {
   "cell_type": "code",
   "execution_count": 99,
   "metadata": {},
   "outputs": [],
   "source": [
    "#Méthode avec boucle\n",
    "\n",
    "def SuiteFibonacciA(N):\n",
    "    \n",
    "    if N == 0:\n",
    "        Fibo = \"Résultat impossible\"\n",
    "    elif N == 1:\n",
    "        Fibo = N * [0]\n",
    "        Fibo[0] = 0\n",
    "    elif N == 2:\n",
    "        Fibo = N * [0]\n",
    "        Fibo[1] = 1\n",
    "    else:\n",
    "        Fibo = N * [0]\n",
    "        Fibo[0] = 0\n",
    "        Fibo[1] = 1\n",
    "        \n",
    "        n1 = Fibo[0]\n",
    "        n2 = Fibo[1]\n",
    "        \n",
    "        for i in range (2,N):\n",
    "            Fibo[i] = n1 + n2\n",
    "            \n",
    "            n1 = n2\n",
    "            n2 = Fibo[i]\n",
    "    \n",
    "    return Fibo"
   ]
  },
  {
   "cell_type": "code",
   "execution_count": 104,
   "metadata": {},
   "outputs": [
    {
     "data": {
      "text/plain": [
       "[0, 1, 1, 2, 3, 5, 8, 13, 21, 34]"
      ]
     },
     "execution_count": 104,
     "metadata": {},
     "output_type": "execute_result"
    }
   ],
   "source": [
    "SuiteFibonacciB(10)"
   ]
  },
  {
   "cell_type": "code",
   "execution_count": 98,
   "metadata": {},
   "outputs": [],
   "source": [
    "#Méthode avec récursivité\n",
    "\n",
    "def SuiteFibonacciB(N):\n",
    "    \n",
    "    if N == 0:\n",
    "        Fibo = \"Résultat impossible\"\n",
    "    elif N == 1:\n",
    "        Fibo = N * [0]\n",
    "        Fibo[0] = 0\n",
    "    elif N == 2:\n",
    "        Fibo = N * [0]\n",
    "        Fibo[1] = 1\n",
    "    else:\n",
    "        Fibo = N * [0]\n",
    "        Fibo[0] = 0\n",
    "        Fibo[1] = 1\n",
    "\n",
    "        for i in range(2, N):\n",
    "            Fibo[i] = Fibo[i-2] + Fibo[i-1]\n",
    "        \n",
    "    return Fibo"
   ]
  },
  {
   "cell_type": "code",
   "execution_count": 105,
   "metadata": {},
   "outputs": [
    {
     "data": {
      "text/plain": [
       "[0, 1, 1, 2, 3, 5, 8, 13, 21, 34]"
      ]
     },
     "execution_count": 105,
     "metadata": {},
     "output_type": "execute_result"
    }
   ],
   "source": [
    "SuiteFibonacciB(10)"
   ]
  }
 ],
 "metadata": {
  "kernelspec": {
   "display_name": "Python 3",
   "language": "python",
   "name": "python3"
  },
  "language_info": {
   "codemirror_mode": {
    "name": "ipython",
    "version": 3
   },
   "file_extension": ".py",
   "mimetype": "text/x-python",
   "name": "python",
   "nbconvert_exporter": "python",
   "pygments_lexer": "ipython3",
   "version": "3.6.5"
  }
 },
 "nbformat": 4,
 "nbformat_minor": 2
}
