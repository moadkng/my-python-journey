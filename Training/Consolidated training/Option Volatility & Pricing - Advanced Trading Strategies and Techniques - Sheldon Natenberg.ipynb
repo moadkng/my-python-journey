{
 "cells": [
  {
   "cell_type": "markdown",
   "metadata": {},
   "source": [
    "<b><font size = 4> Option Volatility & Pricing - Advanced Trading Strategies and Techniques - Sheldon Natenberg <font></b>"
   ]
  },
  {
   "cell_type": "code",
   "execution_count": 1,
   "metadata": {},
   "outputs": [],
   "source": [
    "#Importation des librairies et modules\n",
    "\n",
    "import pandas as pd\n",
    "import numpy as np\n",
    "import math\n",
    "from math import pi\n",
    "from math import e\n",
    "from math import sqrt\n",
    "from math import log\n",
    "from math import exp\n",
    "import matplotlib\n",
    "import matplotlib.pyplot as plt\n",
    "import scipy\n",
    "import scipy.stats as stats"
   ]
  },
  {
   "cell_type": "markdown",
   "metadata": {},
   "source": [
    "<b><u><font size = 3> Chapter 2 - Forward Pricing <font></u></b>"
   ]
  },
  {
   "cell_type": "markdown",
   "metadata": {},
   "source": [
    "<b> forward price = current cash price + costs of buying now - benefits of buying now </b>"
   ]
  },
  {
   "cell_type": "markdown",
   "metadata": {},
   "source": [
    "<u> Physical Commodities </u>"
   ]
  },
  {
   "cell_type": "code",
   "execution_count": 2,
   "metadata": {},
   "outputs": [],
   "source": [
    "#C = cash commodity price\n",
    "#F = forward commodity price\n",
    "#t = time to maturity of the forward contract\n",
    "#r = interest rate\n",
    "#s = annual storage costs per commodity unit\n",
    "#i = annual insurance costs per commodity unit"
   ]
  },
  {
   "cell_type": "code",
   "execution_count": 3,
   "metadata": {},
   "outputs": [],
   "source": [
    "def commodity_forward_price(C, t, r, s, i):\n",
    "\n",
    "    result = C * (1 + r * t) + (s * t) + (i * t)\n",
    "    \n",
    "    return result"
   ]
  },
  {
   "cell_type": "code",
   "execution_count": 4,
   "metadata": {},
   "outputs": [],
   "source": [
    "def implied_commodity_cash_price(F, t, r, s, i):\n",
    "    \n",
    "    C = (F - (s + i) * t) / (1 + r * t)\n",
    "    \n",
    "    result = C\n",
    "    \n",
    "    return result"
   ]
  },
  {
   "cell_type": "markdown",
   "metadata": {},
   "source": [
    "<u> Stocks </u>"
   ]
  },
  {
   "cell_type": "code",
   "execution_count": 5,
   "metadata": {},
   "outputs": [],
   "source": [
    "#S = cash stock price\n",
    "#F = forward stock price\n",
    "#t = time to maturity of the forward contract\n",
    "#r = interest rate over the life of the contract\n",
    "#D = all the dividends expected over the life of the forward contract (ignoring interest that can be earned on them) or divedend yield scaled by the time period"
   ]
  },
  {
   "cell_type": "code",
   "execution_count": 6,
   "metadata": {},
   "outputs": [],
   "source": [
    "def stock_forward_price(S, t, r, D):\n",
    "\n",
    "    result = S * (1 + r * t) - D\n",
    "    \n",
    "    return result"
   ]
  },
  {
   "cell_type": "code",
   "execution_count": 7,
   "metadata": {},
   "outputs": [],
   "source": [
    "def implied_stock_cash_price(F, t, r, D):\n",
    "    \n",
    "    S = (F + D) / (1 + r * t)\n",
    "    \n",
    "    result = S\n",
    "    \n",
    "    return result"
   ]
  },
  {
   "cell_type": "markdown",
   "metadata": {},
   "source": [
    "<u> FX </u>"
   ]
  },
  {
   "cell_type": "code",
   "execution_count": 8,
   "metadata": {},
   "outputs": [],
   "source": [
    "#S = currency spot (Domestic by Foreign)\n",
    "#F = forward currency price\n",
    "#t = time to maturity of the forward contract\n",
    "#rd = interest rate over the life of the contract of the domestic currency\n",
    "#rf = interest rate over the life of the contract of the foreign currency"
   ]
  },
  {
   "cell_type": "code",
   "execution_count": 9,
   "metadata": {},
   "outputs": [],
   "source": [
    "def fx_forward_price(S, t, rd, rf):\n",
    "\n",
    "    result = S * ((1 + rd * t) / (1 + rf * t))\n",
    "    \n",
    "    return result"
   ]
  },
  {
   "cell_type": "markdown",
   "metadata": {},
   "source": [
    "<u> Cash-and-Carry arbitrage / reverse Cash-and-Carry arbitrage (with short-selling) </u>"
   ]
  },
  {
   "cell_type": "code",
   "execution_count": 12,
   "metadata": {},
   "outputs": [],
   "source": [
    "def cc_rcc_arbitrage(direction, S, F, t, rl, rs, D):\n",
    "    \n",
    "    if direction == \"normal\":\n",
    "        \n",
    "        result = F - (S * (1 + rl * t) - D)\n",
    "        \n",
    "    elif direction == \"reverse\":\n",
    "        \n",
    "        result = (S * (1 + rs * t) - D) - F\n",
    "        \n",
    "    return result"
   ]
  },
  {
   "cell_type": "code",
   "execution_count": 13,
   "metadata": {},
   "outputs": [],
   "source": [
    "def is_cc_or_rcc_arbitrage_possible(S, F, t, rl, rs, D):\n",
    "    \n",
    "    if F > (S * (1 + rl * t) - D):\n",
    "        \n",
    "        result = \"A normal cash and carry is possible. The Forward price breakeven is : \" +  str(round((S * (1 + rl * t) - D), 2)) + \\\n",
    "        \". \" + \"The profit from the operation is : \" + str(round(F - (S * (1 + rl * t) - D), 2)) + \".\"\n",
    "        \n",
    "        \n",
    "    elif F < (S * (1 + rs * t) - D):\n",
    "        \n",
    "        result = \"A reverse cash and carry is possible. The Forward price breakeven is : \" + str(round((S * (1 + rs * t) - D), 2)) + \\\n",
    "        \". \" + \"The profit from the operation is : \" + str(round((S * (1 + rs * t) - D) - F, 2)) + \".\"\n",
    "    \n",
    "    else:\n",
    "    \n",
    "        result = \"No reverse Cash-and-Carry nor Reverse Cash-and-Carry are possible.\"\n",
    "    \n",
    "    return result"
   ]
  },
  {
   "cell_type": "markdown",
   "metadata": {},
   "source": [
    "<u> Payoffs Basic Options Strategies </u>"
   ]
  },
  {
   "cell_type": "code",
   "execution_count": 14,
   "metadata": {},
   "outputs": [],
   "source": [
    "#Long Call without premium\n",
    "\n",
    "def long_call(S, K):\n",
    "    \n",
    "    if S > K :\n",
    "        \n",
    "        result = S - K\n",
    "        \n",
    "    else:\n",
    "        \n",
    "        result = 0\n",
    "        \n",
    "    return result"
   ]
  },
  {
   "cell_type": "code",
   "execution_count": 15,
   "metadata": {},
   "outputs": [
    {
     "data": {
      "image/png": "[encoded data removed]",
      "text/plain": [
       "<Figure size 432x288 with 1 Axes>"
      ]
     },
     "metadata": {},
     "output_type": "display_data"
    }
   ],
   "source": [
    "K = 100\n",
    "\n",
    "x = np.linspace(K - 50, K + 50, 100)\n",
    "\n",
    "R_payoff = [long_call(i, K) for i in x]\n",
    "\n",
    "R_abscisse = [0 for i in x]\n",
    "\n",
    "plt.plot(x, R_abscisse, \"k\")\n",
    "plt.plot(x, R_payoff, \"b\")\n",
    "plt.ylabel(\"Payoff Long Call\")\n",
    "plt.xlabel(\"Underlying\")\n",
    "plt.axis([K - 50, K + 50, -50, 50])\n",
    "plt.show()"
   ]
  },
  {
   "cell_type": "code",
   "execution_count": 16,
   "metadata": {},
   "outputs": [],
   "source": [
    "#Long Put without premium\n",
    "\n",
    "def long_put(S, K):\n",
    "    \n",
    "    if S < K :\n",
    "        \n",
    "        result = K - S\n",
    "    \n",
    "    else:\n",
    "        \n",
    "        result = 0\n",
    "        \n",
    "    return result"
   ]
  },
  {
   "cell_type": "code",
   "execution_count": 17,
   "metadata": {},
   "outputs": [
    {
     "data": {
      "image/png": "[encoded data removed]",
      "text/plain": [
       "<Figure size 432x288 with 1 Axes>"
      ]
     },
     "metadata": {},
     "output_type": "display_data"
    }
   ],
   "source": [
    "K = 100\n",
    "\n",
    "x = np.linspace(K - 50, K + 50, 100)\n",
    "\n",
    "R_payoff = [long_put(i, K) for i in x]\n",
    "\n",
    "R_abscisse = [0 for i in x]\n",
    "\n",
    "plt.plot(x, R_abscisse, \"k\")\n",
    "plt.plot(x, R_payoff, \"b\")\n",
    "plt.ylabel(\"Payoff Long Call\")\n",
    "plt.xlabel(\"Underlying\")\n",
    "plt.axis([K - 50, K + 50, -50, 50])\n",
    "plt.show()"
   ]
  },
  {
   "cell_type": "code",
   "execution_count": 18,
   "metadata": {},
   "outputs": [
    {
     "data": {
      "image/png": "[encoded data removed]",
      "text/plain": [
       "<Figure size 432x288 with 1 Axes>"
      ]
     },
     "metadata": {},
     "output_type": "display_data"
    }
   ],
   "source": [
    "#Payoff Long Straddle\n",
    "\n",
    "K = 100\n",
    "\n",
    "x = np.linspace(K - 50, K + 50, 100)\n",
    "\n",
    "R_payoff = [(long_call(i, K) + long_put(i, K)) for i in x]\n",
    "\n",
    "R_abscisse = [0 for i in x]\n",
    "\n",
    "plt.plot(x, R_abscisse, \"k\")\n",
    "plt.plot(x, R_payoff, \"b\")\n",
    "plt.ylabel(\"Payoff Strategy\")\n",
    "plt.xlabel(\"Underlying\")\n",
    "plt.axis([K - 50, K + 50, -50, 50])\n",
    "plt.show()"
   ]
  },
  {
   "cell_type": "code",
   "execution_count": 19,
   "metadata": {},
   "outputs": [
    {
     "data": {
      "image/png": "[encoded data removed]",
      "text/plain": [
       "<Figure size 432x288 with 1 Axes>"
      ]
     },
     "metadata": {},
     "output_type": "display_data"
    }
   ],
   "source": [
    "#Payoff Short Straddle\n",
    "\n",
    "K = 100\n",
    "\n",
    "x = np.linspace(K - 50, K + 50, 100)\n",
    "\n",
    "R_payoff = [(- long_call(i, K) - long_put(i, K)) for i in x]\n",
    "\n",
    "R_abscisse = [0 for i in x]\n",
    "\n",
    "plt.plot(x, R_abscisse, \"k\")\n",
    "plt.plot(x, R_payoff, \"b\")\n",
    "plt.ylabel(\"Payoff Strategy\")\n",
    "plt.xlabel(\"Underlying\")\n",
    "plt.axis([K - 50, K + 50, -50, 50])\n",
    "plt.show()"
   ]
  },
  {
   "cell_type": "code",
   "execution_count": 20,
   "metadata": {},
   "outputs": [
    {
     "data": {
      "image/png": "[encoded data removed]",
      "text/plain": [
       "<Figure size 432x288 with 1 Axes>"
      ]
     },
     "metadata": {},
     "output_type": "display_data"
    }
   ],
   "source": [
    "#Payoff Synthetic Long\n",
    "\n",
    "K = 100\n",
    "\n",
    "x = np.linspace(K - 50, K + 50, 100)\n",
    "\n",
    "R_payoff = [(long_call(i, K) - long_put(i, K)) for i in x]\n",
    "\n",
    "R_abscisse = [0 for i in x]\n",
    "\n",
    "plt.plot(x, R_abscisse, \"k\")\n",
    "plt.plot(x, R_payoff, \"b\")\n",
    "plt.ylabel(\"Payoff Strategy\")\n",
    "plt.xlabel(\"Underlying\")\n",
    "plt.axis([K - 50, K + 50, -50, 50])\n",
    "plt.show()"
   ]
  },
  {
   "cell_type": "code",
   "execution_count": 21,
   "metadata": {},
   "outputs": [
    {
     "data": {
      "image/png": "[encoded data removed]",
      "text/plain": [
       "<Figure size 432x288 with 1 Axes>"
      ]
     },
     "metadata": {},
     "output_type": "display_data"
    }
   ],
   "source": [
    "#Payoff Synthetic Short\n",
    "\n",
    "K = 100\n",
    "\n",
    "x = np.linspace(K - 50, K + 50, 100)\n",
    "\n",
    "R_payoff = [( - long_call(i, K) + long_put(i, K)) for i in x]\n",
    "\n",
    "R_abscisse = [0 for i in x]\n",
    "\n",
    "plt.plot(x, R_abscisse, \"k\")\n",
    "plt.plot(x, R_payoff, \"b\")\n",
    "plt.ylabel(\"Payoff Strategy\")\n",
    "plt.xlabel(\"Underlying\")\n",
    "plt.axis([K - 50, K + 50, -50, 50])\n",
    "plt.show()"
   ]
  },
  {
   "cell_type": "code",
   "execution_count": 22,
   "metadata": {},
   "outputs": [
    {
     "data": {
      "image/png": "[encoded data removed]",
      "text/plain": [
       "<Figure size 432x288 with 1 Axes>"
      ]
     },
     "metadata": {},
     "output_type": "display_data"
    }
   ],
   "source": [
    "#Payoff Synthetic Straddle (Long 2 Calls + Short Underlying)\n",
    "\n",
    "K = 100\n",
    "\n",
    "x = np.linspace(K - 50, K + 50, 100)\n",
    "\n",
    "R_payoff = [(2 * long_call(i, K) - (i - K)) for i in x]\n",
    "\n",
    "R_abscisse = [0 for i in x]\n",
    "\n",
    "plt.plot(x, R_abscisse, \"k\")\n",
    "plt.plot(x, R_payoff, \"b\")\n",
    "plt.ylabel(\"Payoff Strategy\")\n",
    "plt.xlabel(\"Underlying\")\n",
    "plt.axis([K - 50, K + 50, -50, 50])\n",
    "plt.show()"
   ]
  },
  {
   "cell_type": "code",
   "execution_count": 51,
   "metadata": {
    "scrolled": true
   },
   "outputs": [
    {
     "data": {
      "image/png": "[encoded data removed]",
      "text/plain": [
       "<Figure size 432x288 with 1 Axes>"
      ]
     },
     "metadata": {},
     "output_type": "display_data"
    }
   ],
   "source": [
    "#Payoff Book\n",
    "\n",
    "x = np.linspace(K - 200, K + 100, 100)\n",
    "\n",
    "\n",
    "R_payoff = [(-4 * (i - K) + 3 * long_call(i, 65) + 2 * long_call(i, 70) - 6 * long_call(i, 75)  + 4 * long_call(i, 80) \\\n",
    "             + 2 * long_put(i, 65) - 4 * long_put(i, 70) + 3 * long_put(i, 75) - 2 * long_put(i, 80)) for i in x]\n",
    "\n",
    "R_abscisse = [0 for i in x]\n",
    "\n",
    "plt.plot(x, R_abscisse, \"k\")\n",
    "plt.plot(x, R_payoff, \"b\")\n",
    "plt.ylabel(\"Payoff Strategy\")\n",
    "plt.xlabel(\"Underlying\")\n",
    "plt.axis([K - 50, K + 20, -200, 200])\n",
    "plt.show()"
   ]
  }
 ],
 "metadata": {
  "kernelspec": {
   "display_name": "Python 3",
   "language": "python",
   "name": "python3"
  },
  "language_info": {
   "codemirror_mode": {
    "name": "ipython",
    "version": 3
   },
   "file_extension": ".py",
   "mimetype": "text/x-python",
   "name": "python",
   "nbconvert_exporter": "python",
   "pygments_lexer": "ipython3",
   "version": "3.6.5"
  }
 },
 "nbformat": 4,
 "nbformat_minor": 2
}
